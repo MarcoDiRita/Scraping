{
  "nbformat": 4,
  "nbformat_minor": 0,
  "metadata": {
    "colab": {
      "provenance": [],
      "collapsed_sections": [
        "STZyncI72HU0"
      ]
    },
    "kernelspec": {
      "name": "python3",
      "display_name": "Python 3"
    },
    "widgets": {
      "application/vnd.jupyter.widget-state+json": {
        "cf875a0b276b4857a26864f76e8660cf": {
          "model_module": "@jupyter-widgets/controls",
          "model_name": "HBoxModel",
          "model_module_version": "2.0.0",
          "state": {
            "_dom_classes": [],
            "_model_module": "@jupyter-widgets/controls",
            "_model_module_version": "2.0.0",
            "_model_name": "HBoxModel",
            "_view_count": null,
            "_view_module": "@jupyter-widgets/controls",
            "_view_module_version": "2.0.0",
            "_view_name": "HBoxView",
            "box_style": "",
            "children": [
              "IPY_MODEL_0ab1cf53b0184d7db8bd2e6901ac56ed",
              "IPY_MODEL_ff597f4d79d9411c902b7ec49f2df8f9",
              "IPY_MODEL_af566bc2f49a47809fea9acfaef71c20"
            ],
            "layout": "IPY_MODEL_e6bdf7fceaab4772bd98c0b9dc2a8cdc",
            "tabbable": null,
            "tooltip": null
          }
        },
        "0ab1cf53b0184d7db8bd2e6901ac56ed": {
          "model_module": "@jupyter-widgets/controls",
          "model_name": "HTMLModel",
          "model_module_version": "2.0.0",
          "state": {
            "_dom_classes": [],
            "_model_module": "@jupyter-widgets/controls",
            "_model_module_version": "2.0.0",
            "_model_name": "HTMLModel",
            "_view_count": null,
            "_view_module": "@jupyter-widgets/controls",
            "_view_module_version": "2.0.0",
            "_view_name": "HTMLView",
            "description": "",
            "description_allow_html": false,
            "layout": "IPY_MODEL_82a8e18fb4644210a3b692c9f778a8ad",
            "placeholder": "​",
            "style": "IPY_MODEL_2951a3f21d554135b92f0b62792539a9",
            "tabbable": null,
            "tooltip": null,
            "value": "100%"
          }
        },
        "ff597f4d79d9411c902b7ec49f2df8f9": {
          "model_module": "@jupyter-widgets/controls",
          "model_name": "FloatProgressModel",
          "model_module_version": "2.0.0",
          "state": {
            "_dom_classes": [],
            "_model_module": "@jupyter-widgets/controls",
            "_model_module_version": "2.0.0",
            "_model_name": "FloatProgressModel",
            "_view_count": null,
            "_view_module": "@jupyter-widgets/controls",
            "_view_module_version": "2.0.0",
            "_view_name": "ProgressView",
            "bar_style": "success",
            "description": "",
            "description_allow_html": false,
            "layout": "IPY_MODEL_12f5f33b8dbc426babecd51c5c591c89",
            "max": 35,
            "min": 0,
            "orientation": "horizontal",
            "style": "IPY_MODEL_ad01c9fa49ee4d9db1ab2a582909023c",
            "tabbable": null,
            "tooltip": null,
            "value": 35
          }
        },
        "af566bc2f49a47809fea9acfaef71c20": {
          "model_module": "@jupyter-widgets/controls",
          "model_name": "HTMLModel",
          "model_module_version": "2.0.0",
          "state": {
            "_dom_classes": [],
            "_model_module": "@jupyter-widgets/controls",
            "_model_module_version": "2.0.0",
            "_model_name": "HTMLModel",
            "_view_count": null,
            "_view_module": "@jupyter-widgets/controls",
            "_view_module_version": "2.0.0",
            "_view_name": "HTMLView",
            "description": "",
            "description_allow_html": false,
            "layout": "IPY_MODEL_195d39bf9c964bdab189f74949a0ecd9",
            "placeholder": "​",
            "style": "IPY_MODEL_f99969928ae04f63ab0776079143fd38",
            "tabbable": null,
            "tooltip": null,
            "value": " 35/35 [00:08&lt;00:00,  3.91it/s]"
          }
        },
        "e6bdf7fceaab4772bd98c0b9dc2a8cdc": {
          "model_module": "@jupyter-widgets/base",
          "model_name": "LayoutModel",
          "model_module_version": "2.0.0",
          "state": {
            "_model_module": "@jupyter-widgets/base",
            "_model_module_version": "2.0.0",
            "_model_name": "LayoutModel",
            "_view_count": null,
            "_view_module": "@jupyter-widgets/base",
            "_view_module_version": "2.0.0",
            "_view_name": "LayoutView",
            "align_content": null,
            "align_items": null,
            "align_self": null,
            "border_bottom": null,
            "border_left": null,
            "border_right": null,
            "border_top": null,
            "bottom": null,
            "display": null,
            "flex": null,
            "flex_flow": null,
            "grid_area": null,
            "grid_auto_columns": null,
            "grid_auto_flow": null,
            "grid_auto_rows": null,
            "grid_column": null,
            "grid_gap": null,
            "grid_row": null,
            "grid_template_areas": null,
            "grid_template_columns": null,
            "grid_template_rows": null,
            "height": null,
            "justify_content": null,
            "justify_items": null,
            "left": null,
            "margin": null,
            "max_height": null,
            "max_width": null,
            "min_height": null,
            "min_width": null,
            "object_fit": null,
            "object_position": null,
            "order": null,
            "overflow": null,
            "padding": null,
            "right": null,
            "top": null,
            "visibility": null,
            "width": null
          }
        },
        "82a8e18fb4644210a3b692c9f778a8ad": {
          "model_module": "@jupyter-widgets/base",
          "model_name": "LayoutModel",
          "model_module_version": "2.0.0",
          "state": {
            "_model_module": "@jupyter-widgets/base",
            "_model_module_version": "2.0.0",
            "_model_name": "LayoutModel",
            "_view_count": null,
            "_view_module": "@jupyter-widgets/base",
            "_view_module_version": "2.0.0",
            "_view_name": "LayoutView",
            "align_content": null,
            "align_items": null,
            "align_self": null,
            "border_bottom": null,
            "border_left": null,
            "border_right": null,
            "border_top": null,
            "bottom": null,
            "display": null,
            "flex": null,
            "flex_flow": null,
            "grid_area": null,
            "grid_auto_columns": null,
            "grid_auto_flow": null,
            "grid_auto_rows": null,
            "grid_column": null,
            "grid_gap": null,
            "grid_row": null,
            "grid_template_areas": null,
            "grid_template_columns": null,
            "grid_template_rows": null,
            "height": null,
            "justify_content": null,
            "justify_items": null,
            "left": null,
            "margin": null,
            "max_height": null,
            "max_width": null,
            "min_height": null,
            "min_width": null,
            "object_fit": null,
            "object_position": null,
            "order": null,
            "overflow": null,
            "padding": null,
            "right": null,
            "top": null,
            "visibility": null,
            "width": null
          }
        },
        "2951a3f21d554135b92f0b62792539a9": {
          "model_module": "@jupyter-widgets/controls",
          "model_name": "HTMLStyleModel",
          "model_module_version": "2.0.0",
          "state": {
            "_model_module": "@jupyter-widgets/controls",
            "_model_module_version": "2.0.0",
            "_model_name": "HTMLStyleModel",
            "_view_count": null,
            "_view_module": "@jupyter-widgets/base",
            "_view_module_version": "2.0.0",
            "_view_name": "StyleView",
            "background": null,
            "description_width": "",
            "font_size": null,
            "text_color": null
          }
        },
        "12f5f33b8dbc426babecd51c5c591c89": {
          "model_module": "@jupyter-widgets/base",
          "model_name": "LayoutModel",
          "model_module_version": "2.0.0",
          "state": {
            "_model_module": "@jupyter-widgets/base",
            "_model_module_version": "2.0.0",
            "_model_name": "LayoutModel",
            "_view_count": null,
            "_view_module": "@jupyter-widgets/base",
            "_view_module_version": "2.0.0",
            "_view_name": "LayoutView",
            "align_content": null,
            "align_items": null,
            "align_self": null,
            "border_bottom": null,
            "border_left": null,
            "border_right": null,
            "border_top": null,
            "bottom": null,
            "display": null,
            "flex": null,
            "flex_flow": null,
            "grid_area": null,
            "grid_auto_columns": null,
            "grid_auto_flow": null,
            "grid_auto_rows": null,
            "grid_column": null,
            "grid_gap": null,
            "grid_row": null,
            "grid_template_areas": null,
            "grid_template_columns": null,
            "grid_template_rows": null,
            "height": null,
            "justify_content": null,
            "justify_items": null,
            "left": null,
            "margin": null,
            "max_height": null,
            "max_width": null,
            "min_height": null,
            "min_width": null,
            "object_fit": null,
            "object_position": null,
            "order": null,
            "overflow": null,
            "padding": null,
            "right": null,
            "top": null,
            "visibility": null,
            "width": null
          }
        },
        "ad01c9fa49ee4d9db1ab2a582909023c": {
          "model_module": "@jupyter-widgets/controls",
          "model_name": "ProgressStyleModel",
          "model_module_version": "2.0.0",
          "state": {
            "_model_module": "@jupyter-widgets/controls",
            "_model_module_version": "2.0.0",
            "_model_name": "ProgressStyleModel",
            "_view_count": null,
            "_view_module": "@jupyter-widgets/base",
            "_view_module_version": "2.0.0",
            "_view_name": "StyleView",
            "bar_color": null,
            "description_width": ""
          }
        },
        "195d39bf9c964bdab189f74949a0ecd9": {
          "model_module": "@jupyter-widgets/base",
          "model_name": "LayoutModel",
          "model_module_version": "2.0.0",
          "state": {
            "_model_module": "@jupyter-widgets/base",
            "_model_module_version": "2.0.0",
            "_model_name": "LayoutModel",
            "_view_count": null,
            "_view_module": "@jupyter-widgets/base",
            "_view_module_version": "2.0.0",
            "_view_name": "LayoutView",
            "align_content": null,
            "align_items": null,
            "align_self": null,
            "border_bottom": null,
            "border_left": null,
            "border_right": null,
            "border_top": null,
            "bottom": null,
            "display": null,
            "flex": null,
            "flex_flow": null,
            "grid_area": null,
            "grid_auto_columns": null,
            "grid_auto_flow": null,
            "grid_auto_rows": null,
            "grid_column": null,
            "grid_gap": null,
            "grid_row": null,
            "grid_template_areas": null,
            "grid_template_columns": null,
            "grid_template_rows": null,
            "height": null,
            "justify_content": null,
            "justify_items": null,
            "left": null,
            "margin": null,
            "max_height": null,
            "max_width": null,
            "min_height": null,
            "min_width": null,
            "object_fit": null,
            "object_position": null,
            "order": null,
            "overflow": null,
            "padding": null,
            "right": null,
            "top": null,
            "visibility": null,
            "width": null
          }
        },
        "f99969928ae04f63ab0776079143fd38": {
          "model_module": "@jupyter-widgets/controls",
          "model_name": "HTMLStyleModel",
          "model_module_version": "2.0.0",
          "state": {
            "_model_module": "@jupyter-widgets/controls",
            "_model_module_version": "2.0.0",
            "_model_name": "HTMLStyleModel",
            "_view_count": null,
            "_view_module": "@jupyter-widgets/base",
            "_view_module_version": "2.0.0",
            "_view_name": "StyleView",
            "background": null,
            "description_width": "",
            "font_size": null,
            "text_color": null
          }
        },
        "7177e2e5b98e46bdabbb4b745a740379": {
          "model_module": "@jupyter-widgets/controls",
          "model_name": "HBoxModel",
          "model_module_version": "2.0.0",
          "state": {
            "_dom_classes": [],
            "_model_module": "@jupyter-widgets/controls",
            "_model_module_version": "2.0.0",
            "_model_name": "HBoxModel",
            "_view_count": null,
            "_view_module": "@jupyter-widgets/controls",
            "_view_module_version": "2.0.0",
            "_view_name": "HBoxView",
            "box_style": "",
            "children": [
              "IPY_MODEL_ce9d79677cd04dbe8c9ec20bd5778314",
              "IPY_MODEL_22a9713c6f3f435b84396d2ae398df79",
              "IPY_MODEL_0341ac40bf3043aea1d65212638f0f83"
            ],
            "layout": "IPY_MODEL_4febfee5be3e4508824a6853088d19a7",
            "tabbable": null,
            "tooltip": null
          }
        },
        "ce9d79677cd04dbe8c9ec20bd5778314": {
          "model_module": "@jupyter-widgets/controls",
          "model_name": "HTMLModel",
          "model_module_version": "2.0.0",
          "state": {
            "_dom_classes": [],
            "_model_module": "@jupyter-widgets/controls",
            "_model_module_version": "2.0.0",
            "_model_name": "HTMLModel",
            "_view_count": null,
            "_view_module": "@jupyter-widgets/controls",
            "_view_module_version": "2.0.0",
            "_view_name": "HTMLView",
            "description": "",
            "description_allow_html": false,
            "layout": "IPY_MODEL_22a8e062ee95439db71e240f88e85b38",
            "placeholder": "​",
            "style": "IPY_MODEL_49898b186f7446b0b0d3a4d7e5f085b4",
            "tabbable": null,
            "tooltip": null,
            "value": "100%"
          }
        },
        "22a9713c6f3f435b84396d2ae398df79": {
          "model_module": "@jupyter-widgets/controls",
          "model_name": "FloatProgressModel",
          "model_module_version": "2.0.0",
          "state": {
            "_dom_classes": [],
            "_model_module": "@jupyter-widgets/controls",
            "_model_module_version": "2.0.0",
            "_model_name": "FloatProgressModel",
            "_view_count": null,
            "_view_module": "@jupyter-widgets/controls",
            "_view_module_version": "2.0.0",
            "_view_name": "ProgressView",
            "bar_style": "success",
            "description": "",
            "description_allow_html": false,
            "layout": "IPY_MODEL_979491b025fa46b38492adbbf957c5b2",
            "max": 49,
            "min": 0,
            "orientation": "horizontal",
            "style": "IPY_MODEL_6a6606dd68b741979c24253f1aa3d323",
            "tabbable": null,
            "tooltip": null,
            "value": 49
          }
        },
        "0341ac40bf3043aea1d65212638f0f83": {
          "model_module": "@jupyter-widgets/controls",
          "model_name": "HTMLModel",
          "model_module_version": "2.0.0",
          "state": {
            "_dom_classes": [],
            "_model_module": "@jupyter-widgets/controls",
            "_model_module_version": "2.0.0",
            "_model_name": "HTMLModel",
            "_view_count": null,
            "_view_module": "@jupyter-widgets/controls",
            "_view_module_version": "2.0.0",
            "_view_name": "HTMLView",
            "description": "",
            "description_allow_html": false,
            "layout": "IPY_MODEL_7278b7f5a33642b1881a026036821842",
            "placeholder": "​",
            "style": "IPY_MODEL_a29bfbec87974e018169632765b59796",
            "tabbable": null,
            "tooltip": null,
            "value": " 49/49 [08:39&lt;00:00, 10.26s/it]"
          }
        },
        "4febfee5be3e4508824a6853088d19a7": {
          "model_module": "@jupyter-widgets/base",
          "model_name": "LayoutModel",
          "model_module_version": "2.0.0",
          "state": {
            "_model_module": "@jupyter-widgets/base",
            "_model_module_version": "2.0.0",
            "_model_name": "LayoutModel",
            "_view_count": null,
            "_view_module": "@jupyter-widgets/base",
            "_view_module_version": "2.0.0",
            "_view_name": "LayoutView",
            "align_content": null,
            "align_items": null,
            "align_self": null,
            "border_bottom": null,
            "border_left": null,
            "border_right": null,
            "border_top": null,
            "bottom": null,
            "display": null,
            "flex": null,
            "flex_flow": null,
            "grid_area": null,
            "grid_auto_columns": null,
            "grid_auto_flow": null,
            "grid_auto_rows": null,
            "grid_column": null,
            "grid_gap": null,
            "grid_row": null,
            "grid_template_areas": null,
            "grid_template_columns": null,
            "grid_template_rows": null,
            "height": null,
            "justify_content": null,
            "justify_items": null,
            "left": null,
            "margin": null,
            "max_height": null,
            "max_width": null,
            "min_height": null,
            "min_width": null,
            "object_fit": null,
            "object_position": null,
            "order": null,
            "overflow": null,
            "padding": null,
            "right": null,
            "top": null,
            "visibility": null,
            "width": null
          }
        },
        "22a8e062ee95439db71e240f88e85b38": {
          "model_module": "@jupyter-widgets/base",
          "model_name": "LayoutModel",
          "model_module_version": "2.0.0",
          "state": {
            "_model_module": "@jupyter-widgets/base",
            "_model_module_version": "2.0.0",
            "_model_name": "LayoutModel",
            "_view_count": null,
            "_view_module": "@jupyter-widgets/base",
            "_view_module_version": "2.0.0",
            "_view_name": "LayoutView",
            "align_content": null,
            "align_items": null,
            "align_self": null,
            "border_bottom": null,
            "border_left": null,
            "border_right": null,
            "border_top": null,
            "bottom": null,
            "display": null,
            "flex": null,
            "flex_flow": null,
            "grid_area": null,
            "grid_auto_columns": null,
            "grid_auto_flow": null,
            "grid_auto_rows": null,
            "grid_column": null,
            "grid_gap": null,
            "grid_row": null,
            "grid_template_areas": null,
            "grid_template_columns": null,
            "grid_template_rows": null,
            "height": null,
            "justify_content": null,
            "justify_items": null,
            "left": null,
            "margin": null,
            "max_height": null,
            "max_width": null,
            "min_height": null,
            "min_width": null,
            "object_fit": null,
            "object_position": null,
            "order": null,
            "overflow": null,
            "padding": null,
            "right": null,
            "top": null,
            "visibility": null,
            "width": null
          }
        },
        "49898b186f7446b0b0d3a4d7e5f085b4": {
          "model_module": "@jupyter-widgets/controls",
          "model_name": "HTMLStyleModel",
          "model_module_version": "2.0.0",
          "state": {
            "_model_module": "@jupyter-widgets/controls",
            "_model_module_version": "2.0.0",
            "_model_name": "HTMLStyleModel",
            "_view_count": null,
            "_view_module": "@jupyter-widgets/base",
            "_view_module_version": "2.0.0",
            "_view_name": "StyleView",
            "background": null,
            "description_width": "",
            "font_size": null,
            "text_color": null
          }
        },
        "979491b025fa46b38492adbbf957c5b2": {
          "model_module": "@jupyter-widgets/base",
          "model_name": "LayoutModel",
          "model_module_version": "2.0.0",
          "state": {
            "_model_module": "@jupyter-widgets/base",
            "_model_module_version": "2.0.0",
            "_model_name": "LayoutModel",
            "_view_count": null,
            "_view_module": "@jupyter-widgets/base",
            "_view_module_version": "2.0.0",
            "_view_name": "LayoutView",
            "align_content": null,
            "align_items": null,
            "align_self": null,
            "border_bottom": null,
            "border_left": null,
            "border_right": null,
            "border_top": null,
            "bottom": null,
            "display": null,
            "flex": null,
            "flex_flow": null,
            "grid_area": null,
            "grid_auto_columns": null,
            "grid_auto_flow": null,
            "grid_auto_rows": null,
            "grid_column": null,
            "grid_gap": null,
            "grid_row": null,
            "grid_template_areas": null,
            "grid_template_columns": null,
            "grid_template_rows": null,
            "height": null,
            "justify_content": null,
            "justify_items": null,
            "left": null,
            "margin": null,
            "max_height": null,
            "max_width": null,
            "min_height": null,
            "min_width": null,
            "object_fit": null,
            "object_position": null,
            "order": null,
            "overflow": null,
            "padding": null,
            "right": null,
            "top": null,
            "visibility": null,
            "width": null
          }
        },
        "6a6606dd68b741979c24253f1aa3d323": {
          "model_module": "@jupyter-widgets/controls",
          "model_name": "ProgressStyleModel",
          "model_module_version": "2.0.0",
          "state": {
            "_model_module": "@jupyter-widgets/controls",
            "_model_module_version": "2.0.0",
            "_model_name": "ProgressStyleModel",
            "_view_count": null,
            "_view_module": "@jupyter-widgets/base",
            "_view_module_version": "2.0.0",
            "_view_name": "StyleView",
            "bar_color": null,
            "description_width": ""
          }
        },
        "7278b7f5a33642b1881a026036821842": {
          "model_module": "@jupyter-widgets/base",
          "model_name": "LayoutModel",
          "model_module_version": "2.0.0",
          "state": {
            "_model_module": "@jupyter-widgets/base",
            "_model_module_version": "2.0.0",
            "_model_name": "LayoutModel",
            "_view_count": null,
            "_view_module": "@jupyter-widgets/base",
            "_view_module_version": "2.0.0",
            "_view_name": "LayoutView",
            "align_content": null,
            "align_items": null,
            "align_self": null,
            "border_bottom": null,
            "border_left": null,
            "border_right": null,
            "border_top": null,
            "bottom": null,
            "display": null,
            "flex": null,
            "flex_flow": null,
            "grid_area": null,
            "grid_auto_columns": null,
            "grid_auto_flow": null,
            "grid_auto_rows": null,
            "grid_column": null,
            "grid_gap": null,
            "grid_row": null,
            "grid_template_areas": null,
            "grid_template_columns": null,
            "grid_template_rows": null,
            "height": null,
            "justify_content": null,
            "justify_items": null,
            "left": null,
            "margin": null,
            "max_height": null,
            "max_width": null,
            "min_height": null,
            "min_width": null,
            "object_fit": null,
            "object_position": null,
            "order": null,
            "overflow": null,
            "padding": null,
            "right": null,
            "top": null,
            "visibility": null,
            "width": null
          }
        },
        "a29bfbec87974e018169632765b59796": {
          "model_module": "@jupyter-widgets/controls",
          "model_name": "HTMLStyleModel",
          "model_module_version": "2.0.0",
          "state": {
            "_model_module": "@jupyter-widgets/controls",
            "_model_module_version": "2.0.0",
            "_model_name": "HTMLStyleModel",
            "_view_count": null,
            "_view_module": "@jupyter-widgets/base",
            "_view_module_version": "2.0.0",
            "_view_name": "StyleView",
            "background": null,
            "description_width": "",
            "font_size": null,
            "text_color": null
          }
        },
        "9ba3e25c919e401f8ef0ed4818822a2f": {
          "model_module": "@jupyter-widgets/controls",
          "model_name": "HBoxModel",
          "model_module_version": "2.0.0",
          "state": {
            "_dom_classes": [],
            "_model_module": "@jupyter-widgets/controls",
            "_model_module_version": "2.0.0",
            "_model_name": "HBoxModel",
            "_view_count": null,
            "_view_module": "@jupyter-widgets/controls",
            "_view_module_version": "2.0.0",
            "_view_name": "HBoxView",
            "box_style": "",
            "children": [
              "IPY_MODEL_73fc3a1d5a934841a803d9551755776e",
              "IPY_MODEL_dbcedb1c312a46d7bcc53b3a29fed022",
              "IPY_MODEL_12455d8138914695897d7d9446fb3432"
            ],
            "layout": "IPY_MODEL_936738c37d2543589d02d0369f132f1a",
            "tabbable": null,
            "tooltip": null
          }
        },
        "73fc3a1d5a934841a803d9551755776e": {
          "model_module": "@jupyter-widgets/controls",
          "model_name": "HTMLModel",
          "model_module_version": "2.0.0",
          "state": {
            "_dom_classes": [],
            "_model_module": "@jupyter-widgets/controls",
            "_model_module_version": "2.0.0",
            "_model_name": "HTMLModel",
            "_view_count": null,
            "_view_module": "@jupyter-widgets/controls",
            "_view_module_version": "2.0.0",
            "_view_name": "HTMLView",
            "description": "",
            "description_allow_html": false,
            "layout": "IPY_MODEL_0569787132a74bf09b5f3506dbd4bc60",
            "placeholder": "​",
            "style": "IPY_MODEL_a61c6a82391d4601a044454514fa4d89",
            "tabbable": null,
            "tooltip": null,
            "value": "100%"
          }
        },
        "dbcedb1c312a46d7bcc53b3a29fed022": {
          "model_module": "@jupyter-widgets/controls",
          "model_name": "FloatProgressModel",
          "model_module_version": "2.0.0",
          "state": {
            "_dom_classes": [],
            "_model_module": "@jupyter-widgets/controls",
            "_model_module_version": "2.0.0",
            "_model_name": "FloatProgressModel",
            "_view_count": null,
            "_view_module": "@jupyter-widgets/controls",
            "_view_module_version": "2.0.0",
            "_view_name": "ProgressView",
            "bar_style": "success",
            "description": "",
            "description_allow_html": false,
            "layout": "IPY_MODEL_6040fb50edee40b0ad1f0e78a681601c",
            "max": 1811,
            "min": 0,
            "orientation": "horizontal",
            "style": "IPY_MODEL_0752097c258c442685ec97a8a74409a3",
            "tabbable": null,
            "tooltip": null,
            "value": 1811
          }
        },
        "12455d8138914695897d7d9446fb3432": {
          "model_module": "@jupyter-widgets/controls",
          "model_name": "HTMLModel",
          "model_module_version": "2.0.0",
          "state": {
            "_dom_classes": [],
            "_model_module": "@jupyter-widgets/controls",
            "_model_module_version": "2.0.0",
            "_model_name": "HTMLModel",
            "_view_count": null,
            "_view_module": "@jupyter-widgets/controls",
            "_view_module_version": "2.0.0",
            "_view_name": "HTMLView",
            "description": "",
            "description_allow_html": false,
            "layout": "IPY_MODEL_b51957be47a94e09b5e00d0020b54fc0",
            "placeholder": "​",
            "style": "IPY_MODEL_859eb63880f04195a0e96d2cfad49abd",
            "tabbable": null,
            "tooltip": null,
            "value": " 1811/1811 [2:24:06&lt;00:00,  4.73s/it]"
          }
        },
        "936738c37d2543589d02d0369f132f1a": {
          "model_module": "@jupyter-widgets/base",
          "model_name": "LayoutModel",
          "model_module_version": "2.0.0",
          "state": {
            "_model_module": "@jupyter-widgets/base",
            "_model_module_version": "2.0.0",
            "_model_name": "LayoutModel",
            "_view_count": null,
            "_view_module": "@jupyter-widgets/base",
            "_view_module_version": "2.0.0",
            "_view_name": "LayoutView",
            "align_content": null,
            "align_items": null,
            "align_self": null,
            "border_bottom": null,
            "border_left": null,
            "border_right": null,
            "border_top": null,
            "bottom": null,
            "display": null,
            "flex": null,
            "flex_flow": null,
            "grid_area": null,
            "grid_auto_columns": null,
            "grid_auto_flow": null,
            "grid_auto_rows": null,
            "grid_column": null,
            "grid_gap": null,
            "grid_row": null,
            "grid_template_areas": null,
            "grid_template_columns": null,
            "grid_template_rows": null,
            "height": null,
            "justify_content": null,
            "justify_items": null,
            "left": null,
            "margin": null,
            "max_height": null,
            "max_width": null,
            "min_height": null,
            "min_width": null,
            "object_fit": null,
            "object_position": null,
            "order": null,
            "overflow": null,
            "padding": null,
            "right": null,
            "top": null,
            "visibility": null,
            "width": null
          }
        },
        "0569787132a74bf09b5f3506dbd4bc60": {
          "model_module": "@jupyter-widgets/base",
          "model_name": "LayoutModel",
          "model_module_version": "2.0.0",
          "state": {
            "_model_module": "@jupyter-widgets/base",
            "_model_module_version": "2.0.0",
            "_model_name": "LayoutModel",
            "_view_count": null,
            "_view_module": "@jupyter-widgets/base",
            "_view_module_version": "2.0.0",
            "_view_name": "LayoutView",
            "align_content": null,
            "align_items": null,
            "align_self": null,
            "border_bottom": null,
            "border_left": null,
            "border_right": null,
            "border_top": null,
            "bottom": null,
            "display": null,
            "flex": null,
            "flex_flow": null,
            "grid_area": null,
            "grid_auto_columns": null,
            "grid_auto_flow": null,
            "grid_auto_rows": null,
            "grid_column": null,
            "grid_gap": null,
            "grid_row": null,
            "grid_template_areas": null,
            "grid_template_columns": null,
            "grid_template_rows": null,
            "height": null,
            "justify_content": null,
            "justify_items": null,
            "left": null,
            "margin": null,
            "max_height": null,
            "max_width": null,
            "min_height": null,
            "min_width": null,
            "object_fit": null,
            "object_position": null,
            "order": null,
            "overflow": null,
            "padding": null,
            "right": null,
            "top": null,
            "visibility": null,
            "width": null
          }
        },
        "a61c6a82391d4601a044454514fa4d89": {
          "model_module": "@jupyter-widgets/controls",
          "model_name": "HTMLStyleModel",
          "model_module_version": "2.0.0",
          "state": {
            "_model_module": "@jupyter-widgets/controls",
            "_model_module_version": "2.0.0",
            "_model_name": "HTMLStyleModel",
            "_view_count": null,
            "_view_module": "@jupyter-widgets/base",
            "_view_module_version": "2.0.0",
            "_view_name": "StyleView",
            "background": null,
            "description_width": "",
            "font_size": null,
            "text_color": null
          }
        },
        "6040fb50edee40b0ad1f0e78a681601c": {
          "model_module": "@jupyter-widgets/base",
          "model_name": "LayoutModel",
          "model_module_version": "2.0.0",
          "state": {
            "_model_module": "@jupyter-widgets/base",
            "_model_module_version": "2.0.0",
            "_model_name": "LayoutModel",
            "_view_count": null,
            "_view_module": "@jupyter-widgets/base",
            "_view_module_version": "2.0.0",
            "_view_name": "LayoutView",
            "align_content": null,
            "align_items": null,
            "align_self": null,
            "border_bottom": null,
            "border_left": null,
            "border_right": null,
            "border_top": null,
            "bottom": null,
            "display": null,
            "flex": null,
            "flex_flow": null,
            "grid_area": null,
            "grid_auto_columns": null,
            "grid_auto_flow": null,
            "grid_auto_rows": null,
            "grid_column": null,
            "grid_gap": null,
            "grid_row": null,
            "grid_template_areas": null,
            "grid_template_columns": null,
            "grid_template_rows": null,
            "height": null,
            "justify_content": null,
            "justify_items": null,
            "left": null,
            "margin": null,
            "max_height": null,
            "max_width": null,
            "min_height": null,
            "min_width": null,
            "object_fit": null,
            "object_position": null,
            "order": null,
            "overflow": null,
            "padding": null,
            "right": null,
            "top": null,
            "visibility": null,
            "width": null
          }
        },
        "0752097c258c442685ec97a8a74409a3": {
          "model_module": "@jupyter-widgets/controls",
          "model_name": "ProgressStyleModel",
          "model_module_version": "2.0.0",
          "state": {
            "_model_module": "@jupyter-widgets/controls",
            "_model_module_version": "2.0.0",
            "_model_name": "ProgressStyleModel",
            "_view_count": null,
            "_view_module": "@jupyter-widgets/base",
            "_view_module_version": "2.0.0",
            "_view_name": "StyleView",
            "bar_color": null,
            "description_width": ""
          }
        },
        "b51957be47a94e09b5e00d0020b54fc0": {
          "model_module": "@jupyter-widgets/base",
          "model_name": "LayoutModel",
          "model_module_version": "2.0.0",
          "state": {
            "_model_module": "@jupyter-widgets/base",
            "_model_module_version": "2.0.0",
            "_model_name": "LayoutModel",
            "_view_count": null,
            "_view_module": "@jupyter-widgets/base",
            "_view_module_version": "2.0.0",
            "_view_name": "LayoutView",
            "align_content": null,
            "align_items": null,
            "align_self": null,
            "border_bottom": null,
            "border_left": null,
            "border_right": null,
            "border_top": null,
            "bottom": null,
            "display": null,
            "flex": null,
            "flex_flow": null,
            "grid_area": null,
            "grid_auto_columns": null,
            "grid_auto_flow": null,
            "grid_auto_rows": null,
            "grid_column": null,
            "grid_gap": null,
            "grid_row": null,
            "grid_template_areas": null,
            "grid_template_columns": null,
            "grid_template_rows": null,
            "height": null,
            "justify_content": null,
            "justify_items": null,
            "left": null,
            "margin": null,
            "max_height": null,
            "max_width": null,
            "min_height": null,
            "min_width": null,
            "object_fit": null,
            "object_position": null,
            "order": null,
            "overflow": null,
            "padding": null,
            "right": null,
            "top": null,
            "visibility": null,
            "width": null
          }
        },
        "859eb63880f04195a0e96d2cfad49abd": {
          "model_module": "@jupyter-widgets/controls",
          "model_name": "HTMLStyleModel",
          "model_module_version": "2.0.0",
          "state": {
            "_model_module": "@jupyter-widgets/controls",
            "_model_module_version": "2.0.0",
            "_model_name": "HTMLStyleModel",
            "_view_count": null,
            "_view_module": "@jupyter-widgets/base",
            "_view_module_version": "2.0.0",
            "_view_name": "StyleView",
            "background": null,
            "description_width": "",
            "font_size": null,
            "text_color": null
          }
        }
      }
    }
  },
  "cells": [
    {
      "cell_type": "markdown",
      "metadata": {
        "id": "VYfg3I_fSt6e"
      },
      "source": [
        "# WebScraping with Selenium\n",
        "\n",
        "This notebook shows how use selenium to scrape data from Indiegogo.com\n",
        "The scope is only to understand the capabilities of web scraping and prepare a dataset for academic purporse.\n",
        "\n",
        "Let’s begin writing our scraper!\n",
        "\n",
        "We will first install important modules and packages for our Notebook\n",
        "\n",
        "\n",
        "*   Selenium\n",
        "*   Chromium-chromedriver\n",
        "\n",
        "<a href=\"https://colab.research.google.com/drive/1_WyM24eXWf-pdcqJKCcsb1pWwnbEWRi8?authuser=2#scrollTo=VYfg3I_fSt6e\"><img align=\"left\" src=\"https://colab.research.google.com/assets/colab-badge.svg\" alt=\"Open in Colab\" title=\"Open and Execute in Google Colaboratory\"></a>\n"
      ]
    },
    {
      "cell_type": "code",
      "metadata": {
        "id": "6E11q1711nmO",
        "colab": {
          "base_uri": "https://localhost:8080/"
        },
        "outputId": "054d2ee7-9815-4231-8e43-80695b73f477"
      },
      "source": [
        "!pip install selenium\n",
        "!apt-get update\n",
        "!apt install chromium-chromedriver\n",
        "!cp /usr/lib/chromium-browser/chromedriver /usr/bin"
      ],
      "execution_count": null,
      "outputs": [
        {
          "output_type": "stream",
          "name": "stdout",
          "text": [
            "Looking in indexes: https://pypi.org/simple, https://us-python.pkg.dev/colab-wheels/public/simple/\n",
            "Requirement already satisfied: selenium in /usr/local/lib/python3.7/dist-packages (4.4.3)\n",
            "Requirement already satisfied: trio~=0.17 in /usr/local/lib/python3.7/dist-packages (from selenium) (0.21.0)\n",
            "Requirement already satisfied: urllib3[socks]~=1.26 in /usr/local/lib/python3.7/dist-packages (from selenium) (1.26.11)\n",
            "Requirement already satisfied: certifi>=2021.10.8 in /usr/local/lib/python3.7/dist-packages (from selenium) (2022.6.15)\n",
            "Requirement already satisfied: trio-websocket~=0.9 in /usr/local/lib/python3.7/dist-packages (from selenium) (0.9.2)\n",
            "Requirement already satisfied: attrs>=19.2.0 in /usr/local/lib/python3.7/dist-packages (from trio~=0.17->selenium) (22.1.0)\n",
            "Requirement already satisfied: sortedcontainers in /usr/local/lib/python3.7/dist-packages (from trio~=0.17->selenium) (2.4.0)\n",
            "Requirement already satisfied: idna in /usr/local/lib/python3.7/dist-packages (from trio~=0.17->selenium) (2.10)\n",
            "Requirement already satisfied: sniffio in /usr/local/lib/python3.7/dist-packages (from trio~=0.17->selenium) (1.2.0)\n",
            "Requirement already satisfied: outcome in /usr/local/lib/python3.7/dist-packages (from trio~=0.17->selenium) (1.2.0)\n",
            "Requirement already satisfied: async-generator>=1.9 in /usr/local/lib/python3.7/dist-packages (from trio~=0.17->selenium) (1.10)\n",
            "Requirement already satisfied: wsproto>=0.14 in /usr/local/lib/python3.7/dist-packages (from trio-websocket~=0.9->selenium) (1.1.0)\n",
            "Requirement already satisfied: PySocks!=1.5.7,<2.0,>=1.5.6 in /usr/local/lib/python3.7/dist-packages (from urllib3[socks]~=1.26->selenium) (1.7.1)\n",
            "Requirement already satisfied: h11<1,>=0.9.0 in /usr/local/lib/python3.7/dist-packages (from wsproto>=0.14->trio-websocket~=0.9->selenium) (0.13.0)\n",
            "Requirement already satisfied: typing-extensions in /usr/local/lib/python3.7/dist-packages (from h11<1,>=0.9.0->wsproto>=0.14->trio-websocket~=0.9->selenium) (4.1.1)\n",
            "Ign:1 https://developer.download.nvidia.com/compute/machine-learning/repos/ubuntu1804/x86_64  InRelease\n",
            "Hit:2 https://developer.download.nvidia.com/compute/cuda/repos/ubuntu1804/x86_64  InRelease\n",
            "Hit:3 https://developer.download.nvidia.com/compute/machine-learning/repos/ubuntu1804/x86_64  Release\n",
            "Hit:4 https://cloud.r-project.org/bin/linux/ubuntu bionic-cran40/ InRelease\n",
            "Get:5 http://security.ubuntu.com/ubuntu bionic-security InRelease [88.7 kB]\n",
            "Hit:6 http://archive.ubuntu.com/ubuntu bionic InRelease\n",
            "Hit:7 http://ppa.launchpad.net/c2d4u.team/c2d4u4.0+/ubuntu bionic InRelease\n",
            "Get:9 http://archive.ubuntu.com/ubuntu bionic-updates InRelease [88.7 kB]\n",
            "Hit:10 http://ppa.launchpad.net/cran/libgit2/ubuntu bionic InRelease\n",
            "Hit:11 http://ppa.launchpad.net/deadsnakes/ppa/ubuntu bionic InRelease\n",
            "Get:12 http://archive.ubuntu.com/ubuntu bionic-backports InRelease [74.6 kB]\n",
            "Hit:13 http://ppa.launchpad.net/graphics-drivers/ppa/ubuntu bionic InRelease\n",
            "Fetched 252 kB in 2s (109 kB/s)\n",
            "Reading package lists... Done\n",
            "Reading package lists... Done\n",
            "Building dependency tree       \n",
            "Reading state information... Done\n",
            "chromium-chromedriver is already the newest version (103.0.5060.134-0ubuntu0.18.04.1).\n",
            "The following package was automatically installed and is no longer required:\n",
            "  libnvidia-common-460\n",
            "Use 'apt autoremove' to remove it.\n",
            "0 upgraded, 0 newly installed, 0 to remove and 25 not upgraded.\n",
            "cp: '/usr/lib/chromium-browser/chromedriver' and '/usr/bin/chromedriver' are the same file\n"
          ]
        }
      ]
    },
    {
      "cell_type": "markdown",
      "metadata": {
        "id": "kuhZcDh4UHYp"
      },
      "source": [
        "And now we will import some modules on our Notebook\n",
        "\n",
        "\n",
        "1.   sys: to setup the path of chrome driver\n",
        "2.   selenium: to emulate the user behaviour\n",
        "3.   pandas: to work with data\n",
        "4.   tqdm: to show a progress bar in our notebook\n",
        "5.   json: to work with json format\n",
        "\n",
        "\n",
        "\n"
      ]
    },
    {
      "cell_type": "code",
      "metadata": {
        "id": "YRt5yEXxA-jW"
      },
      "source": [
        "import sys\n",
        "import logging\n",
        "from selenium.webdriver.remote.remote_connection import LOGGER\n",
        "LOGGER.setLevel(logging.WARNING)\n",
        "sys.path.insert(0,'/usr/lib/chromium-browser/chromedriver')\n",
        "from selenium import webdriver\n",
        "from selenium.webdriver.common.by import By\n",
        "from tqdm import tqdm_notebook as tqdm\n",
        "import pandas\n",
        "import json\n",
        "import pprint"
      ],
      "execution_count": null,
      "outputs": []
    },
    {
      "cell_type": "markdown",
      "metadata": {
        "id": "ksyefP35VQc2"
      },
      "source": [
        "First we need to set the options for the ghost browser.\n",
        "The most important is `--headless` because we are in a \"cloud\" ntotebook. In our local notebook we can remove the `--headless` option.  \n"
      ]
    },
    {
      "cell_type": "code",
      "metadata": {
        "id": "DTfvdy_gBCBU"
      },
      "source": [
        "chrome_options = webdriver.ChromeOptions()\n",
        "chrome_options.add_argument('--headless')\n",
        "chrome_options.add_argument('--no-sandbox')\n",
        "chrome_options.add_argument('--disable-dev-shm-usage')\n",
        "chrome_options.add_argument(\"user-agent=Mozilla/5.0 (Macintosh; Intel Mac OS X 10_15_7) AppleWebKit/537.36 (KHTML, like Gecko) Chrome/90.0.4430.212 Safari/537.36\")"
      ],
      "execution_count": null,
      "outputs": []
    },
    {
      "cell_type": "markdown",
      "metadata": {
        "id": "0DpumOn7VoFw"
      },
      "source": [
        "`webdriver` is the most importa object in Selenium.\n",
        "With `webdriver` we can start the phantom browser, emulate the user navigation and scrape our data. \n",
        "\n",
        "Let’s now create a new instance of google chrome.\n",
        "\n",
        "\n",
        "We will navitage to page by a `get` request. With http we can do a get or a post (or others but they are not important for us): https://www.w3schools.com/tags/ref_httpmethods.asp \n",
        "\n",
        "\n",
        "\n",
        "```\n",
        "wd.get(\"https://www.indiegogo.com/explore/all?project_type=campaign&project_timing=all&sort=trending\")\n",
        "```\n",
        "\n"
      ]
    },
    {
      "cell_type": "markdown",
      "metadata": {
        "id": "STZyncI72HU0"
      },
      "source": [
        "## [Advanced] How to use a proxy to hide our connection"
      ]
    },
    {
      "cell_type": "markdown",
      "metadata": {
        "id": "mCpjEkYGa5K4"
      },
      "source": [
        "RequestProxy is used to **hide** our connection..."
      ]
    },
    {
      "cell_type": "code",
      "metadata": {
        "colab": {
          "base_uri": "https://localhost:8080/"
        },
        "id": "4Q1DZJTJ2pm8",
        "outputId": "c6417dce-4696-4bb8-e745-9fd7cf804f01"
      },
      "source": [
        "!pip install http-request-randomizer"
      ],
      "execution_count": null,
      "outputs": [
        {
          "output_type": "stream",
          "name": "stdout",
          "text": [
            "Looking in indexes: https://pypi.org/simple, https://us-python.pkg.dev/colab-wheels/public/simple/\n",
            "Collecting http-request-randomizer\n",
            "  Downloading http_request_randomizer-1.3.2.tar.gz (10.9 MB)\n",
            "\u001b[K     |████████████████████████████████| 10.9 MB 7.6 MB/s \n",
            "\u001b[?25hCollecting beautifulsoup4>=4.9.3\n",
            "  Downloading beautifulsoup4-4.11.1-py3-none-any.whl (128 kB)\n",
            "\u001b[K     |████████████████████████████████| 128 kB 47.7 MB/s \n",
            "\u001b[?25hCollecting httmock>=1.3.0\n",
            "  Downloading httmock-1.4.0-py3-none-any.whl (4.8 kB)\n",
            "Collecting psutil>=5.7.2\n",
            "  Downloading psutil-5.9.1-cp37-cp37m-manylinux_2_12_x86_64.manylinux2010_x86_64.manylinux_2_17_x86_64.manylinux2014_x86_64.whl (281 kB)\n",
            "\u001b[K     |████████████████████████████████| 281 kB 38.7 MB/s \n",
            "\u001b[?25hRequirement already satisfied: python-dateutil>=2.8.1 in /usr/local/lib/python3.7/dist-packages (from http-request-randomizer) (2.8.2)\n",
            "Collecting requests>=2.24.0\n",
            "  Downloading requests-2.28.1-py3-none-any.whl (62 kB)\n",
            "\u001b[K     |████████████████████████████████| 62 kB 525 kB/s \n",
            "\u001b[?25hRequirement already satisfied: pyOpenSSL>=19.1.0 in /usr/local/lib/python3.7/dist-packages (from http-request-randomizer) (22.0.0)\n",
            "Collecting fake-useragent>=0.1.11\n",
            "  Downloading fake-useragent-0.1.11.tar.gz (13 kB)\n",
            "Requirement already satisfied: soupsieve>1.2 in /usr/local/lib/python3.7/dist-packages (from beautifulsoup4>=4.9.3->http-request-randomizer) (2.3.2.post1)\n",
            "Requirement already satisfied: cryptography>=35.0 in /usr/local/lib/python3.7/dist-packages (from pyOpenSSL>=19.1.0->http-request-randomizer) (37.0.4)\n",
            "Requirement already satisfied: cffi>=1.12 in /usr/local/lib/python3.7/dist-packages (from cryptography>=35.0->pyOpenSSL>=19.1.0->http-request-randomizer) (1.15.1)\n",
            "Requirement already satisfied: pycparser in /usr/local/lib/python3.7/dist-packages (from cffi>=1.12->cryptography>=35.0->pyOpenSSL>=19.1.0->http-request-randomizer) (2.21)\n",
            "Requirement already satisfied: six>=1.5 in /usr/local/lib/python3.7/dist-packages (from python-dateutil>=2.8.1->http-request-randomizer) (1.15.0)\n",
            "Requirement already satisfied: charset-normalizer<3,>=2 in /usr/local/lib/python3.7/dist-packages (from requests>=2.24.0->http-request-randomizer) (2.1.0)\n",
            "Requirement already satisfied: urllib3<1.27,>=1.21.1 in /usr/local/lib/python3.7/dist-packages (from requests>=2.24.0->http-request-randomizer) (1.26.11)\n",
            "Requirement already satisfied: certifi>=2017.4.17 in /usr/local/lib/python3.7/dist-packages (from requests>=2.24.0->http-request-randomizer) (2022.6.15)\n",
            "Requirement already satisfied: idna<4,>=2.5 in /usr/local/lib/python3.7/dist-packages (from requests>=2.24.0->http-request-randomizer) (2.10)\n",
            "Building wheels for collected packages: http-request-randomizer, fake-useragent\n",
            "  Building wheel for http-request-randomizer (setup.py) ... \u001b[?25l\u001b[?25hdone\n",
            "  Created wheel for http-request-randomizer: filename=http_request_randomizer-1.3.2-py3-none-any.whl size=33054 sha256=412c2e4626511afa74c7c2cc91949c798b91c25f20f34bae6240a16bdcafad51\n",
            "  Stored in directory: /root/.cache/pip/wheels/6e/51/7c/2f01a661be62cc503bd5d1d4c7c39b2b5bce151c6bf6a7c644\n",
            "  Building wheel for fake-useragent (setup.py) ... \u001b[?25l\u001b[?25hdone\n",
            "  Created wheel for fake-useragent: filename=fake_useragent-0.1.11-py3-none-any.whl size=13502 sha256=97f9ad61a28f5223c0ed3f72b098e73b26a99b4d135f94006a9688635b420a36\n",
            "  Stored in directory: /root/.cache/pip/wheels/ed/f7/62/50ab6c9a0b5567267ab76a9daa9d06315704209b2c5d032031\n",
            "Successfully built http-request-randomizer fake-useragent\n",
            "Traceback (most recent call last):\n",
            "  File \"/usr/local/lib/python3.7/dist-packages/pip/_vendor/pkg_resources/__init__.py\", line 3021, in _dep_map\n",
            "    return self.__dep_map\n",
            "  File \"/usr/local/lib/python3.7/dist-packages/pip/_vendor/pkg_resources/__init__.py\", line 2815, in __getattr__\n",
            "    raise AttributeError(attr)\n",
            "AttributeError: _DistInfoDistribution__dep_map\n",
            "\n",
            "During handling of the above exception, another exception occurred:\n",
            "\n",
            "Traceback (most recent call last):\n",
            "  File \"/usr/local/lib/python3.7/dist-packages/pip/_internal/cli/base_command.py\", line 180, in _main\n",
            "    status = self.run(options, args)\n",
            "  File \"/usr/local/lib/python3.7/dist-packages/pip/_internal/cli/req_command.py\", line 199, in wrapper\n",
            "    return func(self, options, args)\n",
            "  File \"/usr/local/lib/python3.7/dist-packages/pip/_internal/commands/install.py\", line 385, in run\n",
            "    conflicts = self._determine_conflicts(to_install)\n",
            "  File \"/usr/local/lib/python3.7/dist-packages/pip/_internal/commands/install.py\", line 515, in _determine_conflicts\n",
            "    return check_install_conflicts(to_install)\n",
            "  File \"/usr/local/lib/python3.7/dist-packages/pip/_internal/operations/check.py\", line 103, in check_install_conflicts\n",
            "    package_set, _ = create_package_set_from_installed()\n",
            "  File \"/usr/local/lib/python3.7/dist-packages/pip/_internal/operations/check.py\", line 45, in create_package_set_from_installed\n",
            "    package_set[name] = PackageDetails(dist.version, dist.requires())\n",
            "  File \"/usr/local/lib/python3.7/dist-packages/pip/_vendor/pkg_resources/__init__.py\", line 2736, in requires\n",
            "    dm = self._dep_map\n",
            "  File \"/usr/local/lib/python3.7/dist-packages/pip/_vendor/pkg_resources/__init__.py\", line 3023, in _dep_map\n",
            "    self.__dep_map = self._compute_dependencies()\n",
            "  File \"/usr/local/lib/python3.7/dist-packages/pip/_vendor/pkg_resources/__init__.py\", line 3033, in _compute_dependencies\n",
            "    reqs.extend(parse_requirements(req))\n",
            "  File \"/usr/local/lib/python3.7/dist-packages/pip/_vendor/pkg_resources/__init__.py\", line 3094, in parse_requirements\n",
            "    yield Requirement(line)\n",
            "  File \"/usr/local/lib/python3.7/dist-packages/pip/_vendor/pkg_resources/__init__.py\", line 3101, in __init__\n",
            "    super(Requirement, self).__init__(requirement_string)\n",
            "  File \"/usr/local/lib/python3.7/dist-packages/pip/_vendor/packaging/requirements.py\", line 121, in __init__\n",
            "    self.name = req.name  # type: str\n",
            "KeyboardInterrupt\n",
            "\n",
            "During handling of the above exception, another exception occurred:\n",
            "\n",
            "Traceback (most recent call last):\n",
            "  File \"/usr/local/bin/pip3\", line 8, in <module>\n",
            "    sys.exit(main())\n",
            "  File \"/usr/local/lib/python3.7/dist-packages/pip/_internal/cli/main.py\", line 71, in main\n",
            "    return command.main(cmd_args)\n",
            "  File \"/usr/local/lib/python3.7/dist-packages/pip/_internal/cli/base_command.py\", line 104, in main\n",
            "    return self._main(args)\n",
            "  File \"/usr/local/lib/python3.7/dist-packages/pip/_internal/cli/base_command.py\", line 212, in _main\n",
            "    logger.critical(\"Operation cancelled by user\")\n",
            "  File \"/usr/lib/python3.7/logging/__init__.py\", line 1425, in critical\n",
            "    self._log(CRITICAL, msg, args, **kwargs)\n",
            "  File \"/usr/lib/python3.7/logging/__init__.py\", line 1514, in _log\n",
            "    self.handle(record)\n",
            "  File \"/usr/lib/python3.7/logging/__init__.py\", line 1524, in handle\n",
            "    self.callHandlers(record)\n",
            "  File \"/usr/lib/python3.7/logging/__init__.py\", line 1586, in callHandlers\n",
            "    hdlr.handle(record)\n",
            "  File \"/usr/lib/python3.7/logging/__init__.py\", line 894, in handle\n",
            "    self.emit(record)\n",
            "  File \"/usr/lib/python3.7/logging/__init__.py\", line 1025, in emit\n",
            "    msg = self.format(record)\n",
            "  File \"/usr/local/lib/python3.7/dist-packages/pip/_internal/utils/logging.py\", line 208, in format\n",
            "    msg = super().format(record)\n",
            "  File \"/usr/lib/python3.7/logging/__init__.py\", line 865, in format\n",
            "    if self.formatter:\n",
            "KeyboardInterrupt\n"
          ]
        }
      ]
    },
    {
      "cell_type": "code",
      "metadata": {
        "colab": {
          "base_uri": "https://localhost:8080/"
        },
        "id": "Y90JyVfdHcQ7",
        "outputId": "238d543a-9c61-4d39-b162-113d0020f427"
      },
      "source": [
        "from http_request_randomizer.requests.proxy.requestProxy import RequestProxy\n",
        "req_proxy = RequestProxy()\n",
        "proxies = req_proxy.get_proxy_list()"
      ],
      "execution_count": null,
      "outputs": [
        {
          "output_type": "error",
          "ename": "ModuleNotFoundError",
          "evalue": "ignored",
          "traceback": [
            "\u001b[0;31m---------------------------------------------------------------------------\u001b[0m",
            "\u001b[0;31mModuleNotFoundError\u001b[0m                       Traceback (most recent call last)",
            "\u001b[0;32m<ipython-input-5-6743052dfc51>\u001b[0m in \u001b[0;36m<module>\u001b[0;34m()\u001b[0m\n\u001b[0;32m----> 1\u001b[0;31m \u001b[0;32mfrom\u001b[0m \u001b[0mhttp_request_randomizer\u001b[0m\u001b[0;34m.\u001b[0m\u001b[0mrequests\u001b[0m\u001b[0;34m.\u001b[0m\u001b[0mproxy\u001b[0m\u001b[0;34m.\u001b[0m\u001b[0mrequestProxy\u001b[0m \u001b[0;32mimport\u001b[0m \u001b[0mRequestProxy\u001b[0m\u001b[0;34m\u001b[0m\u001b[0;34m\u001b[0m\u001b[0m\n\u001b[0m\u001b[1;32m      2\u001b[0m \u001b[0mreq_proxy\u001b[0m \u001b[0;34m=\u001b[0m \u001b[0mRequestProxy\u001b[0m\u001b[0;34m(\u001b[0m\u001b[0;34m)\u001b[0m\u001b[0;34m\u001b[0m\u001b[0;34m\u001b[0m\u001b[0m\n\u001b[1;32m      3\u001b[0m \u001b[0mproxies\u001b[0m \u001b[0;34m=\u001b[0m \u001b[0mreq_proxy\u001b[0m\u001b[0;34m.\u001b[0m\u001b[0mget_proxy_list\u001b[0m\u001b[0;34m(\u001b[0m\u001b[0;34m)\u001b[0m\u001b[0;34m\u001b[0m\u001b[0;34m\u001b[0m\u001b[0m\n",
            "\u001b[0;31mModuleNotFoundError\u001b[0m: No module named 'http_request_randomizer'",
            "",
            "\u001b[0;31m---------------------------------------------------------------------------\u001b[0;32m\nNOTE: If your import is failing due to a missing package, you can\nmanually install dependencies using either !pip or !apt.\n\nTo view examples of installing some common dependencies, click the\n\"Open Examples\" button below.\n\u001b[0;31m---------------------------------------------------------------------------\u001b[0m\n"
          ],
          "errorDetails": {
            "actions": [
              {
                "action": "open_url",
                "actionText": "Open Examples",
                "url": "/notebooks/snippets/importing_libraries.ipynb"
              }
            ]
          }
        }
      ]
    },
    {
      "cell_type": "code",
      "metadata": {
        "id": "Krm3ytiBHhZL"
      },
      "source": [
        "ind = [] #int is list of Italy proxy\n",
        "for proxy in proxies:\n",
        "    if proxy.country == 'Italy':\n",
        "        ind.append(proxy)\n",
        "\n",
        "PROXY = ind[0].get_address()\n",
        "print(PROXY)\n",
        "\n",
        "print(ind[0].country)"
      ],
      "execution_count": null,
      "outputs": []
    },
    {
      "cell_type": "code",
      "metadata": {
        "id": "Goac2YzPpLF_"
      },
      "source": [
        "# PROXY = '69.167.174.17:80'"
      ],
      "execution_count": null,
      "outputs": []
    },
    {
      "cell_type": "code",
      "metadata": {
        "id": "D6MLvqs9BIzI"
      },
      "source": [
        "webdriver.DesiredCapabilities.CHROME['proxy']={\n",
        "    \"httpProxy\":PROXY,\n",
        "    \"ftpProxy\":PROXY,\n",
        "    \"sslProxy\":PROXY,\n",
        "    \"proxyType\":\"MANUAL\"\n",
        "}\n",
        "\n",
        "wd = webdriver.Chrome('chromedriver',chrome_options=chrome_options)\n"
      ],
      "execution_count": null,
      "outputs": []
    },
    {
      "cell_type": "markdown",
      "metadata": {
        "id": "YUp_U6IY2Rgu"
      },
      "source": [
        "## First connection"
      ]
    },
    {
      "cell_type": "code",
      "metadata": {
        "colab": {
          "base_uri": "https://localhost:8080/"
        },
        "id": "ON4OHPZm1yTf",
        "outputId": "9b4798d6-0d1f-4f9e-88a4-415c82f01357"
      },
      "source": [
        "wd = webdriver.Chrome('chromedriver',chrome_options=chrome_options)\n",
        "import time"
      ],
      "execution_count": null,
      "outputs": [
        {
          "output_type": "stream",
          "name": "stderr",
          "text": [
            "/usr/local/lib/python3.7/dist-packages/ipykernel_launcher.py:1: DeprecationWarning: use options instead of chrome_options\n",
            "  \"\"\"Entry point for launching an IPython kernel.\n"
          ]
        }
      ]
    },
    {
      "cell_type": "code",
      "source": [
        "#test\n",
        "\n",
        "wd.get(\"https://www.tripadvisor.it/Restaurants-g187849-Milan_Lombardy.html\") \n",
        "time.sleep(5) \n",
        " \n",
        "wd.save_screenshot('trip.png') \n",
        " \n",
        "buttons = wd.find_elements(by=By.CSS_SELECTOR,value='.nav.next.rndBtn.ui_button.primary.taLnk') \n",
        " \n",
        "len(buttons) \n",
        "#WebDriverWait(wd, 20).until(EC.element_to_be_clickable((By.CSS_SELECTOR,\"css-1841bfu\")))[1].click()"
      ],
      "metadata": {
        "id": "R0zZhPb0aJEO",
        "colab": {
          "base_uri": "https://localhost:8080/",
          "height": 640
        },
        "outputId": "c8aa52f6-f18b-4048-b2de-6aad34336934"
      },
      "execution_count": null,
      "outputs": [
        {
          "output_type": "stream",
          "name": "stderr",
          "text": [
            "WARNING:urllib3.connectionpool:Retrying (Retry(total=2, connect=None, read=None, redirect=None, status=None)) after connection broken by 'NewConnectionError('<urllib3.connection.HTTPConnection object at 0x7f80c1c52ad0>: Failed to establish a new connection: [Errno 111] Connection refused')': /session/bd7dfc0a52b7f0bdceceaab4ec83a55c/url\n",
            "WARNING:urllib3.connectionpool:Retrying (Retry(total=1, connect=None, read=None, redirect=None, status=None)) after connection broken by 'NewConnectionError('<urllib3.connection.HTTPConnection object at 0x7f80c1ba7a50>: Failed to establish a new connection: [Errno 111] Connection refused')': /session/bd7dfc0a52b7f0bdceceaab4ec83a55c/url\n",
            "WARNING:urllib3.connectionpool:Retrying (Retry(total=0, connect=None, read=None, redirect=None, status=None)) after connection broken by 'NewConnectionError('<urllib3.connection.HTTPConnection object at 0x7f80c1bdb250>: Failed to establish a new connection: [Errno 111] Connection refused')': /session/bd7dfc0a52b7f0bdceceaab4ec83a55c/url\n"
          ]
        },
        {
          "output_type": "error",
          "ename": "MaxRetryError",
          "evalue": "ignored",
          "traceback": [
            "\u001b[0;31m---------------------------------------------------------------------------\u001b[0m",
            "\u001b[0;31mConnectionRefusedError\u001b[0m                    Traceback (most recent call last)",
            "\u001b[0;32m/usr/local/lib/python3.7/dist-packages/urllib3/connection.py\u001b[0m in \u001b[0;36m_new_conn\u001b[0;34m(self)\u001b[0m\n\u001b[1;32m    174\u001b[0m             conn = connection.create_connection(\n\u001b[0;32m--> 175\u001b[0;31m                 \u001b[0;34m(\u001b[0m\u001b[0mself\u001b[0m\u001b[0;34m.\u001b[0m\u001b[0m_dns_host\u001b[0m\u001b[0;34m,\u001b[0m \u001b[0mself\u001b[0m\u001b[0;34m.\u001b[0m\u001b[0mport\u001b[0m\u001b[0;34m)\u001b[0m\u001b[0;34m,\u001b[0m \u001b[0mself\u001b[0m\u001b[0;34m.\u001b[0m\u001b[0mtimeout\u001b[0m\u001b[0;34m,\u001b[0m \u001b[0;34m**\u001b[0m\u001b[0mextra_kw\u001b[0m\u001b[0;34m\u001b[0m\u001b[0;34m\u001b[0m\u001b[0m\n\u001b[0m\u001b[1;32m    176\u001b[0m             )\n",
            "\u001b[0;32m/usr/local/lib/python3.7/dist-packages/urllib3/util/connection.py\u001b[0m in \u001b[0;36mcreate_connection\u001b[0;34m(address, timeout, source_address, socket_options)\u001b[0m\n\u001b[1;32m     94\u001b[0m     \u001b[0;32mif\u001b[0m \u001b[0merr\u001b[0m \u001b[0;32mis\u001b[0m \u001b[0;32mnot\u001b[0m \u001b[0;32mNone\u001b[0m\u001b[0;34m:\u001b[0m\u001b[0;34m\u001b[0m\u001b[0;34m\u001b[0m\u001b[0m\n\u001b[0;32m---> 95\u001b[0;31m         \u001b[0;32mraise\u001b[0m \u001b[0merr\u001b[0m\u001b[0;34m\u001b[0m\u001b[0;34m\u001b[0m\u001b[0m\n\u001b[0m\u001b[1;32m     96\u001b[0m \u001b[0;34m\u001b[0m\u001b[0m\n",
            "\u001b[0;32m/usr/local/lib/python3.7/dist-packages/urllib3/util/connection.py\u001b[0m in \u001b[0;36mcreate_connection\u001b[0;34m(address, timeout, source_address, socket_options)\u001b[0m\n\u001b[1;32m     84\u001b[0m                 \u001b[0msock\u001b[0m\u001b[0;34m.\u001b[0m\u001b[0mbind\u001b[0m\u001b[0;34m(\u001b[0m\u001b[0msource_address\u001b[0m\u001b[0;34m)\u001b[0m\u001b[0;34m\u001b[0m\u001b[0;34m\u001b[0m\u001b[0m\n\u001b[0;32m---> 85\u001b[0;31m             \u001b[0msock\u001b[0m\u001b[0;34m.\u001b[0m\u001b[0mconnect\u001b[0m\u001b[0;34m(\u001b[0m\u001b[0msa\u001b[0m\u001b[0;34m)\u001b[0m\u001b[0;34m\u001b[0m\u001b[0;34m\u001b[0m\u001b[0m\n\u001b[0m\u001b[1;32m     86\u001b[0m             \u001b[0;32mreturn\u001b[0m \u001b[0msock\u001b[0m\u001b[0;34m\u001b[0m\u001b[0;34m\u001b[0m\u001b[0m\n",
            "\u001b[0;31mConnectionRefusedError\u001b[0m: [Errno 111] Connection refused",
            "\nDuring handling of the above exception, another exception occurred:\n",
            "\u001b[0;31mNewConnectionError\u001b[0m                        Traceback (most recent call last)",
            "\u001b[0;32m/usr/local/lib/python3.7/dist-packages/urllib3/connectionpool.py\u001b[0m in \u001b[0;36murlopen\u001b[0;34m(self, method, url, body, headers, retries, redirect, assert_same_host, timeout, pool_timeout, release_conn, chunked, body_pos, **response_kw)\u001b[0m\n\u001b[1;32m    709\u001b[0m                 \u001b[0mheaders\u001b[0m\u001b[0;34m=\u001b[0m\u001b[0mheaders\u001b[0m\u001b[0;34m,\u001b[0m\u001b[0;34m\u001b[0m\u001b[0;34m\u001b[0m\u001b[0m\n\u001b[0;32m--> 710\u001b[0;31m                 \u001b[0mchunked\u001b[0m\u001b[0;34m=\u001b[0m\u001b[0mchunked\u001b[0m\u001b[0;34m,\u001b[0m\u001b[0;34m\u001b[0m\u001b[0;34m\u001b[0m\u001b[0m\n\u001b[0m\u001b[1;32m    711\u001b[0m             )\n",
            "\u001b[0;32m/usr/local/lib/python3.7/dist-packages/urllib3/connectionpool.py\u001b[0m in \u001b[0;36m_make_request\u001b[0;34m(self, conn, method, url, timeout, chunked, **httplib_request_kw)\u001b[0m\n\u001b[1;32m    397\u001b[0m             \u001b[0;32melse\u001b[0m\u001b[0;34m:\u001b[0m\u001b[0;34m\u001b[0m\u001b[0;34m\u001b[0m\u001b[0m\n\u001b[0;32m--> 398\u001b[0;31m                 \u001b[0mconn\u001b[0m\u001b[0;34m.\u001b[0m\u001b[0mrequest\u001b[0m\u001b[0;34m(\u001b[0m\u001b[0mmethod\u001b[0m\u001b[0;34m,\u001b[0m \u001b[0murl\u001b[0m\u001b[0;34m,\u001b[0m \u001b[0;34m**\u001b[0m\u001b[0mhttplib_request_kw\u001b[0m\u001b[0;34m)\u001b[0m\u001b[0;34m\u001b[0m\u001b[0;34m\u001b[0m\u001b[0m\n\u001b[0m\u001b[1;32m    399\u001b[0m \u001b[0;34m\u001b[0m\u001b[0m\n",
            "\u001b[0;32m/usr/local/lib/python3.7/dist-packages/urllib3/connection.py\u001b[0m in \u001b[0;36mrequest\u001b[0;34m(self, method, url, body, headers)\u001b[0m\n\u001b[1;32m    238\u001b[0m             \u001b[0mheaders\u001b[0m\u001b[0;34m[\u001b[0m\u001b[0;34m\"User-Agent\"\u001b[0m\u001b[0;34m]\u001b[0m \u001b[0;34m=\u001b[0m \u001b[0m_get_default_user_agent\u001b[0m\u001b[0;34m(\u001b[0m\u001b[0;34m)\u001b[0m\u001b[0;34m\u001b[0m\u001b[0;34m\u001b[0m\u001b[0m\n\u001b[0;32m--> 239\u001b[0;31m         \u001b[0msuper\u001b[0m\u001b[0;34m(\u001b[0m\u001b[0mHTTPConnection\u001b[0m\u001b[0;34m,\u001b[0m \u001b[0mself\u001b[0m\u001b[0;34m)\u001b[0m\u001b[0;34m.\u001b[0m\u001b[0mrequest\u001b[0m\u001b[0;34m(\u001b[0m\u001b[0mmethod\u001b[0m\u001b[0;34m,\u001b[0m \u001b[0murl\u001b[0m\u001b[0;34m,\u001b[0m \u001b[0mbody\u001b[0m\u001b[0;34m=\u001b[0m\u001b[0mbody\u001b[0m\u001b[0;34m,\u001b[0m \u001b[0mheaders\u001b[0m\u001b[0;34m=\u001b[0m\u001b[0mheaders\u001b[0m\u001b[0;34m)\u001b[0m\u001b[0;34m\u001b[0m\u001b[0;34m\u001b[0m\u001b[0m\n\u001b[0m\u001b[1;32m    240\u001b[0m \u001b[0;34m\u001b[0m\u001b[0m\n",
            "\u001b[0;32m/usr/lib/python3.7/http/client.py\u001b[0m in \u001b[0;36mrequest\u001b[0;34m(self, method, url, body, headers, encode_chunked)\u001b[0m\n\u001b[1;32m   1280\u001b[0m         \u001b[0;34m\"\"\"Send a complete request to the server.\"\"\"\u001b[0m\u001b[0;34m\u001b[0m\u001b[0;34m\u001b[0m\u001b[0m\n\u001b[0;32m-> 1281\u001b[0;31m         \u001b[0mself\u001b[0m\u001b[0;34m.\u001b[0m\u001b[0m_send_request\u001b[0m\u001b[0;34m(\u001b[0m\u001b[0mmethod\u001b[0m\u001b[0;34m,\u001b[0m \u001b[0murl\u001b[0m\u001b[0;34m,\u001b[0m \u001b[0mbody\u001b[0m\u001b[0;34m,\u001b[0m \u001b[0mheaders\u001b[0m\u001b[0;34m,\u001b[0m \u001b[0mencode_chunked\u001b[0m\u001b[0;34m)\u001b[0m\u001b[0;34m\u001b[0m\u001b[0;34m\u001b[0m\u001b[0m\n\u001b[0m\u001b[1;32m   1282\u001b[0m \u001b[0;34m\u001b[0m\u001b[0m\n",
            "\u001b[0;32m/usr/lib/python3.7/http/client.py\u001b[0m in \u001b[0;36m_send_request\u001b[0;34m(self, method, url, body, headers, encode_chunked)\u001b[0m\n\u001b[1;32m   1326\u001b[0m             \u001b[0mbody\u001b[0m \u001b[0;34m=\u001b[0m \u001b[0m_encode\u001b[0m\u001b[0;34m(\u001b[0m\u001b[0mbody\u001b[0m\u001b[0;34m,\u001b[0m \u001b[0;34m'body'\u001b[0m\u001b[0;34m)\u001b[0m\u001b[0;34m\u001b[0m\u001b[0;34m\u001b[0m\u001b[0m\n\u001b[0;32m-> 1327\u001b[0;31m         \u001b[0mself\u001b[0m\u001b[0;34m.\u001b[0m\u001b[0mendheaders\u001b[0m\u001b[0;34m(\u001b[0m\u001b[0mbody\u001b[0m\u001b[0;34m,\u001b[0m \u001b[0mencode_chunked\u001b[0m\u001b[0;34m=\u001b[0m\u001b[0mencode_chunked\u001b[0m\u001b[0;34m)\u001b[0m\u001b[0;34m\u001b[0m\u001b[0;34m\u001b[0m\u001b[0m\n\u001b[0m\u001b[1;32m   1328\u001b[0m \u001b[0;34m\u001b[0m\u001b[0m\n",
            "\u001b[0;32m/usr/lib/python3.7/http/client.py\u001b[0m in \u001b[0;36mendheaders\u001b[0;34m(self, message_body, encode_chunked)\u001b[0m\n\u001b[1;32m   1275\u001b[0m             \u001b[0;32mraise\u001b[0m \u001b[0mCannotSendHeader\u001b[0m\u001b[0;34m(\u001b[0m\u001b[0;34m)\u001b[0m\u001b[0;34m\u001b[0m\u001b[0;34m\u001b[0m\u001b[0m\n\u001b[0;32m-> 1276\u001b[0;31m         \u001b[0mself\u001b[0m\u001b[0;34m.\u001b[0m\u001b[0m_send_output\u001b[0m\u001b[0;34m(\u001b[0m\u001b[0mmessage_body\u001b[0m\u001b[0;34m,\u001b[0m \u001b[0mencode_chunked\u001b[0m\u001b[0;34m=\u001b[0m\u001b[0mencode_chunked\u001b[0m\u001b[0;34m)\u001b[0m\u001b[0;34m\u001b[0m\u001b[0;34m\u001b[0m\u001b[0m\n\u001b[0m\u001b[1;32m   1277\u001b[0m \u001b[0;34m\u001b[0m\u001b[0m\n",
            "\u001b[0;32m/usr/lib/python3.7/http/client.py\u001b[0m in \u001b[0;36m_send_output\u001b[0;34m(self, message_body, encode_chunked)\u001b[0m\n\u001b[1;32m   1035\u001b[0m         \u001b[0;32mdel\u001b[0m \u001b[0mself\u001b[0m\u001b[0;34m.\u001b[0m\u001b[0m_buffer\u001b[0m\u001b[0;34m[\u001b[0m\u001b[0;34m:\u001b[0m\u001b[0;34m]\u001b[0m\u001b[0;34m\u001b[0m\u001b[0;34m\u001b[0m\u001b[0m\n\u001b[0;32m-> 1036\u001b[0;31m         \u001b[0mself\u001b[0m\u001b[0;34m.\u001b[0m\u001b[0msend\u001b[0m\u001b[0;34m(\u001b[0m\u001b[0mmsg\u001b[0m\u001b[0;34m)\u001b[0m\u001b[0;34m\u001b[0m\u001b[0;34m\u001b[0m\u001b[0m\n\u001b[0m\u001b[1;32m   1037\u001b[0m \u001b[0;34m\u001b[0m\u001b[0m\n",
            "\u001b[0;32m/usr/lib/python3.7/http/client.py\u001b[0m in \u001b[0;36msend\u001b[0;34m(self, data)\u001b[0m\n\u001b[1;32m    975\u001b[0m             \u001b[0;32mif\u001b[0m \u001b[0mself\u001b[0m\u001b[0;34m.\u001b[0m\u001b[0mauto_open\u001b[0m\u001b[0;34m:\u001b[0m\u001b[0;34m\u001b[0m\u001b[0;34m\u001b[0m\u001b[0m\n\u001b[0;32m--> 976\u001b[0;31m                 \u001b[0mself\u001b[0m\u001b[0;34m.\u001b[0m\u001b[0mconnect\u001b[0m\u001b[0;34m(\u001b[0m\u001b[0;34m)\u001b[0m\u001b[0;34m\u001b[0m\u001b[0;34m\u001b[0m\u001b[0m\n\u001b[0m\u001b[1;32m    977\u001b[0m             \u001b[0;32melse\u001b[0m\u001b[0;34m:\u001b[0m\u001b[0;34m\u001b[0m\u001b[0;34m\u001b[0m\u001b[0m\n",
            "\u001b[0;32m/usr/local/lib/python3.7/dist-packages/urllib3/connection.py\u001b[0m in \u001b[0;36mconnect\u001b[0;34m(self)\u001b[0m\n\u001b[1;32m    204\u001b[0m     \u001b[0;32mdef\u001b[0m \u001b[0mconnect\u001b[0m\u001b[0;34m(\u001b[0m\u001b[0mself\u001b[0m\u001b[0;34m)\u001b[0m\u001b[0;34m:\u001b[0m\u001b[0;34m\u001b[0m\u001b[0;34m\u001b[0m\u001b[0m\n\u001b[0;32m--> 205\u001b[0;31m         \u001b[0mconn\u001b[0m \u001b[0;34m=\u001b[0m \u001b[0mself\u001b[0m\u001b[0;34m.\u001b[0m\u001b[0m_new_conn\u001b[0m\u001b[0;34m(\u001b[0m\u001b[0;34m)\u001b[0m\u001b[0;34m\u001b[0m\u001b[0;34m\u001b[0m\u001b[0m\n\u001b[0m\u001b[1;32m    206\u001b[0m         \u001b[0mself\u001b[0m\u001b[0;34m.\u001b[0m\u001b[0m_prepare_conn\u001b[0m\u001b[0;34m(\u001b[0m\u001b[0mconn\u001b[0m\u001b[0;34m)\u001b[0m\u001b[0;34m\u001b[0m\u001b[0;34m\u001b[0m\u001b[0m\n",
            "\u001b[0;32m/usr/local/lib/python3.7/dist-packages/urllib3/connection.py\u001b[0m in \u001b[0;36m_new_conn\u001b[0;34m(self)\u001b[0m\n\u001b[1;32m    186\u001b[0m             raise NewConnectionError(\n\u001b[0;32m--> 187\u001b[0;31m                 \u001b[0mself\u001b[0m\u001b[0;34m,\u001b[0m \u001b[0;34m\"Failed to establish a new connection: %s\"\u001b[0m \u001b[0;34m%\u001b[0m \u001b[0me\u001b[0m\u001b[0;34m\u001b[0m\u001b[0;34m\u001b[0m\u001b[0m\n\u001b[0m\u001b[1;32m    188\u001b[0m             )\n",
            "\u001b[0;31mNewConnectionError\u001b[0m: <urllib3.connection.HTTPConnection object at 0x7f80c1bdb6d0>: Failed to establish a new connection: [Errno 111] Connection refused",
            "\nDuring handling of the above exception, another exception occurred:\n",
            "\u001b[0;31mMaxRetryError\u001b[0m                             Traceback (most recent call last)",
            "\u001b[0;32m<ipython-input-7-d026a6968147>\u001b[0m in \u001b[0;36m<module>\u001b[0;34m\u001b[0m\n\u001b[1;32m      1\u001b[0m \u001b[0;31m#test\u001b[0m\u001b[0;34m\u001b[0m\u001b[0;34m\u001b[0m\u001b[0;34m\u001b[0m\u001b[0m\n\u001b[1;32m      2\u001b[0m \u001b[0;34m\u001b[0m\u001b[0m\n\u001b[0;32m----> 3\u001b[0;31m \u001b[0mwd\u001b[0m\u001b[0;34m.\u001b[0m\u001b[0mget\u001b[0m\u001b[0;34m(\u001b[0m\u001b[0;34m\"https://www.tripadvisor.it/Restaurants-g187849-Milan_Lombardy.html\"\u001b[0m\u001b[0;34m)\u001b[0m\u001b[0;34m\u001b[0m\u001b[0;34m\u001b[0m\u001b[0m\n\u001b[0m\u001b[1;32m      4\u001b[0m \u001b[0mtime\u001b[0m\u001b[0;34m.\u001b[0m\u001b[0msleep\u001b[0m\u001b[0;34m(\u001b[0m\u001b[0;36m5\u001b[0m\u001b[0;34m)\u001b[0m\u001b[0;34m\u001b[0m\u001b[0;34m\u001b[0m\u001b[0m\n\u001b[1;32m      5\u001b[0m \u001b[0;34m\u001b[0m\u001b[0m\n",
            "\u001b[0;32m/usr/local/lib/python3.7/dist-packages/selenium/webdriver/remote/webdriver.py\u001b[0m in \u001b[0;36mget\u001b[0;34m(self, url)\u001b[0m\n\u001b[1;32m    438\u001b[0m         \u001b[0mLoads\u001b[0m \u001b[0ma\u001b[0m \u001b[0mweb\u001b[0m \u001b[0mpage\u001b[0m \u001b[0;32min\u001b[0m \u001b[0mthe\u001b[0m \u001b[0mcurrent\u001b[0m \u001b[0mbrowser\u001b[0m \u001b[0msession\u001b[0m\u001b[0;34m.\u001b[0m\u001b[0;34m\u001b[0m\u001b[0;34m\u001b[0m\u001b[0m\n\u001b[1;32m    439\u001b[0m         \"\"\"\n\u001b[0;32m--> 440\u001b[0;31m         \u001b[0mself\u001b[0m\u001b[0;34m.\u001b[0m\u001b[0mexecute\u001b[0m\u001b[0;34m(\u001b[0m\u001b[0mCommand\u001b[0m\u001b[0;34m.\u001b[0m\u001b[0mGET\u001b[0m\u001b[0;34m,\u001b[0m \u001b[0;34m{\u001b[0m\u001b[0;34m'url'\u001b[0m\u001b[0;34m:\u001b[0m \u001b[0murl\u001b[0m\u001b[0;34m}\u001b[0m\u001b[0;34m)\u001b[0m\u001b[0;34m\u001b[0m\u001b[0;34m\u001b[0m\u001b[0m\n\u001b[0m\u001b[1;32m    441\u001b[0m \u001b[0;34m\u001b[0m\u001b[0m\n\u001b[1;32m    442\u001b[0m     \u001b[0;34m@\u001b[0m\u001b[0mproperty\u001b[0m\u001b[0;34m\u001b[0m\u001b[0;34m\u001b[0m\u001b[0m\n",
            "\u001b[0;32m/usr/local/lib/python3.7/dist-packages/selenium/webdriver/remote/webdriver.py\u001b[0m in \u001b[0;36mexecute\u001b[0;34m(self, driver_command, params)\u001b[0m\n\u001b[1;32m    424\u001b[0m \u001b[0;34m\u001b[0m\u001b[0m\n\u001b[1;32m    425\u001b[0m         \u001b[0mparams\u001b[0m \u001b[0;34m=\u001b[0m \u001b[0mself\u001b[0m\u001b[0;34m.\u001b[0m\u001b[0m_wrap_value\u001b[0m\u001b[0;34m(\u001b[0m\u001b[0mparams\u001b[0m\u001b[0;34m)\u001b[0m\u001b[0;34m\u001b[0m\u001b[0;34m\u001b[0m\u001b[0m\n\u001b[0;32m--> 426\u001b[0;31m         \u001b[0mresponse\u001b[0m \u001b[0;34m=\u001b[0m \u001b[0mself\u001b[0m\u001b[0;34m.\u001b[0m\u001b[0mcommand_executor\u001b[0m\u001b[0;34m.\u001b[0m\u001b[0mexecute\u001b[0m\u001b[0;34m(\u001b[0m\u001b[0mdriver_command\u001b[0m\u001b[0;34m,\u001b[0m \u001b[0mparams\u001b[0m\u001b[0;34m)\u001b[0m\u001b[0;34m\u001b[0m\u001b[0;34m\u001b[0m\u001b[0m\n\u001b[0m\u001b[1;32m    427\u001b[0m         \u001b[0;32mif\u001b[0m \u001b[0mresponse\u001b[0m\u001b[0;34m:\u001b[0m\u001b[0;34m\u001b[0m\u001b[0;34m\u001b[0m\u001b[0m\n\u001b[1;32m    428\u001b[0m             \u001b[0mself\u001b[0m\u001b[0;34m.\u001b[0m\u001b[0merror_handler\u001b[0m\u001b[0;34m.\u001b[0m\u001b[0mcheck_response\u001b[0m\u001b[0;34m(\u001b[0m\u001b[0mresponse\u001b[0m\u001b[0;34m)\u001b[0m\u001b[0;34m\u001b[0m\u001b[0;34m\u001b[0m\u001b[0m\n",
            "\u001b[0;32m/usr/local/lib/python3.7/dist-packages/selenium/webdriver/remote/remote_connection.py\u001b[0m in \u001b[0;36mexecute\u001b[0;34m(self, command, params)\u001b[0m\n\u001b[1;32m    342\u001b[0m         \u001b[0mdata\u001b[0m \u001b[0;34m=\u001b[0m \u001b[0mutils\u001b[0m\u001b[0;34m.\u001b[0m\u001b[0mdump_json\u001b[0m\u001b[0;34m(\u001b[0m\u001b[0mparams\u001b[0m\u001b[0;34m)\u001b[0m\u001b[0;34m\u001b[0m\u001b[0;34m\u001b[0m\u001b[0m\n\u001b[1;32m    343\u001b[0m         \u001b[0murl\u001b[0m \u001b[0;34m=\u001b[0m \u001b[0;34mf\"{self._url}{path}\"\u001b[0m\u001b[0;34m\u001b[0m\u001b[0;34m\u001b[0m\u001b[0m\n\u001b[0;32m--> 344\u001b[0;31m         \u001b[0;32mreturn\u001b[0m \u001b[0mself\u001b[0m\u001b[0;34m.\u001b[0m\u001b[0m_request\u001b[0m\u001b[0;34m(\u001b[0m\u001b[0mcommand_info\u001b[0m\u001b[0;34m[\u001b[0m\u001b[0;36m0\u001b[0m\u001b[0;34m]\u001b[0m\u001b[0;34m,\u001b[0m \u001b[0murl\u001b[0m\u001b[0;34m,\u001b[0m \u001b[0mbody\u001b[0m\u001b[0;34m=\u001b[0m\u001b[0mdata\u001b[0m\u001b[0;34m)\u001b[0m\u001b[0;34m\u001b[0m\u001b[0;34m\u001b[0m\u001b[0m\n\u001b[0m\u001b[1;32m    345\u001b[0m \u001b[0;34m\u001b[0m\u001b[0m\n\u001b[1;32m    346\u001b[0m     \u001b[0;32mdef\u001b[0m \u001b[0m_request\u001b[0m\u001b[0;34m(\u001b[0m\u001b[0mself\u001b[0m\u001b[0;34m,\u001b[0m \u001b[0mmethod\u001b[0m\u001b[0;34m,\u001b[0m \u001b[0murl\u001b[0m\u001b[0;34m,\u001b[0m \u001b[0mbody\u001b[0m\u001b[0;34m=\u001b[0m\u001b[0;32mNone\u001b[0m\u001b[0;34m)\u001b[0m\u001b[0;34m:\u001b[0m\u001b[0;34m\u001b[0m\u001b[0;34m\u001b[0m\u001b[0m\n",
            "\u001b[0;32m/usr/local/lib/python3.7/dist-packages/selenium/webdriver/remote/remote_connection.py\u001b[0m in \u001b[0;36m_request\u001b[0;34m(self, method, url, body)\u001b[0m\n\u001b[1;32m    364\u001b[0m \u001b[0;34m\u001b[0m\u001b[0m\n\u001b[1;32m    365\u001b[0m         \u001b[0;32mif\u001b[0m \u001b[0mself\u001b[0m\u001b[0;34m.\u001b[0m\u001b[0mkeep_alive\u001b[0m\u001b[0;34m:\u001b[0m\u001b[0;34m\u001b[0m\u001b[0;34m\u001b[0m\u001b[0m\n\u001b[0;32m--> 366\u001b[0;31m             \u001b[0mresponse\u001b[0m \u001b[0;34m=\u001b[0m \u001b[0mself\u001b[0m\u001b[0;34m.\u001b[0m\u001b[0m_conn\u001b[0m\u001b[0;34m.\u001b[0m\u001b[0mrequest\u001b[0m\u001b[0;34m(\u001b[0m\u001b[0mmethod\u001b[0m\u001b[0;34m,\u001b[0m \u001b[0murl\u001b[0m\u001b[0;34m,\u001b[0m \u001b[0mbody\u001b[0m\u001b[0;34m=\u001b[0m\u001b[0mbody\u001b[0m\u001b[0;34m,\u001b[0m \u001b[0mheaders\u001b[0m\u001b[0;34m=\u001b[0m\u001b[0mheaders\u001b[0m\u001b[0;34m)\u001b[0m\u001b[0;34m\u001b[0m\u001b[0;34m\u001b[0m\u001b[0m\n\u001b[0m\u001b[1;32m    367\u001b[0m             \u001b[0mstatuscode\u001b[0m \u001b[0;34m=\u001b[0m \u001b[0mresponse\u001b[0m\u001b[0;34m.\u001b[0m\u001b[0mstatus\u001b[0m\u001b[0;34m\u001b[0m\u001b[0;34m\u001b[0m\u001b[0m\n\u001b[1;32m    368\u001b[0m         \u001b[0;32melse\u001b[0m\u001b[0;34m:\u001b[0m\u001b[0;34m\u001b[0m\u001b[0;34m\u001b[0m\u001b[0m\n",
            "\u001b[0;32m/usr/local/lib/python3.7/dist-packages/urllib3/request.py\u001b[0m in \u001b[0;36mrequest\u001b[0;34m(self, method, url, fields, headers, **urlopen_kw)\u001b[0m\n\u001b[1;32m     77\u001b[0m         \u001b[0;32melse\u001b[0m\u001b[0;34m:\u001b[0m\u001b[0;34m\u001b[0m\u001b[0;34m\u001b[0m\u001b[0m\n\u001b[1;32m     78\u001b[0m             return self.request_encode_body(\n\u001b[0;32m---> 79\u001b[0;31m                 \u001b[0mmethod\u001b[0m\u001b[0;34m,\u001b[0m \u001b[0murl\u001b[0m\u001b[0;34m,\u001b[0m \u001b[0mfields\u001b[0m\u001b[0;34m=\u001b[0m\u001b[0mfields\u001b[0m\u001b[0;34m,\u001b[0m \u001b[0mheaders\u001b[0m\u001b[0;34m=\u001b[0m\u001b[0mheaders\u001b[0m\u001b[0;34m,\u001b[0m \u001b[0;34m**\u001b[0m\u001b[0murlopen_kw\u001b[0m\u001b[0;34m\u001b[0m\u001b[0;34m\u001b[0m\u001b[0m\n\u001b[0m\u001b[1;32m     80\u001b[0m             )\n\u001b[1;32m     81\u001b[0m \u001b[0;34m\u001b[0m\u001b[0m\n",
            "\u001b[0;32m/usr/local/lib/python3.7/dist-packages/urllib3/request.py\u001b[0m in \u001b[0;36mrequest_encode_body\u001b[0;34m(self, method, url, fields, headers, encode_multipart, multipart_boundary, **urlopen_kw)\u001b[0m\n\u001b[1;32m    168\u001b[0m         \u001b[0mextra_kw\u001b[0m\u001b[0;34m.\u001b[0m\u001b[0mupdate\u001b[0m\u001b[0;34m(\u001b[0m\u001b[0murlopen_kw\u001b[0m\u001b[0;34m)\u001b[0m\u001b[0;34m\u001b[0m\u001b[0;34m\u001b[0m\u001b[0m\n\u001b[1;32m    169\u001b[0m \u001b[0;34m\u001b[0m\u001b[0m\n\u001b[0;32m--> 170\u001b[0;31m         \u001b[0;32mreturn\u001b[0m \u001b[0mself\u001b[0m\u001b[0;34m.\u001b[0m\u001b[0murlopen\u001b[0m\u001b[0;34m(\u001b[0m\u001b[0mmethod\u001b[0m\u001b[0;34m,\u001b[0m \u001b[0murl\u001b[0m\u001b[0;34m,\u001b[0m \u001b[0;34m**\u001b[0m\u001b[0mextra_kw\u001b[0m\u001b[0;34m)\u001b[0m\u001b[0;34m\u001b[0m\u001b[0;34m\u001b[0m\u001b[0m\n\u001b[0m",
            "\u001b[0;32m/usr/local/lib/python3.7/dist-packages/urllib3/poolmanager.py\u001b[0m in \u001b[0;36murlopen\u001b[0;34m(self, method, url, redirect, **kw)\u001b[0m\n\u001b[1;32m    374\u001b[0m             \u001b[0mresponse\u001b[0m \u001b[0;34m=\u001b[0m \u001b[0mconn\u001b[0m\u001b[0;34m.\u001b[0m\u001b[0murlopen\u001b[0m\u001b[0;34m(\u001b[0m\u001b[0mmethod\u001b[0m\u001b[0;34m,\u001b[0m \u001b[0murl\u001b[0m\u001b[0;34m,\u001b[0m \u001b[0;34m**\u001b[0m\u001b[0mkw\u001b[0m\u001b[0;34m)\u001b[0m\u001b[0;34m\u001b[0m\u001b[0;34m\u001b[0m\u001b[0m\n\u001b[1;32m    375\u001b[0m         \u001b[0;32melse\u001b[0m\u001b[0;34m:\u001b[0m\u001b[0;34m\u001b[0m\u001b[0;34m\u001b[0m\u001b[0m\n\u001b[0;32m--> 376\u001b[0;31m             \u001b[0mresponse\u001b[0m \u001b[0;34m=\u001b[0m \u001b[0mconn\u001b[0m\u001b[0;34m.\u001b[0m\u001b[0murlopen\u001b[0m\u001b[0;34m(\u001b[0m\u001b[0mmethod\u001b[0m\u001b[0;34m,\u001b[0m \u001b[0mu\u001b[0m\u001b[0;34m.\u001b[0m\u001b[0mrequest_uri\u001b[0m\u001b[0;34m,\u001b[0m \u001b[0;34m**\u001b[0m\u001b[0mkw\u001b[0m\u001b[0;34m)\u001b[0m\u001b[0;34m\u001b[0m\u001b[0;34m\u001b[0m\u001b[0m\n\u001b[0m\u001b[1;32m    377\u001b[0m \u001b[0;34m\u001b[0m\u001b[0m\n\u001b[1;32m    378\u001b[0m         \u001b[0mredirect_location\u001b[0m \u001b[0;34m=\u001b[0m \u001b[0mredirect\u001b[0m \u001b[0;32mand\u001b[0m \u001b[0mresponse\u001b[0m\u001b[0;34m.\u001b[0m\u001b[0mget_redirect_location\u001b[0m\u001b[0;34m(\u001b[0m\u001b[0;34m)\u001b[0m\u001b[0;34m\u001b[0m\u001b[0;34m\u001b[0m\u001b[0m\n",
            "\u001b[0;32m/usr/local/lib/python3.7/dist-packages/urllib3/connectionpool.py\u001b[0m in \u001b[0;36murlopen\u001b[0;34m(self, method, url, body, headers, retries, redirect, assert_same_host, timeout, pool_timeout, release_conn, chunked, body_pos, **response_kw)\u001b[0m\n\u001b[1;32m    826\u001b[0m                 \u001b[0mchunked\u001b[0m\u001b[0;34m=\u001b[0m\u001b[0mchunked\u001b[0m\u001b[0;34m,\u001b[0m\u001b[0;34m\u001b[0m\u001b[0;34m\u001b[0m\u001b[0m\n\u001b[1;32m    827\u001b[0m                 \u001b[0mbody_pos\u001b[0m\u001b[0;34m=\u001b[0m\u001b[0mbody_pos\u001b[0m\u001b[0;34m,\u001b[0m\u001b[0;34m\u001b[0m\u001b[0;34m\u001b[0m\u001b[0m\n\u001b[0;32m--> 828\u001b[0;31m                 \u001b[0;34m**\u001b[0m\u001b[0mresponse_kw\u001b[0m\u001b[0;34m\u001b[0m\u001b[0;34m\u001b[0m\u001b[0m\n\u001b[0m\u001b[1;32m    829\u001b[0m             )\n\u001b[1;32m    830\u001b[0m \u001b[0;34m\u001b[0m\u001b[0m\n",
            "\u001b[0;32m/usr/local/lib/python3.7/dist-packages/urllib3/connectionpool.py\u001b[0m in \u001b[0;36murlopen\u001b[0;34m(self, method, url, body, headers, retries, redirect, assert_same_host, timeout, pool_timeout, release_conn, chunked, body_pos, **response_kw)\u001b[0m\n\u001b[1;32m    826\u001b[0m                 \u001b[0mchunked\u001b[0m\u001b[0;34m=\u001b[0m\u001b[0mchunked\u001b[0m\u001b[0;34m,\u001b[0m\u001b[0;34m\u001b[0m\u001b[0;34m\u001b[0m\u001b[0m\n\u001b[1;32m    827\u001b[0m                 \u001b[0mbody_pos\u001b[0m\u001b[0;34m=\u001b[0m\u001b[0mbody_pos\u001b[0m\u001b[0;34m,\u001b[0m\u001b[0;34m\u001b[0m\u001b[0;34m\u001b[0m\u001b[0m\n\u001b[0;32m--> 828\u001b[0;31m                 \u001b[0;34m**\u001b[0m\u001b[0mresponse_kw\u001b[0m\u001b[0;34m\u001b[0m\u001b[0;34m\u001b[0m\u001b[0m\n\u001b[0m\u001b[1;32m    829\u001b[0m             )\n\u001b[1;32m    830\u001b[0m \u001b[0;34m\u001b[0m\u001b[0m\n",
            "\u001b[0;32m/usr/local/lib/python3.7/dist-packages/urllib3/connectionpool.py\u001b[0m in \u001b[0;36murlopen\u001b[0;34m(self, method, url, body, headers, retries, redirect, assert_same_host, timeout, pool_timeout, release_conn, chunked, body_pos, **response_kw)\u001b[0m\n\u001b[1;32m    826\u001b[0m                 \u001b[0mchunked\u001b[0m\u001b[0;34m=\u001b[0m\u001b[0mchunked\u001b[0m\u001b[0;34m,\u001b[0m\u001b[0;34m\u001b[0m\u001b[0;34m\u001b[0m\u001b[0m\n\u001b[1;32m    827\u001b[0m                 \u001b[0mbody_pos\u001b[0m\u001b[0;34m=\u001b[0m\u001b[0mbody_pos\u001b[0m\u001b[0;34m,\u001b[0m\u001b[0;34m\u001b[0m\u001b[0;34m\u001b[0m\u001b[0m\n\u001b[0;32m--> 828\u001b[0;31m                 \u001b[0;34m**\u001b[0m\u001b[0mresponse_kw\u001b[0m\u001b[0;34m\u001b[0m\u001b[0;34m\u001b[0m\u001b[0m\n\u001b[0m\u001b[1;32m    829\u001b[0m             )\n\u001b[1;32m    830\u001b[0m \u001b[0;34m\u001b[0m\u001b[0m\n",
            "\u001b[0;32m/usr/local/lib/python3.7/dist-packages/urllib3/connectionpool.py\u001b[0m in \u001b[0;36murlopen\u001b[0;34m(self, method, url, body, headers, retries, redirect, assert_same_host, timeout, pool_timeout, release_conn, chunked, body_pos, **response_kw)\u001b[0m\n\u001b[1;32m    786\u001b[0m \u001b[0;34m\u001b[0m\u001b[0m\n\u001b[1;32m    787\u001b[0m             retries = retries.increment(\n\u001b[0;32m--> 788\u001b[0;31m                 \u001b[0mmethod\u001b[0m\u001b[0;34m,\u001b[0m \u001b[0murl\u001b[0m\u001b[0;34m,\u001b[0m \u001b[0merror\u001b[0m\u001b[0;34m=\u001b[0m\u001b[0me\u001b[0m\u001b[0;34m,\u001b[0m \u001b[0m_pool\u001b[0m\u001b[0;34m=\u001b[0m\u001b[0mself\u001b[0m\u001b[0;34m,\u001b[0m \u001b[0m_stacktrace\u001b[0m\u001b[0;34m=\u001b[0m\u001b[0msys\u001b[0m\u001b[0;34m.\u001b[0m\u001b[0mexc_info\u001b[0m\u001b[0;34m(\u001b[0m\u001b[0;34m)\u001b[0m\u001b[0;34m[\u001b[0m\u001b[0;36m2\u001b[0m\u001b[0;34m]\u001b[0m\u001b[0;34m\u001b[0m\u001b[0;34m\u001b[0m\u001b[0m\n\u001b[0m\u001b[1;32m    789\u001b[0m             )\n\u001b[1;32m    790\u001b[0m             \u001b[0mretries\u001b[0m\u001b[0;34m.\u001b[0m\u001b[0msleep\u001b[0m\u001b[0;34m(\u001b[0m\u001b[0;34m)\u001b[0m\u001b[0;34m\u001b[0m\u001b[0;34m\u001b[0m\u001b[0m\n",
            "\u001b[0;32m/usr/local/lib/python3.7/dist-packages/urllib3/util/retry.py\u001b[0m in \u001b[0;36mincrement\u001b[0;34m(self, method, url, response, error, _pool, _stacktrace)\u001b[0m\n\u001b[1;32m    590\u001b[0m \u001b[0;34m\u001b[0m\u001b[0m\n\u001b[1;32m    591\u001b[0m         \u001b[0;32mif\u001b[0m \u001b[0mnew_retry\u001b[0m\u001b[0;34m.\u001b[0m\u001b[0mis_exhausted\u001b[0m\u001b[0;34m(\u001b[0m\u001b[0;34m)\u001b[0m\u001b[0;34m:\u001b[0m\u001b[0;34m\u001b[0m\u001b[0;34m\u001b[0m\u001b[0m\n\u001b[0;32m--> 592\u001b[0;31m             \u001b[0;32mraise\u001b[0m \u001b[0mMaxRetryError\u001b[0m\u001b[0;34m(\u001b[0m\u001b[0m_pool\u001b[0m\u001b[0;34m,\u001b[0m \u001b[0murl\u001b[0m\u001b[0;34m,\u001b[0m \u001b[0merror\u001b[0m \u001b[0;32mor\u001b[0m \u001b[0mResponseError\u001b[0m\u001b[0;34m(\u001b[0m\u001b[0mcause\u001b[0m\u001b[0;34m)\u001b[0m\u001b[0;34m)\u001b[0m\u001b[0;34m\u001b[0m\u001b[0;34m\u001b[0m\u001b[0m\n\u001b[0m\u001b[1;32m    593\u001b[0m \u001b[0;34m\u001b[0m\u001b[0m\n\u001b[1;32m    594\u001b[0m         \u001b[0mlog\u001b[0m\u001b[0;34m.\u001b[0m\u001b[0mdebug\u001b[0m\u001b[0;34m(\u001b[0m\u001b[0;34m\"Incremented Retry for (url='%s'): %r\"\u001b[0m\u001b[0;34m,\u001b[0m \u001b[0murl\u001b[0m\u001b[0;34m,\u001b[0m \u001b[0mnew_retry\u001b[0m\u001b[0;34m)\u001b[0m\u001b[0;34m\u001b[0m\u001b[0;34m\u001b[0m\u001b[0m\n",
            "\u001b[0;31mMaxRetryError\u001b[0m: HTTPConnectionPool(host='localhost', port=55145): Max retries exceeded with url: /session/bd7dfc0a52b7f0bdceceaab4ec83a55c/url (Caused by NewConnectionError('<urllib3.connection.HTTPConnection object at 0x7f80c1bdb6d0>: Failed to establish a new connection: [Errno 111] Connection refused'))"
          ]
        }
      ]
    },
    {
      "cell_type": "code",
      "metadata": {
        "id": "Y9Gviq-mn5Sg",
        "colab": {
          "base_uri": "https://localhost:8080/",
          "height": 287
        },
        "outputId": "2b372345-03ae-4fc2-d84b-a986c10313ed"
      },
      "source": [
        " wd.get(\"https://www.tripadvisor.it/Restaurants-g187849-Milan_Lombardy.html\")\n",
        "wd.save_screenshot('screenshot.png')\n",
        "\n",
        "%pylab inline\n",
        "import matplotlib.pyplot as plt\n",
        "import matplotlib.image as mpimg\n",
        "img=mpimg.imread('/content/screenshot.png')\n",
        "imgplot = plt.imshow(img)\n",
        "plt.show()\n"
      ],
      "execution_count": null,
      "outputs": [
        {
          "output_type": "stream",
          "name": "stdout",
          "text": [
            "Populating the interactive namespace from numpy and matplotlib\n"
          ]
        },
        {
          "output_type": "display_data",
          "data": {
            "text/plain": [
              "<Figure size 432x288 with 1 Axes>"
            ],
            "image/png": "[encoded data removed]"
          },
          "metadata": {
            "needs_background": "light"
          }
        }
      ]
    },
    {
      "cell_type": "markdown",
      "metadata": {
        "id": "p3Sbfud-WbV-"
      },
      "source": [
        "Take a look to the screenshot from our phantom browser.\n",
        "\n",
        "Note:\n",
        "- la language and the locale: It is en_US!\n",
        "- the screen ration: is it the same of our notebook?"
      ]
    },
    {
      "cell_type": "code",
      "metadata": {
        "id": "iBCZSC4dWfKW",
        "colab": {
          "base_uri": "https://localhost:8080/",
          "height": 287
        },
        "outputId": "b6d9ce11-ffb4-4e7d-ba59-ad9e94213c5f"
      },
      "source": [
        "wd.save_screenshot('screenshot.png')\n",
        "\n",
        "%pylab inline\n",
        "import matplotlib.pyplot as plt\n",
        "import matplotlib.image as mpimg\n",
        "img=mpimg.imread('/content/screenshot.png')\n",
        "imgplot = plt.imshow(img)\n",
        "plt.show()"
      ],
      "execution_count": null,
      "outputs": [
        {
          "output_type": "stream",
          "name": "stdout",
          "text": [
            "Populating the interactive namespace from numpy and matplotlib\n"
          ]
        },
        {
          "output_type": "display_data",
          "data": {
            "text/plain": [
              "<Figure size 432x288 with 1 Axes>"
            ],
            "image/png": "[encoded data removed]"
          },
          "metadata": {
            "needs_background": "light"
          }
        }
      ]
    },
    {
      "cell_type": "markdown",
      "metadata": {
        "id": "kRr2IAQsa1s_"
      },
      "source": [
        "Let's try to extract some information from the page\n",
        "\n",
        "\n",
        "\n",
        "`title` contains the title of our page.\n",
        "\n",
        "\n"
      ]
    },
    {
      "cell_type": "code",
      "metadata": {
        "id": "X033nUzra6uq",
        "colab": {
          "base_uri": "https://localhost:8080/"
        },
        "outputId": "43f1a0e8-e36b-4ca7-ff8c-fe5853092440"
      },
      "source": [
        "print(wd.title)"
      ],
      "execution_count": null,
      "outputs": [
        {
          "output_type": "stream",
          "name": "stdout",
          "text": [
            "I MIGLIORI 10 ristoranti a Milano - Aggiornamento di agosto 2022 - Tripadvisor\n"
          ]
        }
      ]
    },
    {
      "cell_type": "markdown",
      "metadata": {
        "id": "C2FL7PA0jXdP"
      },
      "source": [
        "### First exercise with *Selenium*\n",
        "\n",
        "Try it yourself... Print the contents of the page on the screen!\n",
        "\n",
        "Complete the code and annotate the different behaviour. Try to use the attributes/methods applied to `wd`\n",
        "\n",
        "- `page_source`\n",
        "- `find_element_by_tag_name(\"body\")`\n",
        "- `find_element_by_tag_name(\"body\").text`\n",
        "\n",
        "\n"
      ]
    },
    {
      "cell_type": "code",
      "metadata": {
        "id": "wkPbJsAPj19o"
      },
      "source": [
        "print(....)"
      ],
      "execution_count": null,
      "outputs": []
    },
    {
      "cell_type": "markdown",
      "metadata": {
        "id": "zK7Cf_mradiL"
      },
      "source": [
        "### How do we extract the values inside a page with CSS Selector?\n",
        "\n",
        "Selenium has a method called `find_elements(by=By.CSS_SELECTOR, value='..')`.\n",
        "\n",
        "We will pass our CSS Selector into this method and get a list of selenium elements. Once we have the element, we can extract the text inside it using the `text` function."
      ]
    },
    {
      "cell_type": "code",
      "metadata": {
        "id": "WFuRVKIdbWN3",
        "colab": {
          "base_uri": "https://localhost:8080/"
        },
        "outputId": "385e619c-20f5-4801-8eba-b5c3884d0969"
      },
      "source": [
        "wd.get(\"https://www.tripadvisor.it/Restaurants-g187849-Milan_Lombardy.html\")\n",
        "time.sleep(10)\n",
        "list_titles = wd.find_elements(by=By.CSS_SELECTOR, value=\"div.zdCeB.Vt.o\")\n",
        "print(len(list_titles))"
      ],
      "execution_count": null,
      "outputs": [
        {
          "output_type": "stream",
          "name": "stdout",
          "text": [
            "37\n"
          ]
        }
      ]
    },
    {
      "cell_type": "code",
      "metadata": {
        "id": "cRPP5xUrbwcE"
      },
      "source": [
        "print(list_titles[0].text)"
      ],
      "execution_count": null,
      "outputs": []
    },
    {
      "cell_type": "markdown",
      "metadata": {
        "id": "bAtLMeKVb8Wp"
      },
      "source": [
        "### Exercise on *find_elements_by_css_selector*\n",
        "\n",
        "Try to export the list of `div.discoverableCard-description` elements and show the content of the first element. Scope: get the description of the projects\n",
        "\n",
        "\n"
      ]
    },
    {
      "cell_type": "code",
      "metadata": {
        "id": "6_4-y31fcEYq",
        "colab": {
          "base_uri": "https://localhost:8080/"
        },
        "outputId": "dc74caaf-b97f-4277-df90-ceb1245ba133"
      },
      "source": [
        "list_description = wd.find_elements(by=By.CSS_SELECTOR, value=\"div.zdCeB.Vt.o\")\n",
        "print(len(list_description))"
      ],
      "execution_count": null,
      "outputs": [
        {
          "output_type": "stream",
          "name": "stdout",
          "text": [
            "37\n"
          ]
        }
      ]
    },
    {
      "cell_type": "markdown",
      "metadata": {
        "id": "A1ETBqlPcQhl"
      },
      "source": [
        "# Project List from Indiegogo\n",
        "\n",
        "Let's begin to download the list of projects.\n",
        "\n",
        "The list of projects is defined by the css selection rule\n",
        "`discoverable-card`\n",
        "\n"
      ]
    },
    {
      "cell_type": "code",
      "metadata": {
        "id": "_V1hNO9ZcJy6",
        "colab": {
          "base_uri": "https://localhost:8080/"
        },
        "outputId": "4847c970-1a76-4c42-b384-f6e72b32c790"
      },
      "source": [
        "list_projects = wd.find_elements(by=By.CSS_SELECTOR, value=\"div.zdCeB.Vt.o\")\n",
        "print(len(list_projects))"
      ],
      "execution_count": null,
      "outputs": [
        {
          "output_type": "stream",
          "name": "stdout",
          "text": [
            "37\n"
          ]
        }
      ]
    },
    {
      "cell_type": "markdown",
      "metadata": {
        "id": "k_fSFWX0cktI"
      },
      "source": [
        "Gread! We find 12 project!\n",
        "\n",
        "Now, we will extract the attribute from each single element.\n",
        "The scope is to create one dict for each project in the list with the attribute:\n",
        "\n",
        "\n",
        "1.   url\n",
        "2.   title\n",
        "3.   description\n",
        "4.   category\n",
        "5.   progress\n",
        "\n"
      ]
    },
    {
      "cell_type": "code",
      "metadata": {
        "id": "1J2xAL6qcj9-",
        "colab": {
          "base_uri": "https://localhost:8080/"
        },
        "outputId": "ee4a48f1-9201-4806-b197-5d39d37f5318"
      },
      "source": [
        "import pprint\n",
        "detail_projects = []\n",
        "for project in list_projects:\n",
        "    url = project.find_elements(by=By.CSS_SELECTOR, value=\"a\")[0].get_attribute(\"href\")\n",
        "    recensione = \"\"\n",
        "  \n",
        "    if(len(project.find_elements(by=By.CSS_SELECTOR, value=\".Lwqic.Cj.b\")) > 0):\n",
        "      title = project.find_elements(by=By.CSS_SELECTOR, value=\".Lwqic.Cj.b\")[0].text\n",
        "    if(len(project.find_elements(by=By.CSS_SELECTOR, value=\".IiChw\")) > 0):\n",
        "      recensione = project.find_elements(by=By.CSS_SELECTOR, value=\".IiChw\")[0].text\n",
        "    restaurant_id = url\n",
        "\n",
        "    detail_projects.append({'url': url,\n",
        "                            'title': title,\n",
        "                            'recensione': recensione,\n",
        "                            'restaurant_id': restaurant_id})\n",
        "\n",
        "len(detail_projects)\n",
        "pprint.pprint(detail_projects[0:5])"
      ],
      "execution_count": null,
      "outputs": [
        {
          "output_type": "stream",
          "name": "stdout",
          "text": [
            "[{'recensione': '27 recensioni',\n",
            "  'restaurant_id': 'https://www.tripadvisor.it/Restaurant_Review-g187849-d23934354-Reviews-I_Barolisti-Milan_Lombardy.html',\n",
            "  'title': 'I Barolisti',\n",
            "  'url': 'https://www.tripadvisor.it/Restaurant_Review-g187849-d23934354-Reviews-I_Barolisti-Milan_Lombardy.html'},\n",
            " {'recensione': '72 recensioni',\n",
            "  'restaurant_id': 'https://www.tripadvisor.it/Restaurant_Review-g187849-d24167962-Reviews-Parea_Bistrot-Milan_Lombardy.html',\n",
            "  'title': '1. Parea Bistrot',\n",
            "  'url': 'https://www.tripadvisor.it/Restaurant_Review-g187849-d24167962-Reviews-Parea_Bistrot-Milan_Lombardy.html'},\n",
            " {'recensione': '758 recensioni',\n",
            "  'restaurant_id': 'https://www.tripadvisor.it/Restaurant_Review-g187849-d17805000-Reviews-Mabuhay_Restaurant-Milan_Lombardy.html',\n",
            "  'title': '2. Mabuhay Restaurant',\n",
            "  'url': 'https://www.tripadvisor.it/Restaurant_Review-g187849-d17805000-Reviews-Mabuhay_Restaurant-Milan_Lombardy.html'},\n",
            " {'recensione': '214 recensioni',\n",
            "  'restaurant_id': 'https://www.tripadvisor.it/Restaurant_Review-g187849-d23650099-Reviews-Marea_Seafood_Beverage-Milan_Lombardy.html',\n",
            "  'title': '3. Marea Seafood & Beverage',\n",
            "  'url': 'https://www.tripadvisor.it/Restaurant_Review-g187849-d23650099-Reviews-Marea_Seafood_Beverage-Milan_Lombardy.html'},\n",
            " {'recensione': '109 recensioni',\n",
            "  'restaurant_id': 'https://www.tripadvisor.it/Restaurant_Review-g187849-d15831930-Reviews-BLUE_M_Milano_Bottega_Marchigiana-Milan_Lombardy.html',\n",
            "  'title': '4. BLUE M Milano - Bottega Marchigiana',\n",
            "  'url': 'https://www.tripadvisor.it/Restaurant_Review-g187849-d15831930-Reviews-BLUE_M_Milano_Bottega_Marchigiana-Milan_Lombardy.html'}]\n"
          ]
        }
      ]
    },
    {
      "cell_type": "markdown",
      "metadata": {
        "id": "9Sn0txryfR4c"
      },
      "source": [
        "Now let's try downloading all the ads on the front page...\n",
        "and then move on to the second.\n",
        "\n",
        "First we define a `parse_project` function to make the code cleaner and to reuse the function."
      ]
    },
    {
      "cell_type": "code",
      "metadata": {
        "id": "tD3KLUrIfTJd"
      },
      "source": [
        "def parse_project(project):\n",
        "  url = project.find_elements(by=By.CSS_SELECTOR, value=\"a\")[0].get_attribute(\"href\")\n",
        "  recensione = \"\"\n",
        "  try:\n",
        "    if(len(project.find_elements(by=By.CSS_SELECTOR, value=\".Lwqic.Cj.b\")) > 0):\n",
        "      title = project.find_elements(by=By.CSS_SELECTOR, value=\".Lwqic.Cj.b\")[0].text\n",
        "    if(len(project.find_elements(by=By.CSS_SELECTOR, value=\".IiChw\")) > 0):\n",
        "      recensione = project.find_elements(by=By.CSS_SELECTOR, value=\".IiChw\")[0].text\n",
        "    restaurant_id = url\n",
        "  except:\n",
        "    pass\n",
        "  return {'url': url,\n",
        "          'title': title,\n",
        "          'recensione': recensione,\n",
        "          'restaurant_id': restaurant_id}"
      ],
      "execution_count": null,
      "outputs": []
    },
    {
      "cell_type": "markdown",
      "metadata": {
        "id": "SR-xG0FIgf7u"
      },
      "source": [
        "Here's how to download the first page of projects..."
      ]
    },
    {
      "cell_type": "code",
      "metadata": {
        "id": "TfWSS_33fbZg",
        "colab": {
          "base_uri": "https://localhost:8080/",
          "height": 109,
          "referenced_widgets": [
            "cf875a0b276b4857a26864f76e8660cf",
            "0ab1cf53b0184d7db8bd2e6901ac56ed",
            "ff597f4d79d9411c902b7ec49f2df8f9",
            "af566bc2f49a47809fea9acfaef71c20",
            "e6bdf7fceaab4772bd98c0b9dc2a8cdc",
            "82a8e18fb4644210a3b692c9f778a8ad",
            "2951a3f21d554135b92f0b62792539a9",
            "12f5f33b8dbc426babecd51c5c591c89",
            "ad01c9fa49ee4d9db1ab2a582909023c",
            "195d39bf9c964bdab189f74949a0ecd9",
            "f99969928ae04f63ab0776079143fd38"
          ]
        },
        "outputId": "d44a582e-7ab9-4b07-9a6a-07cc6e68404d"
      },
      "source": [
        "detail_projects = []\n",
        "wd.get(\"https://www.tripadvisor.it/Restaurants-g187849-Milan_Lombardy.html\")\n",
        "wd.save_screenshot(f'screenshot.png')\n",
        "list_projects = wd.find_elements(by=By.CSS_SELECTOR, value=\"div.zdCeB.Vt.o\")\n",
        "for project in tqdm(list_projects):\n",
        "  detail_projects.append(parse_project(project))\n",
        "\n",
        "print(len(detail_projects))"
      ],
      "execution_count": null,
      "outputs": [
        {
          "output_type": "stream",
          "name": "stderr",
          "text": [
            "/usr/local/lib/python3.7/dist-packages/ipykernel_launcher.py:5: TqdmDeprecationWarning: This function will be removed in tqdm==5.0.0\n",
            "Please use `tqdm.notebook.tqdm` instead of `tqdm.tqdm_notebook`\n",
            "  \"\"\"\n"
          ]
        },
        {
          "output_type": "display_data",
          "data": {
            "text/plain": [
              "  0%|          | 0/35 [00:00<?, ?it/s]"
            ],
            "application/vnd.jupyter.widget-view+json": {
              "version_major": 2,
              "version_minor": 0,
              "model_id": "cf875a0b276b4857a26864f76e8660cf"
            },
            "application/json": {
              "n": 0,
              "total": 35,
              "elapsed": 0.0705115795135498,
              "ncols": null,
              "nrows": null,
              "prefix": "",
              "ascii": false,
              "unit": "it",
              "unit_scale": false,
              "rate": null,
              "bar_format": null,
              "postfix": null,
              "unit_divisor": 1000,
              "initial": 0,
              "colour": null
            }
          },
          "metadata": {}
        },
        {
          "output_type": "stream",
          "name": "stdout",
          "text": [
            "35\n"
          ]
        }
      ]
    },
    {
      "cell_type": "markdown",
      "metadata": {
        "id": "HbjVFLOOgnNx"
      },
      "source": [
        "Have you seen the bookstore **tqdm**!\n",
        "Find at this link all the documentation **https://github.com/tqdm/tqdm**:\n",
        "is very useful to make our notebook more nice..."
      ]
    },
    {
      "cell_type": "markdown",
      "metadata": {
        "id": "S9MsWLutg4Oi"
      },
      "source": [
        "### How to end scraping?\n",
        "Problem: When do we stop?\n",
        "\n",
        "There are several ways. Some simpler and some more advanced:\n",
        "- We can search inside the page for the ad number and divide it by 12\n",
        "- We can check the status of the request (if (status_code == 200):... for a list of possible http status codes please check https://en.wikipedia.org/wiki/List_of_HTTP_status_codes)\n",
        "- We can check the number of ads found (if > 0...)\n",
        "- Other more advanced techniques...\n",
        "\n",
        "For example, in our case, let's go to verify the presence, or not, of the *Snow more* button inside the page. If present, we continue scraping, otherwise we stop.\n",
        "\n",
        "Actually, we can also combine more than one of these techniques.\n",
        "\n"
      ]
    },
    {
      "cell_type": "code",
      "source": [
        "for project in list_projects:\n",
        "    url = project.find_elements(by=By.CSS_SELECTOR, value=\"a\")[0].get_attribute(\"href\")\n",
        "    recensione = \"\"\n",
        "  \n",
        "    if(len(project.find_elements(by=By.CSS_SELECTOR, value=\".Lwqic.Cj.b\")) > 0):\n",
        "      title = project.find_elements(by=By.CSS_SELECTOR, value=\".Lwqic.Cj.b\")[0].text\n",
        "    if(len(project.find_elements(by=By.CSS_SELECTOR, value=\".IiChw\")) > 0):\n",
        "      recensione = project.find_elements(by=By.CSS_SELECTOR, value=\".IiChw\")[0].text\n",
        "    restaurant_id = url\n",
        "\n",
        "    detail_projects.append({'url': url,\n",
        "                            'title': title,\n",
        "                            'recensione': recensione,\n",
        "                            'restaurant_id': restaurant_id})"
      ],
      "metadata": {
        "id": "Ho653vGXYpRV"
      },
      "execution_count": null,
      "outputs": []
    },
    {
      "cell_type": "code",
      "source": [
        "#Estrazione dei ristoranti fino a 50 pagine\n",
        "import time\n",
        "detail_projects = []\n",
        "wd.get(\"https://www.tripadvisor.it/Restaurants-g187849-Milan_Lombardy.html\")\n",
        "time.sleep(5)\n",
        "wd.save_screenshot(\"check_browser.png\")\n",
        "for num in tqdm(range(1,50)): #50 pagine\n",
        "  list_projects = wd.find_elements(by=By.CSS_SELECTOR, value=f\"div.zdCeB.Vt.o\")\n",
        "  for project in list_projects:\n",
        "    detail_projects.append(parse_project(project))   \n",
        "  if (len(wd.find_elements(by=By.CSS_SELECTOR, value=\".nav.next.rndBtn.ui_button.primary.taLnk\")) > 0):\n",
        "    link = wd.find_elements(by=By.CSS_SELECTOR, value=\".nav.next.rndBtn.ui_button.primary.taLnk\")[0].get_attribute(\"href\")\n",
        "    wd.get(link)\n",
        "    time.sleep(2) \n",
        "  else: \n",
        "    break"
      ],
      "metadata": {
        "colab": {
          "base_uri": "https://localhost:8080/",
          "height": 91,
          "referenced_widgets": [
            "7177e2e5b98e46bdabbb4b745a740379",
            "ce9d79677cd04dbe8c9ec20bd5778314",
            "22a9713c6f3f435b84396d2ae398df79",
            "0341ac40bf3043aea1d65212638f0f83",
            "4febfee5be3e4508824a6853088d19a7",
            "22a8e062ee95439db71e240f88e85b38",
            "49898b186f7446b0b0d3a4d7e5f085b4",
            "979491b025fa46b38492adbbf957c5b2",
            "6a6606dd68b741979c24253f1aa3d323",
            "7278b7f5a33642b1881a026036821842",
            "a29bfbec87974e018169632765b59796"
          ]
        },
        "id": "TJS-icPjJbvb",
        "outputId": "e31b9bf9-493f-4881-ed4a-49466efbec5e"
      },
      "execution_count": null,
      "outputs": [
        {
          "output_type": "stream",
          "name": "stderr",
          "text": [
            "/usr/local/lib/python3.7/dist-packages/ipykernel_launcher.py:7: TqdmDeprecationWarning: This function will be removed in tqdm==5.0.0\n",
            "Please use `tqdm.notebook.tqdm` instead of `tqdm.tqdm_notebook`\n",
            "  import sys\n"
          ]
        },
        {
          "output_type": "display_data",
          "data": {
            "text/plain": [
              "  0%|          | 0/49 [00:00<?, ?it/s]"
            ],
            "application/vnd.jupyter.widget-view+json": {
              "version_major": 2,
              "version_minor": 0,
              "model_id": "7177e2e5b98e46bdabbb4b745a740379"
            },
            "application/json": {
              "n": 0,
              "total": 49,
              "elapsed": 0.04804277420043945,
              "ncols": null,
              "nrows": null,
              "prefix": "",
              "ascii": false,
              "unit": "it",
              "unit_scale": false,
              "rate": null,
              "bar_format": null,
              "postfix": null,
              "unit_divisor": 1000,
              "initial": 0,
              "colour": null
            }
          },
          "metadata": {}
        }
      ]
    },
    {
      "cell_type": "code",
      "source": [
        "#Christian non usato\n",
        "import time\n",
        "detail_projects = []\n",
        "wd.get(\"https://www.tripadvisor.it/Restaurants-g187849-Milan_Lombardy.html\")\n",
        "time.sleep(5)\n",
        "wd.save_screenshot(\"check_browser.png\")\n",
        "for num in tqdm(range(1,2)):   #30 pagine\n",
        "  items = (num - 1) * 12\n",
        "  list_projects = wd.find_elements(by=By.CSS_SELECTOR, value=f\"div.zdCeB.Vt.o:nth-child(n+{items})\")\n",
        "  for project in list_projects:\n",
        "    detail_projects.append(parse_project(project))\n",
        "  if (len(wd.find_elements(by=By.CSS_SELECTOR, value=\".nav.next.rndBtn.ui_button.primary.taLnk\")) > 0):\n",
        "    wd.find_elements(by=By.CSS_SELECTOR, value=\".nav.next.rndBtn.ui_button.primary.taLnk\")[0].click()\n",
        "    time.sleep(10)\n",
        "    wd.save_screenshot(\"check_browser.png\")\n",
        "  else:\n",
        "    break"
      ],
      "metadata": {
        "id": "DACBi1dM8k-q"
      },
      "execution_count": null,
      "outputs": []
    },
    {
      "cell_type": "code",
      "metadata": {
        "id": "nkofmsCGgwQA"
      },
      "source": [
        "#Marco non usato\n",
        "import time\n",
        "detail_projects = []\n",
        "wd.get(\"https://www.tripadvisor.it/Restaurants-g187849-Milan_Lombardy.html\")\n",
        "time.sleep(5)\n",
        "wd.save_screenshot(\"check_browser.png\")\n",
        "for num in tqdm(range(1,30)):   #30 pagine\n",
        "  items = (num - 1) * 36\n",
        "  list_projects = wd.find_elements(by=By.CSS_SELECTOR, value=f\"div.zdCeB.Vt.o:nth-child(n+{items})\")\n",
        "  for project in list_projects:\n",
        "    detail_projects.append(parse_project(project))\n",
        "  if (len(wd.find_elements(by=By.CSS_SELECTOR, value=\"a.nav.next\")) > 0):\n",
        "    wd.find_elements(by=By.CSS_SELECTOR, value=\"a.nav.next\")[0].click()\n",
        "    time.sleep(10)\n",
        "    wd.save_screenshot(\"check_browser.png\")\n",
        "  else:\n",
        "    break\n",
        "\n"
      ],
      "execution_count": null,
      "outputs": []
    },
    {
      "cell_type": "code",
      "metadata": {
        "id": "Gmq5qNHoAUk7",
        "colab": {
          "base_uri": "https://localhost:8080/"
        },
        "outputId": "41985ec0-22a4-42ca-e584-a4bef65f8a23"
      },
      "source": [
        "print(len(detail_projects))\n"
      ],
      "execution_count": null,
      "outputs": [
        {
          "output_type": "stream",
          "name": "stdout",
          "text": [
            "1811\n"
          ]
        }
      ]
    },
    {
      "cell_type": "markdown",
      "metadata": {
        "id": "TqxsicNNovfy"
      },
      "source": [
        "# Pandas and data processing\n",
        "\n",
        "**Well!**\n",
        "We're starting to see another amazing library for working with data!\n",
        "\n",
        "It's **pandas**: *Python library for data analysis*.\n",
        "\n",
        "Basically, with pandas we can manipulate a data set or a historical series in Python.\n",
        "\n",
        "For now, we start to give a couple of concepts.\n",
        "\n",
        "Pandas is based on two types of data: **Series** and **DataFrame**:\n",
        "- `Series` represents a list of data\n",
        "- `DataFrame` represent a data set in tabular format\n",
        "\n",
        "Each column of a `DataFrame` is a `Series`.\n",
        "\n",
        "We can create a `DataFrame` using the `pd.DataFrame` method by passing our dictionary as an input parameter.\n",
        "\n",
        "A `DataFrame` pandas can be easily exported in *CSV*, *Excel*, ...\n",
        "\n",
        "For more information about `Pandas` see\n",
        "\n",
        "https://pandas.pydata.org/getting_started.html\n"
      ]
    },
    {
      "cell_type": "code",
      "metadata": {
        "id": "MumFgyNypoBo",
        "colab": {
          "base_uri": "https://localhost:8080/",
          "height": 426
        },
        "outputId": "51aa1eef-7ca2-4f3f-a371-ded3fe42312a"
      },
      "source": [
        "import pandas as pd\n",
        "ds_detail_projects = pd.DataFrame(detail_projects)\n",
        "ds_detail_projects.set_index(\"restaurant_id\")\n",
        "ds_detail_projects.head()"
      ],
      "execution_count": null,
      "outputs": [
        {
          "output_type": "execute_result",
          "data": {
            "text/plain": [
              "                                                 url  \\\n",
              "0  https://www.tripadvisor.it/Restaurant_Review-g...   \n",
              "1  https://www.tripadvisor.it/Restaurant_Review-g...   \n",
              "2  https://www.tripadvisor.it/Restaurant_Review-g...   \n",
              "3  https://www.tripadvisor.it/Restaurant_Review-g...   \n",
              "4  https://www.tripadvisor.it/Restaurant_Review-g...   \n",
              "\n",
              "                                    title      recensione  \\\n",
              "0                    South Garage Bistrot    9 recensioni   \n",
              "1                        1. Parea Bistrot   72 recensioni   \n",
              "2                   2. Mabuhay Restaurant  758 recensioni   \n",
              "3             3. Marea Seafood & Beverage  214 recensioni   \n",
              "4  4. BLUE M Milano - Bottega Marchigiana  109 recensioni   \n",
              "\n",
              "                                       restaurant_id  \n",
              "0  https://www.tripadvisor.it/Restaurant_Review-g...  \n",
              "1  https://www.tripadvisor.it/Restaurant_Review-g...  \n",
              "2  https://www.tripadvisor.it/Restaurant_Review-g...  \n",
              "3  https://www.tripadvisor.it/Restaurant_Review-g...  \n",
              "4  https://www.tripadvisor.it/Restaurant_Review-g...  "
            ],
            "text/html": [
              "\n",
              "  <div id=\"df-877c4aad-6654-4d6c-9f7b-79849e536e4d\">\n",
              "    <div class=\"colab-df-container\">\n",
              "      <div>\n",
              "<style scoped>\n",
              "    .dataframe tbody tr th:only-of-type {\n",
              "        vertical-align: middle;\n",
              "    }\n",
              "\n",
              "    .dataframe tbody tr th {\n",
              "        vertical-align: top;\n",
              "    }\n",
              "\n",
              "    .dataframe thead th {\n",
              "        text-align: right;\n",
              "    }\n",
              "</style>\n",
              "<table border=\"1\" class=\"dataframe\">\n",
              "  <thead>\n",
              "    <tr style=\"text-align: right;\">\n",
              "      <th></th>\n",
              "      <th>url</th>\n",
              "      <th>title</th>\n",
              "      <th>recensione</th>\n",
              "      <th>restaurant_id</th>\n",
              "    </tr>\n",
              "  </thead>\n",
              "  <tbody>\n",
              "    <tr>\n",
              "      <th>0</th>\n",
              "      <td>https://www.tripadvisor.it/Restaurant_Review-g...</td>\n",
              "      <td>South Garage Bistrot</td>\n",
              "      <td>9 recensioni</td>\n",
              "      <td>https://www.tripadvisor.it/Restaurant_Review-g...</td>\n",
              "    </tr>\n",
              "    <tr>\n",
              "      <th>1</th>\n",
              "      <td>https://www.tripadvisor.it/Restaurant_Review-g...</td>\n",
              "      <td>1. Parea Bistrot</td>\n",
              "      <td>72 recensioni</td>\n",
              "      <td>https://www.tripadvisor.it/Restaurant_Review-g...</td>\n",
              "    </tr>\n",
              "    <tr>\n",
              "      <th>2</th>\n",
              "      <td>https://www.tripadvisor.it/Restaurant_Review-g...</td>\n",
              "      <td>2. Mabuhay Restaurant</td>\n",
              "      <td>758 recensioni</td>\n",
              "      <td>https://www.tripadvisor.it/Restaurant_Review-g...</td>\n",
              "    </tr>\n",
              "    <tr>\n",
              "      <th>3</th>\n",
              "      <td>https://www.tripadvisor.it/Restaurant_Review-g...</td>\n",
              "      <td>3. Marea Seafood &amp; Beverage</td>\n",
              "      <td>214 recensioni</td>\n",
              "      <td>https://www.tripadvisor.it/Restaurant_Review-g...</td>\n",
              "    </tr>\n",
              "    <tr>\n",
              "      <th>4</th>\n",
              "      <td>https://www.tripadvisor.it/Restaurant_Review-g...</td>\n",
              "      <td>4. BLUE M Milano - Bottega Marchigiana</td>\n",
              "      <td>109 recensioni</td>\n",
              "      <td>https://www.tripadvisor.it/Restaurant_Review-g...</td>\n",
              "    </tr>\n",
              "  </tbody>\n",
              "</table>\n",
              "</div>\n",
              "      <button class=\"colab-df-convert\" onclick=\"convertToInteractive('df-877c4aad-6654-4d6c-9f7b-79849e536e4d')\"\n",
              "              title=\"Convert this dataframe to an interactive table.\"\n",
              "              style=\"display:none;\">\n",
              "        \n",
              "  <svg xmlns=\"http://www.w3.org/2000/svg\" height=\"24px\"viewBox=\"0 0 24 24\"\n",
              "       width=\"24px\">\n",
              "    <path d=\"M0 0h24v24H0V0z\" fill=\"none\"/>\n",
              "    <path d=\"M18.56 5.44l.94 2.06.94-2.06 2.06-.94-2.06-.94-.94-2.06-.94 2.06-2.06.94zm-11 1L8.5 8.5l.94-2.06 2.06-.94-2.06-.94L8.5 2.5l-.94 2.06-2.06.94zm10 10l.94 2.06.94-2.06 2.06-.94-2.06-.94-.94-2.06-.94 2.06-2.06.94z\"/><path d=\"M17.41 7.96l-1.37-1.37c-.4-.4-.92-.59-1.43-.59-.52 0-1.04.2-1.43.59L10.3 9.45l-7.72 7.72c-.78.78-.78 2.05 0 2.83L4 21.41c.39.39.9.59 1.41.59.51 0 1.02-.2 1.41-.59l7.78-7.78 2.81-2.81c.8-.78.8-2.07 0-2.86zM5.41 20L4 18.59l7.72-7.72 1.47 1.35L5.41 20z\"/>\n",
              "  </svg>\n",
              "      </button>\n",
              "      \n",
              "  <style>\n",
              "    .colab-df-container {\n",
              "      display:flex;\n",
              "      flex-wrap:wrap;\n",
              "      gap: 12px;\n",
              "    }\n",
              "\n",
              "    .colab-df-convert {\n",
              "      background-color: #E8F0FE;\n",
              "      border: none;\n",
              "      border-radius: 50%;\n",
              "      cursor: pointer;\n",
              "      display: none;\n",
              "      fill: #1967D2;\n",
              "      height: 32px;\n",
              "      padding: 0 0 0 0;\n",
              "      width: 32px;\n",
              "    }\n",
              "\n",
              "    .colab-df-convert:hover {\n",
              "      background-color: #E2EBFA;\n",
              "      box-shadow: 0px 1px 2px rgba(60, 64, 67, 0.3), 0px 1px 3px 1px rgba(60, 64, 67, 0.15);\n",
              "      fill: #174EA6;\n",
              "    }\n",
              "\n",
              "    [theme=dark] .colab-df-convert {\n",
              "      background-color: #3B4455;\n",
              "      fill: #D2E3FC;\n",
              "    }\n",
              "\n",
              "    [theme=dark] .colab-df-convert:hover {\n",
              "      background-color: #434B5C;\n",
              "      box-shadow: 0px 1px 3px 1px rgba(0, 0, 0, 0.15);\n",
              "      filter: drop-shadow(0px 1px 2px rgba(0, 0, 0, 0.3));\n",
              "      fill: #FFFFFF;\n",
              "    }\n",
              "  </style>\n",
              "\n",
              "      <script>\n",
              "        const buttonEl =\n",
              "          document.querySelector('#df-877c4aad-6654-4d6c-9f7b-79849e536e4d button.colab-df-convert');\n",
              "        buttonEl.style.display =\n",
              "          google.colab.kernel.accessAllowed ? 'block' : 'none';\n",
              "\n",
              "        async function convertToInteractive(key) {\n",
              "          const element = document.querySelector('#df-877c4aad-6654-4d6c-9f7b-79849e536e4d');\n",
              "          const dataTable =\n",
              "            await google.colab.kernel.invokeFunction('convertToInteractive',\n",
              "                                                     [key], {});\n",
              "          if (!dataTable) return;\n",
              "\n",
              "          const docLinkHtml = 'Like what you see? Visit the ' +\n",
              "            '<a target=\"_blank\" href=https://colab.research.google.com/notebooks/data_table.ipynb>data table notebook</a>'\n",
              "            + ' to learn more about interactive tables.';\n",
              "          element.innerHTML = '';\n",
              "          dataTable['output_type'] = 'display_data';\n",
              "          await google.colab.output.renderOutput(dataTable, element);\n",
              "          const docLink = document.createElement('div');\n",
              "          docLink.innerHTML = docLinkHtml;\n",
              "          element.appendChild(docLink);\n",
              "        }\n",
              "      </script>\n",
              "    </div>\n",
              "  </div>\n",
              "  "
            ]
          },
          "metadata": {},
          "execution_count": 15
        }
      ]
    },
    {
      "cell_type": "markdown",
      "metadata": {
        "id": "GwW7Sj7irFDT"
      },
      "source": [
        "The `.info()` method provides an indication of the structure and data of the `DataFrame`."
      ]
    },
    {
      "cell_type": "code",
      "metadata": {
        "id": "_tFbyPwcrNY4",
        "colab": {
          "base_uri": "https://localhost:8080/"
        },
        "outputId": "94941ab2-a54d-4e8d-e261-43ce37c56378"
      },
      "source": [
        "ds_detail_projects.info()"
      ],
      "execution_count": null,
      "outputs": [
        {
          "output_type": "stream",
          "name": "stdout",
          "text": [
            "<class 'pandas.core.frame.DataFrame'>\n",
            "RangeIndex: 147 entries, 0 to 146\n",
            "Data columns (total 4 columns):\n",
            " #   Column         Non-Null Count  Dtype \n",
            "---  ------         --------------  ----- \n",
            " 0   url            147 non-null    object\n",
            " 1   title          147 non-null    object\n",
            " 2   recensione     147 non-null    object\n",
            " 3   restaurant_id  147 non-null    object\n",
            "dtypes: object(4)\n",
            "memory usage: 4.7+ KB\n"
          ]
        }
      ]
    },
    {
      "cell_type": "code",
      "metadata": {
        "id": "3lUw4-_BrQDh"
      },
      "source": [
        "ds_detail_projects.to_csv('ds_projectstriptestfinal.csv')"
      ],
      "execution_count": null,
      "outputs": []
    },
    {
      "cell_type": "markdown",
      "metadata": {
        "id": "AXdgP8t3q_A-"
      },
      "source": [
        "# Indiegogo Project pages ###\n",
        "\n",
        "Now, the goal is to navigate and download the details of each project and pictures of the houses.\n",
        "\n",
        "**Pandas** provides the *.read_csv* method that allows you to upload in CSV format files within a DataFrame."
      ]
    },
    {
      "cell_type": "code",
      "metadata": {
        "id": "yVnUyfGsvcac",
        "colab": {
          "base_uri": "https://localhost:8080/",
          "height": 527
        },
        "outputId": "0dfa4041-d091-4bc7-a2d8-d8ff55699ef5"
      },
      "source": [
        "# open csv file\n",
        "import pandas as pd\n",
        "ds_detail_projects = pd.read_csv(\"ds_projectstriptestfinal.csv\", index_col=\"restaurant_id\")\n",
        "ds_detail_projects.head()"
      ],
      "execution_count": null,
      "outputs": [
        {
          "output_type": "execute_result",
          "data": {
            "text/plain": [
              "                                                    Unnamed: 0  \\\n",
              "restaurant_id                                                    \n",
              "https://www.tripadvisor.it/Restaurant_Review-g1...           0   \n",
              "https://www.tripadvisor.it/Restaurant_Review-g1...           1   \n",
              "https://www.tripadvisor.it/Restaurant_Review-g1...           2   \n",
              "https://www.tripadvisor.it/Restaurant_Review-g1...           3   \n",
              "https://www.tripadvisor.it/Restaurant_Review-g1...           4   \n",
              "\n",
              "                                                                                                  url  \\\n",
              "restaurant_id                                                                                           \n",
              "https://www.tripadvisor.it/Restaurant_Review-g1...  https://www.tripadvisor.it/Restaurant_Review-g...   \n",
              "https://www.tripadvisor.it/Restaurant_Review-g1...  https://www.tripadvisor.it/Restaurant_Review-g...   \n",
              "https://www.tripadvisor.it/Restaurant_Review-g1...  https://www.tripadvisor.it/Restaurant_Review-g...   \n",
              "https://www.tripadvisor.it/Restaurant_Review-g1...  https://www.tripadvisor.it/Restaurant_Review-g...   \n",
              "https://www.tripadvisor.it/Restaurant_Review-g1...  https://www.tripadvisor.it/Restaurant_Review-g...   \n",
              "\n",
              "                                                                                     title  \\\n",
              "restaurant_id                                                                                \n",
              "https://www.tripadvisor.it/Restaurant_Review-g1...                    South Garage Bistrot   \n",
              "https://www.tripadvisor.it/Restaurant_Review-g1...                        1. Parea Bistrot   \n",
              "https://www.tripadvisor.it/Restaurant_Review-g1...                   2. Mabuhay Restaurant   \n",
              "https://www.tripadvisor.it/Restaurant_Review-g1...             3. Marea Seafood & Beverage   \n",
              "https://www.tripadvisor.it/Restaurant_Review-g1...  4. BLUE M Milano - Bottega Marchigiana   \n",
              "\n",
              "                                                        recensione  \n",
              "restaurant_id                                                       \n",
              "https://www.tripadvisor.it/Restaurant_Review-g1...    9 recensioni  \n",
              "https://www.tripadvisor.it/Restaurant_Review-g1...   72 recensioni  \n",
              "https://www.tripadvisor.it/Restaurant_Review-g1...  758 recensioni  \n",
              "https://www.tripadvisor.it/Restaurant_Review-g1...  214 recensioni  \n",
              "https://www.tripadvisor.it/Restaurant_Review-g1...  109 recensioni  "
            ],
            "text/html": [
              "\n",
              "  <div id=\"df-e73f008a-cc19-4ee5-abcf-5d8c816ab0c9\">\n",
              "    <div class=\"colab-df-container\">\n",
              "      <div>\n",
              "<style scoped>\n",
              "    .dataframe tbody tr th:only-of-type {\n",
              "        vertical-align: middle;\n",
              "    }\n",
              "\n",
              "    .dataframe tbody tr th {\n",
              "        vertical-align: top;\n",
              "    }\n",
              "\n",
              "    .dataframe thead th {\n",
              "        text-align: right;\n",
              "    }\n",
              "</style>\n",
              "<table border=\"1\" class=\"dataframe\">\n",
              "  <thead>\n",
              "    <tr style=\"text-align: right;\">\n",
              "      <th></th>\n",
              "      <th>Unnamed: 0</th>\n",
              "      <th>url</th>\n",
              "      <th>title</th>\n",
              "      <th>recensione</th>\n",
              "    </tr>\n",
              "    <tr>\n",
              "      <th>restaurant_id</th>\n",
              "      <th></th>\n",
              "      <th></th>\n",
              "      <th></th>\n",
              "      <th></th>\n",
              "    </tr>\n",
              "  </thead>\n",
              "  <tbody>\n",
              "    <tr>\n",
              "      <th>https://www.tripadvisor.it/Restaurant_Review-g187849-d23699716-Reviews-South_Garage_Bistrot-Milan_Lombardy.html</th>\n",
              "      <td>0</td>\n",
              "      <td>https://www.tripadvisor.it/Restaurant_Review-g...</td>\n",
              "      <td>South Garage Bistrot</td>\n",
              "      <td>9 recensioni</td>\n",
              "    </tr>\n",
              "    <tr>\n",
              "      <th>https://www.tripadvisor.it/Restaurant_Review-g187849-d24167962-Reviews-Parea_Bistrot-Milan_Lombardy.html</th>\n",
              "      <td>1</td>\n",
              "      <td>https://www.tripadvisor.it/Restaurant_Review-g...</td>\n",
              "      <td>1. Parea Bistrot</td>\n",
              "      <td>72 recensioni</td>\n",
              "    </tr>\n",
              "    <tr>\n",
              "      <th>https://www.tripadvisor.it/Restaurant_Review-g187849-d17805000-Reviews-Mabuhay_Restaurant-Milan_Lombardy.html</th>\n",
              "      <td>2</td>\n",
              "      <td>https://www.tripadvisor.it/Restaurant_Review-g...</td>\n",
              "      <td>2. Mabuhay Restaurant</td>\n",
              "      <td>758 recensioni</td>\n",
              "    </tr>\n",
              "    <tr>\n",
              "      <th>https://www.tripadvisor.it/Restaurant_Review-g187849-d23650099-Reviews-Marea_Seafood_Beverage-Milan_Lombardy.html</th>\n",
              "      <td>3</td>\n",
              "      <td>https://www.tripadvisor.it/Restaurant_Review-g...</td>\n",
              "      <td>3. Marea Seafood &amp; Beverage</td>\n",
              "      <td>214 recensioni</td>\n",
              "    </tr>\n",
              "    <tr>\n",
              "      <th>https://www.tripadvisor.it/Restaurant_Review-g187849-d15831930-Reviews-BLUE_M_Milano_Bottega_Marchigiana-Milan_Lombardy.html</th>\n",
              "      <td>4</td>\n",
              "      <td>https://www.tripadvisor.it/Restaurant_Review-g...</td>\n",
              "      <td>4. BLUE M Milano - Bottega Marchigiana</td>\n",
              "      <td>109 recensioni</td>\n",
              "    </tr>\n",
              "  </tbody>\n",
              "</table>\n",
              "</div>\n",
              "      <button class=\"colab-df-convert\" onclick=\"convertToInteractive('df-e73f008a-cc19-4ee5-abcf-5d8c816ab0c9')\"\n",
              "              title=\"Convert this dataframe to an interactive table.\"\n",
              "              style=\"display:none;\">\n",
              "        \n",
              "  <svg xmlns=\"http://www.w3.org/2000/svg\" height=\"24px\"viewBox=\"0 0 24 24\"\n",
              "       width=\"24px\">\n",
              "    <path d=\"M0 0h24v24H0V0z\" fill=\"none\"/>\n",
              "    <path d=\"M18.56 5.44l.94 2.06.94-2.06 2.06-.94-2.06-.94-.94-2.06-.94 2.06-2.06.94zm-11 1L8.5 8.5l.94-2.06 2.06-.94-2.06-.94L8.5 2.5l-.94 2.06-2.06.94zm10 10l.94 2.06.94-2.06 2.06-.94-2.06-.94-.94-2.06-.94 2.06-2.06.94z\"/><path d=\"M17.41 7.96l-1.37-1.37c-.4-.4-.92-.59-1.43-.59-.52 0-1.04.2-1.43.59L10.3 9.45l-7.72 7.72c-.78.78-.78 2.05 0 2.83L4 21.41c.39.39.9.59 1.41.59.51 0 1.02-.2 1.41-.59l7.78-7.78 2.81-2.81c.8-.78.8-2.07 0-2.86zM5.41 20L4 18.59l7.72-7.72 1.47 1.35L5.41 20z\"/>\n",
              "  </svg>\n",
              "      </button>\n",
              "      \n",
              "  <style>\n",
              "    .colab-df-container {\n",
              "      display:flex;\n",
              "      flex-wrap:wrap;\n",
              "      gap: 12px;\n",
              "    }\n",
              "\n",
              "    .colab-df-convert {\n",
              "      background-color: #E8F0FE;\n",
              "      border: none;\n",
              "      border-radius: 50%;\n",
              "      cursor: pointer;\n",
              "      display: none;\n",
              "      fill: #1967D2;\n",
              "      height: 32px;\n",
              "      padding: 0 0 0 0;\n",
              "      width: 32px;\n",
              "    }\n",
              "\n",
              "    .colab-df-convert:hover {\n",
              "      background-color: #E2EBFA;\n",
              "      box-shadow: 0px 1px 2px rgba(60, 64, 67, 0.3), 0px 1px 3px 1px rgba(60, 64, 67, 0.15);\n",
              "      fill: #174EA6;\n",
              "    }\n",
              "\n",
              "    [theme=dark] .colab-df-convert {\n",
              "      background-color: #3B4455;\n",
              "      fill: #D2E3FC;\n",
              "    }\n",
              "\n",
              "    [theme=dark] .colab-df-convert:hover {\n",
              "      background-color: #434B5C;\n",
              "      box-shadow: 0px 1px 3px 1px rgba(0, 0, 0, 0.15);\n",
              "      filter: drop-shadow(0px 1px 2px rgba(0, 0, 0, 0.3));\n",
              "      fill: #FFFFFF;\n",
              "    }\n",
              "  </style>\n",
              "\n",
              "      <script>\n",
              "        const buttonEl =\n",
              "          document.querySelector('#df-e73f008a-cc19-4ee5-abcf-5d8c816ab0c9 button.colab-df-convert');\n",
              "        buttonEl.style.display =\n",
              "          google.colab.kernel.accessAllowed ? 'block' : 'none';\n",
              "\n",
              "        async function convertToInteractive(key) {\n",
              "          const element = document.querySelector('#df-e73f008a-cc19-4ee5-abcf-5d8c816ab0c9');\n",
              "          const dataTable =\n",
              "            await google.colab.kernel.invokeFunction('convertToInteractive',\n",
              "                                                     [key], {});\n",
              "          if (!dataTable) return;\n",
              "\n",
              "          const docLinkHtml = 'Like what you see? Visit the ' +\n",
              "            '<a target=\"_blank\" href=https://colab.research.google.com/notebooks/data_table.ipynb>data table notebook</a>'\n",
              "            + ' to learn more about interactive tables.';\n",
              "          element.innerHTML = '';\n",
              "          dataTable['output_type'] = 'display_data';\n",
              "          await google.colab.output.renderOutput(dataTable, element);\n",
              "          const docLink = document.createElement('div');\n",
              "          docLink.innerHTML = docLinkHtml;\n",
              "          element.appendChild(docLink);\n",
              "        }\n",
              "      </script>\n",
              "    </div>\n",
              "  </div>\n",
              "  "
            ]
          },
          "metadata": {},
          "execution_count": 17
        }
      ]
    },
    {
      "cell_type": "markdown",
      "metadata": {
        "id": "8VaXQ52Kv2am"
      },
      "source": [
        "***For each project we go to the link... how do you think we do it?***\n",
        "\n",
        "Let's try the first 5 projects.\n",
        "\n",
        "\n",
        "\n",
        "These days most of the web apps are using AJAX techniques. When a page is loaded by the browser, the elements within that page may load at different time intervals. Using waits, we can stop our scraping and wait the loading of a element.\n",
        "\n",
        "Selenium Webdriver provides two types of waits - implicit & explicit. An explicit wait makes WebDriver wait for a certain condition to occur before proceeding further with execution. An implicit wait makes WebDriver poll the DOM for a certain amount of time when trying to locate an element.\n"
      ]
    },
    {
      "cell_type": "code",
      "metadata": {
        "id": "rJDu5yiVFFpS",
        "colab": {
          "base_uri": "https://localhost:8080/",
          "height": 527
        },
        "outputId": "ac586e5d-bc17-4112-b383-31f32a517bf2"
      },
      "source": [
        "# open csv file\n",
        "import pandas as pd\n",
        "ds_detail_projects = pd.read_csv(\"ds_projectstriptest.csv\", index_col=\"restaurant_id\")\n",
        "ds_detail_projects.head()"
      ],
      "execution_count": null,
      "outputs": [
        {
          "output_type": "execute_result",
          "data": {
            "text/plain": [
              "                                                    Unnamed: 0  \\\n",
              "restaurant_id                                                    \n",
              "https://www.tripadvisor.it/Restaurant_Review-g1...           0   \n",
              "https://www.tripadvisor.it/Restaurant_Review-g1...           1   \n",
              "https://www.tripadvisor.it/Restaurant_Review-g1...           2   \n",
              "https://www.tripadvisor.it/Restaurant_Review-g1...           3   \n",
              "https://www.tripadvisor.it/Restaurant_Review-g1...           4   \n",
              "\n",
              "                                                                                                  url  \\\n",
              "restaurant_id                                                                                           \n",
              "https://www.tripadvisor.it/Restaurant_Review-g1...  https://www.tripadvisor.it/Restaurant_Review-g...   \n",
              "https://www.tripadvisor.it/Restaurant_Review-g1...  https://www.tripadvisor.it/Restaurant_Review-g...   \n",
              "https://www.tripadvisor.it/Restaurant_Review-g1...  https://www.tripadvisor.it/Restaurant_Review-g...   \n",
              "https://www.tripadvisor.it/Restaurant_Review-g1...  https://www.tripadvisor.it/Restaurant_Review-g...   \n",
              "https://www.tripadvisor.it/Restaurant_Review-g1...  https://www.tripadvisor.it/Restaurant_Review-g...   \n",
              "\n",
              "                                                                                     title  \\\n",
              "restaurant_id                                                                                \n",
              "https://www.tripadvisor.it/Restaurant_Review-g1...                               Soulgreen   \n",
              "https://www.tripadvisor.it/Restaurant_Review-g1...                        1. Parea Bistrot   \n",
              "https://www.tripadvisor.it/Restaurant_Review-g1...                   2. Mabuhay Restaurant   \n",
              "https://www.tripadvisor.it/Restaurant_Review-g1...             3. Marea Seafood & Beverage   \n",
              "https://www.tripadvisor.it/Restaurant_Review-g1...  4. BLUE M Milano - Bottega Marchigiana   \n",
              "\n",
              "                                                        recensione  \n",
              "restaurant_id                                                       \n",
              "https://www.tripadvisor.it/Restaurant_Review-g1...  568 recensioni  \n",
              "https://www.tripadvisor.it/Restaurant_Review-g1...   72 recensioni  \n",
              "https://www.tripadvisor.it/Restaurant_Review-g1...  758 recensioni  \n",
              "https://www.tripadvisor.it/Restaurant_Review-g1...  214 recensioni  \n",
              "https://www.tripadvisor.it/Restaurant_Review-g1...  109 recensioni  "
            ],
            "text/html": [
              "\n",
              "  <div id=\"df-7f0a0ff7-cc9d-4123-9f7d-8874bb522364\">\n",
              "    <div class=\"colab-df-container\">\n",
              "      <div>\n",
              "<style scoped>\n",
              "    .dataframe tbody tr th:only-of-type {\n",
              "        vertical-align: middle;\n",
              "    }\n",
              "\n",
              "    .dataframe tbody tr th {\n",
              "        vertical-align: top;\n",
              "    }\n",
              "\n",
              "    .dataframe thead th {\n",
              "        text-align: right;\n",
              "    }\n",
              "</style>\n",
              "<table border=\"1\" class=\"dataframe\">\n",
              "  <thead>\n",
              "    <tr style=\"text-align: right;\">\n",
              "      <th></th>\n",
              "      <th>Unnamed: 0</th>\n",
              "      <th>url</th>\n",
              "      <th>title</th>\n",
              "      <th>recensione</th>\n",
              "    </tr>\n",
              "    <tr>\n",
              "      <th>restaurant_id</th>\n",
              "      <th></th>\n",
              "      <th></th>\n",
              "      <th></th>\n",
              "      <th></th>\n",
              "    </tr>\n",
              "  </thead>\n",
              "  <tbody>\n",
              "    <tr>\n",
              "      <th>https://www.tripadvisor.it/Restaurant_Review-g187849-d12113433-Reviews-Soulgreen-Milan_Lombardy.html</th>\n",
              "      <td>0</td>\n",
              "      <td>https://www.tripadvisor.it/Restaurant_Review-g...</td>\n",
              "      <td>Soulgreen</td>\n",
              "      <td>568 recensioni</td>\n",
              "    </tr>\n",
              "    <tr>\n",
              "      <th>https://www.tripadvisor.it/Restaurant_Review-g187849-d24167962-Reviews-Parea_Bistrot-Milan_Lombardy.html</th>\n",
              "      <td>1</td>\n",
              "      <td>https://www.tripadvisor.it/Restaurant_Review-g...</td>\n",
              "      <td>1. Parea Bistrot</td>\n",
              "      <td>72 recensioni</td>\n",
              "    </tr>\n",
              "    <tr>\n",
              "      <th>https://www.tripadvisor.it/Restaurant_Review-g187849-d17805000-Reviews-Mabuhay_Restaurant-Milan_Lombardy.html</th>\n",
              "      <td>2</td>\n",
              "      <td>https://www.tripadvisor.it/Restaurant_Review-g...</td>\n",
              "      <td>2. Mabuhay Restaurant</td>\n",
              "      <td>758 recensioni</td>\n",
              "    </tr>\n",
              "    <tr>\n",
              "      <th>https://www.tripadvisor.it/Restaurant_Review-g187849-d23650099-Reviews-Marea_Seafood_Beverage-Milan_Lombardy.html</th>\n",
              "      <td>3</td>\n",
              "      <td>https://www.tripadvisor.it/Restaurant_Review-g...</td>\n",
              "      <td>3. Marea Seafood &amp; Beverage</td>\n",
              "      <td>214 recensioni</td>\n",
              "    </tr>\n",
              "    <tr>\n",
              "      <th>https://www.tripadvisor.it/Restaurant_Review-g187849-d15831930-Reviews-BLUE_M_Milano_Bottega_Marchigiana-Milan_Lombardy.html</th>\n",
              "      <td>4</td>\n",
              "      <td>https://www.tripadvisor.it/Restaurant_Review-g...</td>\n",
              "      <td>4. BLUE M Milano - Bottega Marchigiana</td>\n",
              "      <td>109 recensioni</td>\n",
              "    </tr>\n",
              "  </tbody>\n",
              "</table>\n",
              "</div>\n",
              "      <button class=\"colab-df-convert\" onclick=\"convertToInteractive('df-7f0a0ff7-cc9d-4123-9f7d-8874bb522364')\"\n",
              "              title=\"Convert this dataframe to an interactive table.\"\n",
              "              style=\"display:none;\">\n",
              "        \n",
              "  <svg xmlns=\"http://www.w3.org/2000/svg\" height=\"24px\"viewBox=\"0 0 24 24\"\n",
              "       width=\"24px\">\n",
              "    <path d=\"M0 0h24v24H0V0z\" fill=\"none\"/>\n",
              "    <path d=\"M18.56 5.44l.94 2.06.94-2.06 2.06-.94-2.06-.94-.94-2.06-.94 2.06-2.06.94zm-11 1L8.5 8.5l.94-2.06 2.06-.94-2.06-.94L8.5 2.5l-.94 2.06-2.06.94zm10 10l.94 2.06.94-2.06 2.06-.94-2.06-.94-.94-2.06-.94 2.06-2.06.94z\"/><path d=\"M17.41 7.96l-1.37-1.37c-.4-.4-.92-.59-1.43-.59-.52 0-1.04.2-1.43.59L10.3 9.45l-7.72 7.72c-.78.78-.78 2.05 0 2.83L4 21.41c.39.39.9.59 1.41.59.51 0 1.02-.2 1.41-.59l7.78-7.78 2.81-2.81c.8-.78.8-2.07 0-2.86zM5.41 20L4 18.59l7.72-7.72 1.47 1.35L5.41 20z\"/>\n",
              "  </svg>\n",
              "      </button>\n",
              "      \n",
              "  <style>\n",
              "    .colab-df-container {\n",
              "      display:flex;\n",
              "      flex-wrap:wrap;\n",
              "      gap: 12px;\n",
              "    }\n",
              "\n",
              "    .colab-df-convert {\n",
              "      background-color: #E8F0FE;\n",
              "      border: none;\n",
              "      border-radius: 50%;\n",
              "      cursor: pointer;\n",
              "      display: none;\n",
              "      fill: #1967D2;\n",
              "      height: 32px;\n",
              "      padding: 0 0 0 0;\n",
              "      width: 32px;\n",
              "    }\n",
              "\n",
              "    .colab-df-convert:hover {\n",
              "      background-color: #E2EBFA;\n",
              "      box-shadow: 0px 1px 2px rgba(60, 64, 67, 0.3), 0px 1px 3px 1px rgba(60, 64, 67, 0.15);\n",
              "      fill: #174EA6;\n",
              "    }\n",
              "\n",
              "    [theme=dark] .colab-df-convert {\n",
              "      background-color: #3B4455;\n",
              "      fill: #D2E3FC;\n",
              "    }\n",
              "\n",
              "    [theme=dark] .colab-df-convert:hover {\n",
              "      background-color: #434B5C;\n",
              "      box-shadow: 0px 1px 3px 1px rgba(0, 0, 0, 0.15);\n",
              "      filter: drop-shadow(0px 1px 2px rgba(0, 0, 0, 0.3));\n",
              "      fill: #FFFFFF;\n",
              "    }\n",
              "  </style>\n",
              "\n",
              "      <script>\n",
              "        const buttonEl =\n",
              "          document.querySelector('#df-7f0a0ff7-cc9d-4123-9f7d-8874bb522364 button.colab-df-convert');\n",
              "        buttonEl.style.display =\n",
              "          google.colab.kernel.accessAllowed ? 'block' : 'none';\n",
              "\n",
              "        async function convertToInteractive(key) {\n",
              "          const element = document.querySelector('#df-7f0a0ff7-cc9d-4123-9f7d-8874bb522364');\n",
              "          const dataTable =\n",
              "            await google.colab.kernel.invokeFunction('convertToInteractive',\n",
              "                                                     [key], {});\n",
              "          if (!dataTable) return;\n",
              "\n",
              "          const docLinkHtml = 'Like what you see? Visit the ' +\n",
              "            '<a target=\"_blank\" href=https://colab.research.google.com/notebooks/data_table.ipynb>data table notebook</a>'\n",
              "            + ' to learn more about interactive tables.';\n",
              "          element.innerHTML = '';\n",
              "          dataTable['output_type'] = 'display_data';\n",
              "          await google.colab.output.renderOutput(dataTable, element);\n",
              "          const docLink = document.createElement('div');\n",
              "          docLink.innerHTML = docLinkHtml;\n",
              "          element.appendChild(docLink);\n",
              "        }\n",
              "      </script>\n",
              "    </div>\n",
              "  </div>\n",
              "  "
            ]
          },
          "metadata": {},
          "execution_count": 36
        }
      ]
    },
    {
      "cell_type": "code",
      "metadata": {
        "id": "7RJTIyFfv-Ig"
      },
      "source": [
        "#non usato\n",
        "from selenium.webdriver.common.by import By\n",
        "from selenium.webdriver.support.ui import WebDriverWait\n",
        "from selenium.webdriver.support import expected_conditions as EC\n",
        "import time\n",
        "details = []\n",
        "for project_id, project in ds_detail_projects.head().iterrows():\n",
        "    time.sleep(10)\n",
        "    link = project[\"url\"]\n",
        "    print(link)\n",
        "    wd.set_window_size(1920, 1080)\n",
        "    wd.get(link)\n",
        "    try:\n",
        "      WebDriverWait(wd, 10).until(\n",
        "          EC.element_to_be_clickable((By.ID, \"div.basicsBackerActions\"))\n",
        "      )\n",
        "    except:\n",
        "      continue\n",
        "\n",
        "    wd.save_screenshot(f'screenshot_1.png')\n",
        "    backers = wd.find_elements(by=By.CSS_SELECTOR, value=\".basicsGoalProgress-claimedOrBackers\")[0].text\n",
        "    goal = wd.find_elements(by=By.CSS_SELECTOR, value=\".basicsGoalProgress-progressDetails-detailsGoal-goalPercentageOrInitiallyRaised\")[0].text\n",
        "    left = wd.find_elements(by=By.CSS_SELECTOR, value=\".basicsGoalProgress-progressDetails-detailsTimeLeft\")[0].text\n",
        "    location = wd.find_elements(by=By.CSS_SELECTOR, value=\".basicsCampaignOwner-details-city\")[0].text\n",
        "    owner = wd.find_elements(by=By.CSS_SELECTOR, value=\".campaignOwnerName-tooltip\")[0].text\n",
        "    details.append({'project_id': project_id,\n",
        "                    'backers': backers,\n",
        "                    'goal': goal,\n",
        "                    'left': left,\n",
        "                    'owner': owner,\n",
        "                    'location': location})\n",
        "  \n",
        "len(details)\n",
        "pprint.pprint(details)\n"
      ],
      "execution_count": null,
      "outputs": []
    },
    {
      "cell_type": "code",
      "metadata": {
        "id": "xf7bDTWTxLlf",
        "colab": {
          "base_uri": "https://localhost:8080/",
          "height": 381,
          "referenced_widgets": [
            "9ba3e25c919e401f8ef0ed4818822a2f",
            "73fc3a1d5a934841a803d9551755776e",
            "dbcedb1c312a46d7bcc53b3a29fed022",
            "12455d8138914695897d7d9446fb3432",
            "936738c37d2543589d02d0369f132f1a",
            "0569787132a74bf09b5f3506dbd4bc60",
            "a61c6a82391d4601a044454514fa4d89",
            "6040fb50edee40b0ad1f0e78a681601c",
            "0752097c258c442685ec97a8a74409a3",
            "b51957be47a94e09b5e00d0020b54fc0",
            "859eb63880f04195a0e96d2cfad49abd"
          ]
        },
        "outputId": "555ffcb2-1cb9-451f-b1e8-53b190b19038"
      },
      "source": [
        "#Informazioni pagina di dettaglio\n",
        "from selenium.webdriver.common.by import By\n",
        "from selenium.webdriver.support.ui import WebDriverWait\n",
        "from selenium.webdriver.support import expected_conditions as EC\n",
        "import time\n",
        "details = []\n",
        "ds_detail_projects = ds_detail_projects.head(n = 1811)\n",
        "for restaurant_id, project in tqdm(ds_detail_projects.iterrows(), total=ds_detail_projects.shape[0]):\n",
        "    time.sleep(1)\n",
        "    link = project[\"url\"]\n",
        "    indirizzo = \"\"\n",
        "    valutazione = \"\"\n",
        "    fascia_prezzo = \"\"\n",
        "    #print(link)\n",
        "    try:\n",
        "      wd.set_window_size(1920, 1080)\n",
        "      wd.get(link)\n",
        "      indirizzo = wd.find_elements(by=By.CSS_SELECTOR, value=\"span.yEWoV\")[0].text\n",
        "      valutazione = wd.find_elements(by=By.CSS_SELECTOR, value=\"span.ZDEqb\")[0].text\n",
        "      fascia_prezzo = wd.find_elements(by=By.CSS_SELECTOR, value=\"div.SrqKb\")[0].text\n",
        "      \n",
        "    except Exception as e:\n",
        "      print(e)\n",
        "    details.append({'restaurant_id': restaurant_id,\n",
        "                    'indirizzo': indirizzo,\n",
        "                    'valutazione': valutazione,\n",
        "                    'fascia_prezzo': fascia_prezzo})\n",
        "  \n",
        "\n"
      ],
      "execution_count": null,
      "outputs": [
        {
          "output_type": "stream",
          "name": "stderr",
          "text": [
            "/usr/local/lib/python3.7/dist-packages/ipykernel_launcher.py:7: TqdmDeprecationWarning: This function will be removed in tqdm==5.0.0\n",
            "Please use `tqdm.notebook.tqdm` instead of `tqdm.tqdm_notebook`\n",
            "  import sys\n"
          ]
        },
        {
          "output_type": "display_data",
          "data": {
            "text/plain": [
              "  0%|          | 0/1811 [00:00<?, ?it/s]"
            ],
            "application/vnd.jupyter.widget-view+json": {
              "version_major": 2,
              "version_minor": 0,
              "model_id": "9ba3e25c919e401f8ef0ed4818822a2f"
            },
            "application/json": {
              "n": 0,
              "total": 1811,
              "elapsed": 0.05120730400085449,
              "ncols": null,
              "nrows": null,
              "prefix": "",
              "ascii": false,
              "unit": "it",
              "unit_scale": false,
              "rate": null,
              "bar_format": null,
              "postfix": null,
              "unit_divisor": 1000,
              "initial": 0,
              "colour": null
            }
          },
          "metadata": {}
        },
        {
          "output_type": "stream",
          "name": "stdout",
          "text": [
            "list index out of range\n",
            "list index out of range\n",
            "list index out of range\n",
            "list index out of range\n",
            "list index out of range\n",
            "list index out of range\n",
            "list index out of range\n",
            "list index out of range\n",
            "list index out of range\n",
            "list index out of range\n",
            "list index out of range\n",
            "list index out of range\n",
            "list index out of range\n",
            "list index out of range\n",
            "list index out of range\n",
            "list index out of range\n"
          ]
        }
      ]
    },
    {
      "cell_type": "code",
      "metadata": {
        "id": "nmOdNznWXKtj",
        "colab": {
          "base_uri": "https://localhost:8080/"
        },
        "outputId": "5677e7e5-2d84-4977-a803-a5fa41ca3da3"
      },
      "source": [
        "print(len(details))\n",
        "pprint.pprint(details[0:4])"
      ],
      "execution_count": null,
      "outputs": [
        {
          "output_type": "stream",
          "name": "stdout",
          "text": [
            "1811\n",
            "[{'fascia_prezzo': '20 USD - 70 USD',\n",
            "  'indirizzo': 'Via Eugenio Brizi 4, 20139 Milano Italia',\n",
            "  'restaurant_id': 'https://www.tripadvisor.it/Restaurant_Review-g187849-d23699716-Reviews-South_Garage_Bistrot-Milan_Lombardy.html',\n",
            "  'valutazione': '4,5 '},\n",
            " {'fascia_prezzo': 'Colazione, Pranzo, Cena',\n",
            "  'indirizzo': 'Via Vigna 6, 20123 Milano Italia',\n",
            "  'restaurant_id': 'https://www.tripadvisor.it/Restaurant_Review-g187849-d24167962-Reviews-Parea_Bistrot-Milan_Lombardy.html',\n",
            "  'valutazione': '5,0 '},\n",
            " {'fascia_prezzo': '2 USD - 13 USD',\n",
            "  'indirizzo': 'Bastioni di Porta Volta 9, 20121 Milano Italia',\n",
            "  'restaurant_id': 'https://www.tripadvisor.it/Restaurant_Review-g187849-d17805000-Reviews-Mabuhay_Restaurant-Milan_Lombardy.html',\n",
            "  'valutazione': '5,0 '},\n",
            " {'fascia_prezzo': 'Italiana, Pesce, Contemporanea, Mediterranea, Salutistica, '\n",
            "                   'Ristoranti con bar',\n",
            "  'indirizzo': 'Via Papa Gregorio XIV, 16, 20123 Milano Italia',\n",
            "  'restaurant_id': 'https://www.tripadvisor.it/Restaurant_Review-g187849-d23650099-Reviews-Marea_Seafood_Beverage-Milan_Lombardy.html',\n",
            "  'valutazione': '5,0 '}]\n"
          ]
        }
      ]
    },
    {
      "cell_type": "markdown",
      "metadata": {
        "id": "fcfGcK4O4R2-"
      },
      "source": [
        "Store the data with *pandas*"
      ]
    },
    {
      "cell_type": "code",
      "metadata": {
        "id": "4xik7JIr4J-n",
        "colab": {
          "base_uri": "https://localhost:8080/",
          "height": 372
        },
        "outputId": "b0753e50-81c2-408c-cb83-f7f94e945f7e"
      },
      "source": [
        "import pandas as pd\n",
        "ds_details = pd.DataFrame(details)\n",
        "ds_details.set_index(\"restaurant_id\")\n",
        "ds_details.head()"
      ],
      "execution_count": null,
      "outputs": [
        {
          "output_type": "execute_result",
          "data": {
            "text/plain": [
              "                                       restaurant_id  \\\n",
              "0  https://www.tripadvisor.it/Restaurant_Review-g...   \n",
              "1  https://www.tripadvisor.it/Restaurant_Review-g...   \n",
              "2  https://www.tripadvisor.it/Restaurant_Review-g...   \n",
              "3  https://www.tripadvisor.it/Restaurant_Review-g...   \n",
              "4  https://www.tripadvisor.it/Restaurant_Review-g...   \n",
              "\n",
              "                                           indirizzo valutazione  \\\n",
              "0           Via Eugenio Brizi 4, 20139 Milano Italia        4,5    \n",
              "1                   Via Vigna 6, 20123 Milano Italia        5,0    \n",
              "2     Bastioni di Porta Volta 9, 20121 Milano Italia        5,0    \n",
              "3     Via Papa Gregorio XIV, 16, 20123 Milano Italia        5,0    \n",
              "4  Via Lanzone 27 Sant'Ambrogio - Università Catt...        5,0    \n",
              "\n",
              "                                       fascia_prezzo  \n",
              "0                                    20 USD - 70 USD  \n",
              "1                            Colazione, Pranzo, Cena  \n",
              "2                                     2 USD - 13 USD  \n",
              "3  Italiana, Pesce, Contemporanea, Mediterranea, ...  \n",
              "4                                    10 USD - 40 USD  "
            ],
            "text/html": [
              "\n",
              "  <div id=\"df-61b3b09d-2b87-4e6e-a9c9-266514c4b45a\">\n",
              "    <div class=\"colab-df-container\">\n",
              "      <div>\n",
              "<style scoped>\n",
              "    .dataframe tbody tr th:only-of-type {\n",
              "        vertical-align: middle;\n",
              "    }\n",
              "\n",
              "    .dataframe tbody tr th {\n",
              "        vertical-align: top;\n",
              "    }\n",
              "\n",
              "    .dataframe thead th {\n",
              "        text-align: right;\n",
              "    }\n",
              "</style>\n",
              "<table border=\"1\" class=\"dataframe\">\n",
              "  <thead>\n",
              "    <tr style=\"text-align: right;\">\n",
              "      <th></th>\n",
              "      <th>restaurant_id</th>\n",
              "      <th>indirizzo</th>\n",
              "      <th>valutazione</th>\n",
              "      <th>fascia_prezzo</th>\n",
              "    </tr>\n",
              "  </thead>\n",
              "  <tbody>\n",
              "    <tr>\n",
              "      <th>0</th>\n",
              "      <td>https://www.tripadvisor.it/Restaurant_Review-g...</td>\n",
              "      <td>Via Eugenio Brizi 4, 20139 Milano Italia</td>\n",
              "      <td>4,5</td>\n",
              "      <td>20 USD - 70 USD</td>\n",
              "    </tr>\n",
              "    <tr>\n",
              "      <th>1</th>\n",
              "      <td>https://www.tripadvisor.it/Restaurant_Review-g...</td>\n",
              "      <td>Via Vigna 6, 20123 Milano Italia</td>\n",
              "      <td>5,0</td>\n",
              "      <td>Colazione, Pranzo, Cena</td>\n",
              "    </tr>\n",
              "    <tr>\n",
              "      <th>2</th>\n",
              "      <td>https://www.tripadvisor.it/Restaurant_Review-g...</td>\n",
              "      <td>Bastioni di Porta Volta 9, 20121 Milano Italia</td>\n",
              "      <td>5,0</td>\n",
              "      <td>2 USD - 13 USD</td>\n",
              "    </tr>\n",
              "    <tr>\n",
              "      <th>3</th>\n",
              "      <td>https://www.tripadvisor.it/Restaurant_Review-g...</td>\n",
              "      <td>Via Papa Gregorio XIV, 16, 20123 Milano Italia</td>\n",
              "      <td>5,0</td>\n",
              "      <td>Italiana, Pesce, Contemporanea, Mediterranea, ...</td>\n",
              "    </tr>\n",
              "    <tr>\n",
              "      <th>4</th>\n",
              "      <td>https://www.tripadvisor.it/Restaurant_Review-g...</td>\n",
              "      <td>Via Lanzone 27 Sant'Ambrogio - Università Catt...</td>\n",
              "      <td>5,0</td>\n",
              "      <td>10 USD - 40 USD</td>\n",
              "    </tr>\n",
              "  </tbody>\n",
              "</table>\n",
              "</div>\n",
              "      <button class=\"colab-df-convert\" onclick=\"convertToInteractive('df-61b3b09d-2b87-4e6e-a9c9-266514c4b45a')\"\n",
              "              title=\"Convert this dataframe to an interactive table.\"\n",
              "              style=\"display:none;\">\n",
              "        \n",
              "  <svg xmlns=\"http://www.w3.org/2000/svg\" height=\"24px\"viewBox=\"0 0 24 24\"\n",
              "       width=\"24px\">\n",
              "    <path d=\"M0 0h24v24H0V0z\" fill=\"none\"/>\n",
              "    <path d=\"M18.56 5.44l.94 2.06.94-2.06 2.06-.94-2.06-.94-.94-2.06-.94 2.06-2.06.94zm-11 1L8.5 8.5l.94-2.06 2.06-.94-2.06-.94L8.5 2.5l-.94 2.06-2.06.94zm10 10l.94 2.06.94-2.06 2.06-.94-2.06-.94-.94-2.06-.94 2.06-2.06.94z\"/><path d=\"M17.41 7.96l-1.37-1.37c-.4-.4-.92-.59-1.43-.59-.52 0-1.04.2-1.43.59L10.3 9.45l-7.72 7.72c-.78.78-.78 2.05 0 2.83L4 21.41c.39.39.9.59 1.41.59.51 0 1.02-.2 1.41-.59l7.78-7.78 2.81-2.81c.8-.78.8-2.07 0-2.86zM5.41 20L4 18.59l7.72-7.72 1.47 1.35L5.41 20z\"/>\n",
              "  </svg>\n",
              "      </button>\n",
              "      \n",
              "  <style>\n",
              "    .colab-df-container {\n",
              "      display:flex;\n",
              "      flex-wrap:wrap;\n",
              "      gap: 12px;\n",
              "    }\n",
              "\n",
              "    .colab-df-convert {\n",
              "      background-color: #E8F0FE;\n",
              "      border: none;\n",
              "      border-radius: 50%;\n",
              "      cursor: pointer;\n",
              "      display: none;\n",
              "      fill: #1967D2;\n",
              "      height: 32px;\n",
              "      padding: 0 0 0 0;\n",
              "      width: 32px;\n",
              "    }\n",
              "\n",
              "    .colab-df-convert:hover {\n",
              "      background-color: #E2EBFA;\n",
              "      box-shadow: 0px 1px 2px rgba(60, 64, 67, 0.3), 0px 1px 3px 1px rgba(60, 64, 67, 0.15);\n",
              "      fill: #174EA6;\n",
              "    }\n",
              "\n",
              "    [theme=dark] .colab-df-convert {\n",
              "      background-color: #3B4455;\n",
              "      fill: #D2E3FC;\n",
              "    }\n",
              "\n",
              "    [theme=dark] .colab-df-convert:hover {\n",
              "      background-color: #434B5C;\n",
              "      box-shadow: 0px 1px 3px 1px rgba(0, 0, 0, 0.15);\n",
              "      filter: drop-shadow(0px 1px 2px rgba(0, 0, 0, 0.3));\n",
              "      fill: #FFFFFF;\n",
              "    }\n",
              "  </style>\n",
              "\n",
              "      <script>\n",
              "        const buttonEl =\n",
              "          document.querySelector('#df-61b3b09d-2b87-4e6e-a9c9-266514c4b45a button.colab-df-convert');\n",
              "        buttonEl.style.display =\n",
              "          google.colab.kernel.accessAllowed ? 'block' : 'none';\n",
              "\n",
              "        async function convertToInteractive(key) {\n",
              "          const element = document.querySelector('#df-61b3b09d-2b87-4e6e-a9c9-266514c4b45a');\n",
              "          const dataTable =\n",
              "            await google.colab.kernel.invokeFunction('convertToInteractive',\n",
              "                                                     [key], {});\n",
              "          if (!dataTable) return;\n",
              "\n",
              "          const docLinkHtml = 'Like what you see? Visit the ' +\n",
              "            '<a target=\"_blank\" href=https://colab.research.google.com/notebooks/data_table.ipynb>data table notebook</a>'\n",
              "            + ' to learn more about interactive tables.';\n",
              "          element.innerHTML = '';\n",
              "          dataTable['output_type'] = 'display_data';\n",
              "          await google.colab.output.renderOutput(dataTable, element);\n",
              "          const docLink = document.createElement('div');\n",
              "          docLink.innerHTML = docLinkHtml;\n",
              "          element.appendChild(docLink);\n",
              "        }\n",
              "      </script>\n",
              "    </div>\n",
              "  </div>\n",
              "  "
            ]
          },
          "metadata": {},
          "execution_count": 21
        }
      ]
    },
    {
      "cell_type": "code",
      "metadata": {
        "id": "pBkNRigl4b9G",
        "colab": {
          "base_uri": "https://localhost:8080/"
        },
        "outputId": "dda8051a-bd1a-4d43-a268-22ff07975948"
      },
      "source": [
        "ds_details.info()"
      ],
      "execution_count": null,
      "outputs": [
        {
          "output_type": "stream",
          "name": "stdout",
          "text": [
            "<class 'pandas.core.frame.DataFrame'>\n",
            "RangeIndex: 10 entries, 0 to 9\n",
            "Data columns (total 3 columns):\n",
            " #   Column         Non-Null Count  Dtype \n",
            "---  ------         --------------  ----- \n",
            " 0   restaurant_id  10 non-null     object\n",
            " 1   indirizzo      10 non-null     object\n",
            " 2   valutazione    10 non-null     object\n",
            "dtypes: object(3)\n",
            "memory usage: 368.0+ bytes\n"
          ]
        }
      ]
    },
    {
      "cell_type": "code",
      "metadata": {
        "id": "YSlNICg94fKj"
      },
      "source": [
        "ds_details.to_csv(\"ds_project_detailstriptestdetailsfinal.csv\")"
      ],
      "execution_count": null,
      "outputs": []
    },
    {
      "cell_type": "markdown",
      "metadata": {
        "id": "dJdurd8345Jp"
      },
      "source": [
        "# Indiegogo Project images\n",
        "\n",
        "\n",
        "Now we're going to download Indiegogo images for each project.\n",
        "\n",
        "Our goal is to create a dataset of images and a `Dataframe` composed by:\n",
        "- `project_id`\n",
        "- `image_id`\n",
        "\n",
        "We will use the library `requests`.\n",
        "\n",
        "The `requests` library is python library for making HTTP requests.\n",
        "It abstracts the complexities of making requests behind a simple API so that you can focus on interacting with services and consuming data in your application."
      ]
    },
    {
      "cell_type": "code",
      "metadata": {
        "id": "aOqIaqtgGN2J"
      },
      "source": [
        "# open csv file\n",
        "import pandas as pd\n",
        "ds_detail_projects = pd.read_csv(\"ds_projects.csv\", index_col=\"project_id\")\n",
        "ds_detail_projects.head()"
      ],
      "execution_count": null,
      "outputs": []
    },
    {
      "cell_type": "code",
      "metadata": {
        "id": "q1cy5Jzt6ab-"
      },
      "source": [
        "import time\n",
        "import requests\n",
        "\n",
        "detail_projects = []\n",
        "list_images = []\n",
        "num = 0\n",
        "for project_id, project in tqdm(ds_detail_projects.iterrows(), total=ds_detail_projects.shape[0]):\n",
        "  num = num + 1\n",
        "  try:\n",
        "    list_images.append({\"project_id\": project_id,\n",
        "                        \"img_file\": \"img_\" + str(num) + \".jpg\"})\n",
        "    src = project['image']\n",
        "    img_file = requests.get(src, stream=True)\n",
        "    if img_file.status_code == 200:\n",
        "      with open(\"/content/images/img_\" + str(num) + \".jpg\", 'wb') as f:\n",
        "        f.write(img_file.content)\n",
        "  except Exception as e:\n",
        "    print(e)\n",
        "\n"
      ],
      "execution_count": null,
      "outputs": []
    },
    {
      "cell_type": "code",
      "metadata": {
        "id": "wy5AJ3iUj-DO"
      },
      "source": [
        "print(len(list_images))"
      ],
      "execution_count": null,
      "outputs": []
    },
    {
      "cell_type": "code",
      "metadata": {
        "id": "BSPk4TWtAvWj"
      },
      "source": [
        "%pylab inline\n",
        "import matplotlib.pyplot as plt\n",
        "import matplotlib.image as mpimg\n",
        "img=mpimg.imread('/content/images/img_1.jpg')\n",
        "imgplot = plt.imshow(img)\n",
        "plt.show()"
      ],
      "execution_count": null,
      "outputs": []
    },
    {
      "cell_type": "code",
      "metadata": {
        "id": "9oq-mP-v8LZl"
      },
      "source": [
        "import pandas as pd\n",
        "ds_images = pd.DataFrame(list_images)\n",
        "ds_images.set_index(\"project_id\")\n",
        "ds_images.head()"
      ],
      "execution_count": null,
      "outputs": []
    },
    {
      "cell_type": "code",
      "metadata": {
        "id": "v1A0HPUPhmdT"
      },
      "source": [
        "ds_images.info()"
      ],
      "execution_count": null,
      "outputs": []
    },
    {
      "cell_type": "code",
      "metadata": {
        "id": "2CLUnkOW8O0Q"
      },
      "source": [
        "ds_images.to_csv(\"ds_images.csv\")\n"
      ],
      "execution_count": null,
      "outputs": []
    },
    {
      "cell_type": "code",
      "metadata": {
        "id": "v0F53Zz7JRN2"
      },
      "source": [
        "!zip -r \"/content/images.zip\" \"/content/images/\"\n"
      ],
      "execution_count": null,
      "outputs": []
    },
    {
      "cell_type": "markdown",
      "metadata": {
        "id": "g_f5pD019XW6"
      },
      "source": [
        "# API\n",
        "\n",
        "Let's see how to use the **requests** library to hook APIs provided by our suppliers or colleagues."
      ]
    },
    {
      "cell_type": "markdown",
      "metadata": {
        "id": "GuDgoTW29jH_"
      },
      "source": [
        "## Crarifai\n",
        "\n",
        "Let's try the services provided by Clarifai to increase the data we have available.\n",
        "\n",
        "\n",
        "First, we need to install the `crarifai` python library.\n",
        "For more details, please visit https://github.com/Clarifai/clarifai-python-grpc\n",
        "\n",
        "To install the API client:\n",
        "\n",
        "\n",
        "```\n",
        "pip install clarifai-grpc\n",
        "```\n",
        "\n",
        "\n",
        "\n",
        "\n"
      ]
    },
    {
      "cell_type": "code",
      "metadata": {
        "id": "WgBUGy519fzQ"
      },
      "source": [
        "##############################################################################\n",
        "# Installation\n",
        "##############################################################################\n",
        "\n",
        "!pip install clarifai-grpc --upgrade\n",
        "\n"
      ],
      "execution_count": null,
      "outputs": []
    },
    {
      "cell_type": "code",
      "metadata": {
        "id": "L-IGZIOzPECg"
      },
      "source": [
        "##############################################################################\n",
        "# Initialize client\n",
        "##############################################################################\n",
        "\n",
        "from clarifai_grpc.channel.clarifai_channel import ClarifaiChannel\n",
        "from clarifai_grpc.grpc.api import resources_pb2, service_pb2, service_pb2_grpc\n",
        "from clarifai_grpc.grpc.api.status import status_pb2, status_code_pb2\n",
        "\n",
        "channel = ClarifaiChannel.get_grpc_channel()\n",
        "\n",
        "# Note: You can also use a secure (encrypted) ClarifaiChannel.get_grpc_channel() however\n",
        "# it is currently not possible to use it with the latest gRPC version\n",
        "\n",
        "stub = service_pb2_grpc.V2Stub(channel)\n",
        "\n",
        "# This will be used by every Clarifai endpoint call.\n",
        "metadata = (('authorization', 'Key 05a84c8d24f44480bb93b289ac5a8e53'),)"
      ],
      "execution_count": null,
      "outputs": []
    },
    {
      "cell_type": "markdown",
      "metadata": {
        "id": "vi3vpTjo-JlU"
      },
      "source": [
        "We will use the `predict_by_filename` method to obtain the **concepts** within the page.\n"
      ]
    },
    {
      "cell_type": "code",
      "metadata": {
        "id": "PdE1bYOBPQPv"
      },
      "source": [
        "with open(\"/content/images/img_1.jpg\", \"rb\") as f:\n",
        "    file_bytes = f.read()\n",
        "\n",
        "post_model_outputs_response = stub.PostModelOutputs(\n",
        "    service_pb2.PostModelOutputsRequest(\n",
        "        model_id=\"aaa03c23b3724a16a56b629203edc62c\",\n",
        "        inputs=[\n",
        "            resources_pb2.Input(\n",
        "                data=resources_pb2.Data(\n",
        "                    image=resources_pb2.Image(\n",
        "                        base64=file_bytes\n",
        "                    )\n",
        "                )\n",
        "            )\n",
        "        ]\n",
        "    ),\n",
        "    metadata=metadata\n",
        ")\n",
        "\n",
        "if post_model_outputs_response.status.code != status_code_pb2.SUCCESS:\n",
        "    raise Exception(\"Post model outputs failed, status: \" + post_model_outputs_response.status.description)\n"
      ],
      "execution_count": null,
      "outputs": []
    },
    {
      "cell_type": "code",
      "metadata": {
        "id": "HvIP0I5NTK09"
      },
      "source": [
        "post_model_outputs_response"
      ],
      "execution_count": null,
      "outputs": []
    },
    {
      "cell_type": "markdown",
      "metadata": {
        "id": "6gNKcVLk-bU-"
      },
      "source": [
        "What type of data does that give us back?\n",
        "Let's have a look!"
      ]
    },
    {
      "cell_type": "code",
      "metadata": {
        "id": "vUKxISg_-kht"
      },
      "source": [
        "# Since we have one input, one output will exist here.\n",
        "output = post_model_outputs_response.outputs[0]\n",
        "\n",
        "print(\"Predicted concepts:\")\n",
        "for concept in output.data.concepts:\n",
        "    print(\"%s %.2f\" % (concept.name, concept.value))"
      ],
      "execution_count": null,
      "outputs": []
    },
    {
      "cell_type": "code",
      "metadata": {
        "id": "LfbwCHBAT-oH"
      },
      "source": [
        "output"
      ],
      "execution_count": null,
      "outputs": []
    },
    {
      "cell_type": "markdown",
      "metadata": {
        "id": "0RiAZbNkB5Au"
      },
      "source": [
        "Now let's go and identify all the concepts for each image of each project."
      ]
    },
    {
      "cell_type": "code",
      "metadata": {
        "id": "uu3J01GhB_w4"
      },
      "source": [
        "ds_images = pd.read_csv(\"ds_images.csv\", index_col=\"project_id\")\n",
        "\n",
        "img_details = []\n",
        "for project_id, image in tqdm(ds_images.iterrows(), total=ds_images.shape[0]):\n",
        "  try:\n",
        "    with open('/content/images/' + image['img_file'], \"rb\") as f:\n",
        "      file_bytes = f.read()\n",
        "    response = stub.PostModelOutputs(\n",
        "        service_pb2.PostModelOutputsRequest(\n",
        "            model_id=\"aaa03c23b3724a16a56b629203edc62c\",\n",
        "            inputs=[\n",
        "                resources_pb2.Input(\n",
        "                    data=resources_pb2.Data(\n",
        "                        image=resources_pb2.Image(\n",
        "                            base64=file_bytes\n",
        "                        )\n",
        "                    )\n",
        "                )\n",
        "            ]\n",
        "        ),\n",
        "        metadata=metadata\n",
        "    ).outputs[0]\n",
        "    if(response.status.description == \"Ok\"):\n",
        "      for concept in response.data.concepts:\n",
        "          name = concept.name\n",
        "          value = concept.value\n",
        "          img_details.append({\n",
        "            \"project_id\": project_id,\n",
        "            \"image\": image['img_file'],\n",
        "            \"name\": name,\n",
        "            \"value\": value\n",
        "          })\n",
        "  except Exception as e:\n",
        "    print(e)\n",
        "\n",
        "print(len(img_details))"
      ],
      "execution_count": null,
      "outputs": []
    },
    {
      "cell_type": "code",
      "metadata": {
        "id": "5nIUezSrDTKK"
      },
      "source": [
        "import pandas as pd\n",
        "ds_img_details = pd.DataFrame(img_details)\n",
        "ds_img_details.set_index(\"image\")\n",
        "ds_img_details.head()"
      ],
      "execution_count": null,
      "outputs": []
    },
    {
      "cell_type": "code",
      "metadata": {
        "id": "VXJF8-Q4ljK7"
      },
      "source": [
        "ds_img_details.info()"
      ],
      "execution_count": null,
      "outputs": []
    },
    {
      "cell_type": "code",
      "metadata": {
        "id": "1WR4kQBsDXwx"
      },
      "source": [
        "ds_img_details.to_csv('ds_img_details.csv')"
      ],
      "execution_count": null,
      "outputs": []
    },
    {
      "cell_type": "markdown",
      "metadata": {
        "id": "Kt_AIhQM-6zi"
      },
      "source": [
        "# Geocoding\n",
        "\n",
        "What's geocoding?\n",
        "\n"
      ]
    },
    {
      "cell_type": "markdown",
      "metadata": {
        "id": "tBcxapgb_lGp"
      },
      "source": [
        "Let's try to geolocalize the projects..."
      ]
    },
    {
      "cell_type": "code",
      "metadata": {
        "id": "B4IO9haO_o7W"
      },
      "source": [
        "import requests\n",
        "import json\n",
        "import pprint\n",
        "import pandas as pd\n",
        "from tqdm import tqdm_notebook as tqdm\n",
        "\n",
        "address = \"New Orleans, LA\"\n",
        "key = \"r3xgNwBAviBMdOj4Op90kvyy2iO1CDGz\"\n",
        "geocode_url = f\"http://www.mapquestapi.com/geocoding/v1/address?key={key}&location={address}\"\n",
        "response = requests.get(geocode_url)\n",
        "\n",
        "import json\n",
        "geo = json.loads(response.text)\n",
        "pprint.pprint(response.text)"
      ],
      "execution_count": null,
      "outputs": []
    },
    {
      "cell_type": "code",
      "metadata": {
        "id": "LRQ24oZf_0XB"
      },
      "source": [
        "print(geo['results'][0]['locations'][0]['latLng']['lat'])\n",
        "print(geo['results'][0]['locations'][0]['latLng']['lng'])"
      ],
      "execution_count": null,
      "outputs": []
    },
    {
      "cell_type": "code",
      "metadata": {
        "id": "GQNKNIi1988g"
      },
      "source": [
        "ds_projects = pd.read_csv(\"ds_project_details.csv\", index_col=\"project_id\")\n",
        "ds_projects.info()"
      ],
      "execution_count": null,
      "outputs": []
    },
    {
      "cell_type": "code",
      "metadata": {
        "id": "feuWng0zDudp"
      },
      "source": [
        "ds_projects = pd.read_csv(\"ds_project_details.csv\", index_col=\"project_id\")\n",
        "\n",
        "import time\n",
        "project_location = []\n",
        "for project_id, project in tqdm(ds_projects.iterrows(), total=ds_projects.shape[0]):\n",
        "  address = project['location']\n",
        "  if(address is None):\n",
        "    print(str(project_id) + \"- \" + project['location'])\n",
        "  else:\n",
        "    key = \"r3xgNwBAviBMdOj4Op90kvyy2iO1CDGz\"\n",
        "    try:\n",
        "      geocode_url = f\"http://www.mapquestapi.com/geocoding/v1/address?key={key}&location={address}\"\n",
        "      response = requests.get(geocode_url)\n",
        "      if(response.status_code == 200):\n",
        "        geo = json.loads(response.text)\n",
        "        lat = geo['results'][0]['locations'][0]['latLng']['lat']\n",
        "        lng = geo['results'][0]['locations'][0]['latLng']['lng']\n",
        "        project_location.append({\n",
        "              \"project_id\": project_id,\n",
        "              \"lat\": lat,\n",
        "              \"lng\": lng\n",
        "            })\n",
        "    except Exception as e:\n",
        "      print(e)\n",
        "    \n",
        "\n",
        "print(len(project_location))"
      ],
      "execution_count": null,
      "outputs": []
    },
    {
      "cell_type": "code",
      "metadata": {
        "id": "KdlXXE24E9Es"
      },
      "source": [
        "import pandas as pd\n",
        "ds_project_location = pd.DataFrame(project_location)\n",
        "ds_project_location.set_index(\"project_id\")\n",
        "ds_project_location.head(20)"
      ],
      "execution_count": null,
      "outputs": []
    },
    {
      "cell_type": "code",
      "metadata": {
        "id": "abHeZZM0mXmL"
      },
      "source": [
        "ds_project_location.info()"
      ],
      "execution_count": null,
      "outputs": []
    },
    {
      "cell_type": "code",
      "metadata": {
        "id": "sg8TZopsFC3b"
      },
      "source": [
        "ds_project_location.to_csv('ds_project_location.csv')"
      ],
      "execution_count": null,
      "outputs": []
    },
    {
      "cell_type": "code",
      "metadata": {
        "id": "_n01de28Kb8q"
      },
      "source": [],
      "execution_count": null,
      "outputs": []
    },
    {
      "cell_type": "markdown",
      "metadata": {
        "id": "vqfnlwdBXluM"
      },
      "source": [
        "# Use API to get data from Indiegogo"
      ]
    },
    {
      "cell_type": "code",
      "metadata": {
        "id": "UYc3v1PbI8me"
      },
      "source": [
        "!pip install selenium\n",
        "!apt-get update\n",
        "!apt install chromium-chromedriver\n",
        "!cp /usr/lib/chromium-browser/chromedriver /usr/bin"
      ],
      "execution_count": null,
      "outputs": []
    },
    {
      "cell_type": "code",
      "metadata": {
        "id": "DMkOAepZXr9J"
      },
      "source": [
        "import sys\n",
        "import logging\n",
        "from selenium.webdriver.remote.remote_connection import LOGGER\n",
        "LOGGER.setLevel(logging.WARNING)\n",
        "sys.path.insert(0,'/usr/lib/chromium-browser/chromedriver')\n",
        "from selenium import webdriver\n",
        "\n",
        "import requests\n",
        "from tqdm import tqdm_notebook as tqdm\n",
        "import pandas\n",
        "import pprint\n",
        "import pandas as pd\n",
        "import json"
      ],
      "execution_count": null,
      "outputs": []
    },
    {
      "cell_type": "code",
      "metadata": {
        "id": "R6ywKimrYCbD"
      },
      "source": [
        "project_list = []\n",
        "for page in tqdm(range(1, 100)):\n",
        "  payload = {\"sort\": \"most_funded\",\n",
        "            \"category_main\": None,\n",
        "            \"category_top_level\": \"Creative Works\",\n",
        "            \"project_timing\": \"all\",\n",
        "            \"project_type\": \"campaign\",\n",
        "            \"tags\":[],\n",
        "            \"page_num\": page,\n",
        "            \"per_page\": 100,\n",
        "            \"q\": \"\"}\n",
        "  r = requests.post('https://www.indiegogo.com/private_api/discover',\n",
        "                  headers={'Content-type': 'application/json; charset=UTF-8', \"User-Agent\": \"curl/7.64.1\"},\n",
        "                  json=payload)\n",
        "  my_projects = r.json()['response']['discoverables']\n",
        "  project_list.extend(my_projects)"
      ],
      "execution_count": null,
      "outputs": []
    },
    {
      "cell_type": "code",
      "metadata": {
        "id": "Y5HnCa7mdr-y"
      },
      "source": [
        "len(project_list)"
      ],
      "execution_count": null,
      "outputs": []
    },
    {
      "cell_type": "code",
      "metadata": {
        "id": "yP3pghryXwqf"
      },
      "source": [
        "print(project_list[0:2])"
      ],
      "execution_count": null,
      "outputs": []
    },
    {
      "cell_type": "code",
      "metadata": {
        "id": "BoSlD8TbZPwr"
      },
      "source": [
        "import pandas as pd\n",
        "ds_detail_projects = pd.DataFrame(project_list)\n",
        "ds_detail_projects.set_index(\"project_id\")\n",
        "ds_detail_projects.head()"
      ],
      "execution_count": null,
      "outputs": []
    },
    {
      "cell_type": "code",
      "metadata": {
        "id": "-3mbSUvmIguO"
      },
      "source": [
        "from google.colab import drive\n",
        "drive.mount('/content/drive')"
      ],
      "execution_count": null,
      "outputs": []
    },
    {
      "cell_type": "code",
      "metadata": {
        "id": "pzSRqiMcZRGb"
      },
      "source": [
        "ds_detail_projects.to_csv(\"/content/drive/MyDrive/indiegogo_2022/1_ds_project_details_full.csv\")"
      ],
      "execution_count": null,
      "outputs": []
    },
    {
      "cell_type": "code",
      "metadata": {
        "id": "XY3Fr-m-KarS"
      },
      "source": [
        "ds_detail_projects = pd.read_csv(\"/content/drive/MyDrive/indiegogo_2022/1_ds_project_details_full.csv\", index_col=\"project_id\")\n"
      ],
      "execution_count": null,
      "outputs": []
    },
    {
      "cell_type": "code",
      "metadata": {
        "id": "xo2tZM_nJH7g"
      },
      "source": [
        "chrome_options = webdriver.ChromeOptions()\n",
        "chrome_options.add_argument('--headless')\n",
        "chrome_options.add_argument('--no-sandbox')\n",
        "chrome_options.add_argument('--disable-dev-shm-usage')\n",
        "chrome_options.add_argument(\"user-agent=Mozilla/5.0 (Macintosh; Intel Mac OS X 10_15_7) AppleWebKit/537.36 (KHTML, like Gecko) Chrome/90.0.4430.212 Safari/537.36\")"
      ],
      "execution_count": null,
      "outputs": []
    },
    {
      "cell_type": "code",
      "metadata": {
        "id": "vxUS-HzyZKJQ"
      },
      "source": [
        "wd = webdriver.Chrome('chromedriver',chrome_options=chrome_options)\n",
        "import time\n",
        "project_location = []\n",
        "for project_id, project in tqdm(ds_detail_projects.iterrows(), total=ds_detail_projects.shape[0]):\n",
        "  key = \"r3xgNwBAviBMdOj4Op90kvyy2iO1CDGz\"\n",
        "  try:\n",
        "    project_url = project[\"clickthrough_url\"]\n",
        "    wd.get(f\"https://www.indiegogo.com/{project_url}\")\n",
        "    address = wd.find_elements(by=By.CSS_SELECTOR, value=\".basicsCampaignOwner-details-city\")[0].text\n",
        "    geocode_url = f\"http://www.mapquestapi.com/geocoding/v1/address?key={key}&location={address}\"\n",
        "    response = requests.get(geocode_url)\n",
        "    if (response.status_code == 200):\n",
        "      geo = json.loads(response.text)\n",
        "      lat = geo['results'][0]['locations'][0]['latLng']['lat']\n",
        "      lng = geo['results'][0]['locations'][0]['latLng']['lng']\n",
        "      project_location.append({\n",
        "            \"project_id\": project_id,\n",
        "            \"lat\": lat,\n",
        "            \"lng\": lng\n",
        "          })\n",
        "  except Exception as e:\n",
        "    print(e)"
      ],
      "execution_count": null,
      "outputs": []
    },
    {
      "cell_type": "code",
      "metadata": {
        "id": "jsxdlYC-JRQg"
      },
      "source": [
        "# project_location"
      ],
      "execution_count": null,
      "outputs": []
    },
    {
      "cell_type": "code",
      "metadata": {
        "id": "DGBoRIWIgRkj"
      },
      "source": [
        "print(len(project_location))"
      ],
      "execution_count": null,
      "outputs": []
    },
    {
      "cell_type": "code",
      "metadata": {
        "id": "Ikhm6pzLZm80"
      },
      "source": [
        "import pandas as pd\n",
        "ds_project_location = pd.DataFrame(project_location)\n",
        "ds_project_location.set_index(\"project_id\")\n",
        "ds_project_location.head(20)"
      ],
      "execution_count": null,
      "outputs": []
    },
    {
      "cell_type": "code",
      "metadata": {
        "id": "BJDDdn7AZocU"
      },
      "source": [
        "ds_project_location.to_csv(\"/content/drive/MyDrive/indiegogo_2022/2_ds_project_location_full.csv\")"
      ],
      "execution_count": null,
      "outputs": []
    },
    {
      "cell_type": "code",
      "metadata": {
        "id": "B1adjPW9J0Mh"
      },
      "source": [
        "!mkdir /content/drive/MyDrive/indiegogo_2022/images/"
      ],
      "execution_count": null,
      "outputs": []
    },
    {
      "cell_type": "code",
      "metadata": {
        "id": "sqCucb1cZGWs"
      },
      "source": [
        "detail_projects = []\n",
        "list_images = []\n",
        "num = 0\n",
        "for project_id, project in tqdm(ds_detail_projects.iterrows(), total=ds_detail_projects.shape[0]):\n",
        "  num = num + 1\n",
        "  try:\n",
        "    list_images.append({\"project_id\": project_id,\n",
        "                        \"img_file\": \"img_\" + str(num) + \".jpg\"})\n",
        "    src = project['image_url']\n",
        "    img_file = requests.get(src, stream=True)\n",
        "    if img_file.status_code == 200:\n",
        "      with open(\"/content/drive/MyDrive/indiegogo_2022/images/img_\" + str(num) + \".jpg\", 'wb') as f:\n",
        "        f.write(img_file.content)\n",
        "  except Exception as e:\n",
        "    print(e)"
      ],
      "execution_count": null,
      "outputs": []
    },
    {
      "cell_type": "code",
      "metadata": {
        "id": "yR1EovvlJ_Tb"
      },
      "source": [
        "# list_images"
      ],
      "execution_count": null,
      "outputs": []
    },
    {
      "cell_type": "code",
      "metadata": {
        "id": "cVb-JxkgZtdk"
      },
      "source": [
        "import pandas as pd\n",
        "ds_images = pd.DataFrame(list_images)\n",
        "ds_images.set_index(\"project_id\")\n",
        "ds_images.head()"
      ],
      "execution_count": null,
      "outputs": []
    },
    {
      "cell_type": "code",
      "metadata": {
        "id": "99fsubzYZzWJ"
      },
      "source": [
        "ds_images.to_csv(\"/content/drive/MyDrive/indiegogo_2022/3_ds_images_full.csv\")"
      ],
      "execution_count": null,
      "outputs": []
    },
    {
      "cell_type": "code",
      "metadata": {
        "id": "m4koOtiJKQTh"
      },
      "source": [
        "# !pip install clarifai-grpc --upgrade"
      ],
      "execution_count": null,
      "outputs": []
    },
    {
      "cell_type": "code",
      "metadata": {
        "id": "cH38lqwmY4PK"
      },
      "source": [
        "from clarifai_grpc.channel.clarifai_channel import ClarifaiChannel\n",
        "from clarifai_grpc.grpc.api import resources_pb2, service_pb2, service_pb2_grpc\n",
        "from clarifai_grpc.grpc.api.status import status_pb2, status_code_pb2\n",
        "\n",
        "channel = ClarifaiChannel.get_grpc_channel()\n",
        "\n",
        "# Note: You can also use a secure (encrypted) ClarifaiChannel.get_grpc_channel() however\n",
        "# it is currently not possible to use it with the latest gRPC version\n",
        "\n",
        "stub = service_pb2_grpc.V2Stub(channel)\n",
        "\n",
        "# This will be used by every Clarifai endpoint call.\n",
        "metadata = (('authorization', 'Key 41a0bb727c0c462d8cd09aa359fa9649'),)"
      ],
      "execution_count": null,
      "outputs": []
    },
    {
      "cell_type": "code",
      "metadata": {
        "id": "AdF3P2q9e-h4"
      },
      "source": [
        "!zip -r \"/content/drive/MyDrive/indiegogo_2022/images_full.zip\" \"/content/drive/MyDrive/indiegogo_2022/images/\""
      ],
      "execution_count": null,
      "outputs": []
    },
    {
      "cell_type": "code",
      "metadata": {
        "id": "80-jiMJ8LGI6"
      },
      "source": [
        "ds_images = pd.read_csv(\"/content/drive/MyDrive/indiegogo_2022/3_ds_images_full.csv\", index_col=\"project_id\")\n",
        "ds_images.head()"
      ],
      "execution_count": null,
      "outputs": []
    },
    {
      "cell_type": "code",
      "metadata": {
        "id": "pZPGgcbWZ6ul"
      },
      "source": [
        "\n",
        "img_details = []\n",
        "for project_id, image in tqdm(ds_images.iterrows(), total=ds_images.shape[0]):\n",
        "  try:\n",
        "    with open('/content/drive/MyDrive/indiegogo_2022/images/' + image['img_file'], \"rb\") as f:\n",
        "      file_bytes = f.read()\n",
        "    response = stub.PostModelOutputs(\n",
        "        service_pb2.PostModelOutputsRequest(\n",
        "            model_id=\"aaa03c23b3724a16a56b629203edc62c\",\n",
        "            inputs=[\n",
        "                resources_pb2.Input(\n",
        "                    data=resources_pb2.Data(\n",
        "                        image=resources_pb2.Image(\n",
        "                            base64=file_bytes\n",
        "                        )\n",
        "                    )\n",
        "                )\n",
        "            ]\n",
        "        ),\n",
        "        metadata=metadata\n",
        "    ).outputs[0]\n",
        "    print(response.status)\n",
        "    if(response.status.description == \"Ok\"):\n",
        "      for concept in response.data.concepts:\n",
        "          name = concept.name\n",
        "          value = concept.value\n",
        "          img_details.append({\n",
        "            \"project_id\": project_id,\n",
        "            \"image\": image['img_file'],\n",
        "            \"name\": name,\n",
        "            \"value\": value\n",
        "          })\n",
        "  except Exception as e:\n",
        "    print(e)"
      ],
      "execution_count": null,
      "outputs": []
    },
    {
      "cell_type": "code",
      "metadata": {
        "id": "RsZE3XcALO0w"
      },
      "source": [
        "# img_details"
      ],
      "execution_count": null,
      "outputs": []
    },
    {
      "cell_type": "code",
      "metadata": {
        "id": "JQ-qR4Y7aEbM"
      },
      "source": [
        "import pandas as pd\n",
        "ds_img_details = pd.DataFrame(img_details)\n",
        "ds_img_details.set_index(\"image\")\n",
        "ds_img_details.head()"
      ],
      "execution_count": null,
      "outputs": []
    },
    {
      "cell_type": "code",
      "metadata": {
        "id": "PrhKjhrqfM7z"
      },
      "source": [
        "ds_img_details.to_csv('/content/drive/MyDrive/indiegogo_2022/4_ds_img_details_full.csv')"
      ],
      "execution_count": null,
      "outputs": []
    },
    {
      "cell_type": "code",
      "metadata": {
        "id": "QcF0f1aNfQEY"
      },
      "source": [],
      "execution_count": null,
      "outputs": []
    }
  ]
}