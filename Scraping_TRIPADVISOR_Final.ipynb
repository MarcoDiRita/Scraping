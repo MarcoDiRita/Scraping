{
  "nbformat": 4,
  "nbformat_minor": 0,
  "metadata": {
    "colab": {
      "provenance": [],
      "collapsed_sections": [
        "STZyncI72HU0"
      ]
    },
    "kernelspec": {
      "name": "python3",
      "display_name": "Python 3"
    },
    "widgets": {
      "application/vnd.jupyter.widget-state+json": {
        "cf875a0b276b4857a26864f76e8660cf": {
          "model_module": "@jupyter-widgets/controls",
          "model_name": "HBoxModel",
          "model_module_version": "2.0.0",
          "state": {
            "_dom_classes": [],
            "_model_module": "@jupyter-widgets/controls",
            "_model_module_version": "2.0.0",
            "_model_name": "HBoxModel",
            "_view_count": null,
            "_view_module": "@jupyter-widgets/controls",
            "_view_module_version": "2.0.0",
            "_view_name": "HBoxView",
            "box_style": "",
            "children": [
              "IPY_MODEL_0ab1cf53b0184d7db8bd2e6901ac56ed",
              "IPY_MODEL_ff597f4d79d9411c902b7ec49f2df8f9",
              "IPY_MODEL_af566bc2f49a47809fea9acfaef71c20"
            ],
            "layout": "IPY_MODEL_e6bdf7fceaab4772bd98c0b9dc2a8cdc",
            "tabbable": null,
            "tooltip": null
          }
        },
        "0ab1cf53b0184d7db8bd2e6901ac56ed": {
          "model_module": "@jupyter-widgets/controls",
          "model_name": "HTMLModel",
          "model_module_version": "2.0.0",
          "state": {
            "_dom_classes": [],
            "_model_module": "@jupyter-widgets/controls",
            "_model_module_version": "2.0.0",
            "_model_name": "HTMLModel",
            "_view_count": null,
            "_view_module": "@jupyter-widgets/controls",
            "_view_module_version": "2.0.0",
            "_view_name": "HTMLView",
            "description": "",
            "description_allow_html": false,
            "layout": "IPY_MODEL_82a8e18fb4644210a3b692c9f778a8ad",
            "placeholder": "​",
            "style": "IPY_MODEL_2951a3f21d554135b92f0b62792539a9",
            "tabbable": null,
            "tooltip": null,
            "value": "100%"
          }
        },
        "ff597f4d79d9411c902b7ec49f2df8f9": {
          "model_module": "@jupyter-widgets/controls",
          "model_name": "FloatProgressModel",
          "model_module_version": "2.0.0",
          "state": {
            "_dom_classes": [],
            "_model_module": "@jupyter-widgets/controls",
            "_model_module_version": "2.0.0",
            "_model_name": "FloatProgressModel",
            "_view_count": null,
            "_view_module": "@jupyter-widgets/controls",
            "_view_module_version": "2.0.0",
            "_view_name": "ProgressView",
            "bar_style": "success",
            "description": "",
            "description_allow_html": false,
            "layout": "IPY_MODEL_12f5f33b8dbc426babecd51c5c591c89",
            "max": 35,
            "min": 0,
            "orientation": "horizontal",
            "style": "IPY_MODEL_ad01c9fa49ee4d9db1ab2a582909023c",
            "tabbable": null,
            "tooltip": null,
            "value": 35
          }
        },
        "af566bc2f49a47809fea9acfaef71c20": {
          "model_module": "@jupyter-widgets/controls",
          "model_name": "HTMLModel",
          "model_module_version": "2.0.0",
          "state": {
            "_dom_classes": [],
            "_model_module": "@jupyter-widgets/controls",
            "_model_module_version": "2.0.0",
            "_model_name": "HTMLModel",
            "_view_count": null,
            "_view_module": "@jupyter-widgets/controls",
            "_view_module_version": "2.0.0",
            "_view_name": "HTMLView",
            "description": "",
            "description_allow_html": false,
            "layout": "IPY_MODEL_195d39bf9c964bdab189f74949a0ecd9",
            "placeholder": "​",
            "style": "IPY_MODEL_f99969928ae04f63ab0776079143fd38",
            "tabbable": null,
            "tooltip": null,
            "value": " 35/35 [00:08&lt;00:00,  3.91it/s]"
          }
        },
        "e6bdf7fceaab4772bd98c0b9dc2a8cdc": {
          "model_module": "@jupyter-widgets/base",
          "model_name": "LayoutModel",
          "model_module_version": "2.0.0",
          "state": {
            "_model_module": "@jupyter-widgets/base",
            "_model_module_version": "2.0.0",
            "_model_name": "LayoutModel",
            "_view_count": null,
            "_view_module": "@jupyter-widgets/base",
            "_view_module_version": "2.0.0",
            "_view_name": "LayoutView",
            "align_content": null,
            "align_items": null,
            "align_self": null,
            "border_bottom": null,
            "border_left": null,
            "border_right": null,
            "border_top": null,
            "bottom": null,
            "display": null,
            "flex": null,
            "flex_flow": null,
            "grid_area": null,
            "grid_auto_columns": null,
            "grid_auto_flow": null,
            "grid_auto_rows": null,
            "grid_column": null,
            "grid_gap": null,
            "grid_row": null,
            "grid_template_areas": null,
            "grid_template_columns": null,
            "grid_template_rows": null,
            "height": null,
            "justify_content": null,
            "justify_items": null,
            "left": null,
            "margin": null,
            "max_height": null,
            "max_width": null,
            "min_height": null,
            "min_width": null,
            "object_fit": null,
            "object_position": null,
            "order": null,
            "overflow": null,
            "padding": null,
            "right": null,
            "top": null,
            "visibility": null,
            "width": null
          }
        },
        "82a8e18fb4644210a3b692c9f778a8ad": {
          "model_module": "@jupyter-widgets/base",
          "model_name": "LayoutModel",
          "model_module_version": "2.0.0",
          "state": {
            "_model_module": "@jupyter-widgets/base",
            "_model_module_version": "2.0.0",
            "_model_name": "LayoutModel",
            "_view_count": null,
            "_view_module": "@jupyter-widgets/base",
            "_view_module_version": "2.0.0",
            "_view_name": "LayoutView",
            "align_content": null,
            "align_items": null,
            "align_self": null,
            "border_bottom": null,
            "border_left": null,
            "border_right": null,
            "border_top": null,
            "bottom": null,
            "display": null,
            "flex": null,
            "flex_flow": null,
            "grid_area": null,
            "grid_auto_columns": null,
            "grid_auto_flow": null,
            "grid_auto_rows": null,
            "grid_column": null,
            "grid_gap": null,
            "grid_row": null,
            "grid_template_areas": null,
            "grid_template_columns": null,
            "grid_template_rows": null,
            "height": null,
            "justify_content": null,
            "justify_items": null,
            "left": null,
            "margin": null,
            "max_height": null,
            "max_width": null,
            "min_height": null,
            "min_width": null,
            "object_fit": null,
            "object_position": null,
            "order": null,
            "overflow": null,
            "padding": null,
            "right": null,
            "top": null,
            "visibility": null,
            "width": null
          }
        },
        "2951a3f21d554135b92f0b62792539a9": {
          "model_module": "@jupyter-widgets/controls",
          "model_name": "HTMLStyleModel",
          "model_module_version": "2.0.0",
          "state": {
            "_model_module": "@jupyter-widgets/controls",
            "_model_module_version": "2.0.0",
            "_model_name": "HTMLStyleModel",
            "_view_count": null,
            "_view_module": "@jupyter-widgets/base",
            "_view_module_version": "2.0.0",
            "_view_name": "StyleView",
            "background": null,
            "description_width": "",
            "font_size": null,
            "text_color": null
          }
        },
        "12f5f33b8dbc426babecd51c5c591c89": {
          "model_module": "@jupyter-widgets/base",
          "model_name": "LayoutModel",
          "model_module_version": "2.0.0",
          "state": {
            "_model_module": "@jupyter-widgets/base",
            "_model_module_version": "2.0.0",
            "_model_name": "LayoutModel",
            "_view_count": null,
            "_view_module": "@jupyter-widgets/base",
            "_view_module_version": "2.0.0",
            "_view_name": "LayoutView",
            "align_content": null,
            "align_items": null,
            "align_self": null,
            "border_bottom": null,
            "border_left": null,
            "border_right": null,
            "border_top": null,
            "bottom": null,
            "display": null,
            "flex": null,
            "flex_flow": null,
            "grid_area": null,
            "grid_auto_columns": null,
            "grid_auto_flow": null,
            "grid_auto_rows": null,
            "grid_column": null,
            "grid_gap": null,
            "grid_row": null,
            "grid_template_areas": null,
            "grid_template_columns": null,
            "grid_template_rows": null,
            "height": null,
            "justify_content": null,
            "justify_items": null,
            "left": null,
            "margin": null,
            "max_height": null,
            "max_width": null,
            "min_height": null,
            "min_width": null,
            "object_fit": null,
            "object_position": null,
            "order": null,
            "overflow": null,
            "padding": null,
            "right": null,
            "top": null,
            "visibility": null,
            "width": null
          }
        },
        "ad01c9fa49ee4d9db1ab2a582909023c": {
          "model_module": "@jupyter-widgets/controls",
          "model_name": "ProgressStyleModel",
          "model_module_version": "2.0.0",
          "state": {
            "_model_module": "@jupyter-widgets/controls",
            "_model_module_version": "2.0.0",
            "_model_name": "ProgressStyleModel",
            "_view_count": null,
            "_view_module": "@jupyter-widgets/base",
            "_view_module_version": "2.0.0",
            "_view_name": "StyleView",
            "bar_color": null,
            "description_width": ""
          }
        },
        "195d39bf9c964bdab189f74949a0ecd9": {
          "model_module": "@jupyter-widgets/base",
          "model_name": "LayoutModel",
          "model_module_version": "2.0.0",
          "state": {
            "_model_module": "@jupyter-widgets/base",
            "_model_module_version": "2.0.0",
            "_model_name": "LayoutModel",
            "_view_count": null,
            "_view_module": "@jupyter-widgets/base",
            "_view_module_version": "2.0.0",
            "_view_name": "LayoutView",
            "align_content": null,
            "align_items": null,
            "align_self": null,
            "border_bottom": null,
            "border_left": null,
            "border_right": null,
            "border_top": null,
            "bottom": null,
            "display": null,
            "flex": null,
            "flex_flow": null,
            "grid_area": null,
            "grid_auto_columns": null,
            "grid_auto_flow": null,
            "grid_auto_rows": null,
            "grid_column": null,
            "grid_gap": null,
            "grid_row": null,
            "grid_template_areas": null,
            "grid_template_columns": null,
            "grid_template_rows": null,
            "height": null,
            "justify_content": null,
            "justify_items": null,
            "left": null,
            "margin": null,
            "max_height": null,
            "max_width": null,
            "min_height": null,
            "min_width": null,
            "object_fit": null,
            "object_position": null,
            "order": null,
            "overflow": null,
            "padding": null,
            "right": null,
            "top": null,
            "visibility": null,
            "width": null
          }
        },
        "f99969928ae04f63ab0776079143fd38": {
          "model_module": "@jupyter-widgets/controls",
          "model_name": "HTMLStyleModel",
          "model_module_version": "2.0.0",
          "state": {
            "_model_module": "@jupyter-widgets/controls",
            "_model_module_version": "2.0.0",
            "_model_name": "HTMLStyleModel",
            "_view_count": null,
            "_view_module": "@jupyter-widgets/base",
            "_view_module_version": "2.0.0",
            "_view_name": "StyleView",
            "background": null,
            "description_width": "",
            "font_size": null,
            "text_color": null
          }
        },
        "7177e2e5b98e46bdabbb4b745a740379": {
          "model_module": "@jupyter-widgets/controls",
          "model_name": "HBoxModel",
          "model_module_version": "2.0.0",
          "state": {
            "_dom_classes": [],
            "_model_module": "@jupyter-widgets/controls",
            "_model_module_version": "2.0.0",
            "_model_name": "HBoxModel",
            "_view_count": null,
            "_view_module": "@jupyter-widgets/controls",
            "_view_module_version": "2.0.0",
            "_view_name": "HBoxView",
            "box_style": "",
            "children": [
              "IPY_MODEL_ce9d79677cd04dbe8c9ec20bd5778314",
              "IPY_MODEL_22a9713c6f3f435b84396d2ae398df79",
              "IPY_MODEL_0341ac40bf3043aea1d65212638f0f83"
            ],
            "layout": "IPY_MODEL_4febfee5be3e4508824a6853088d19a7",
            "tabbable": null,
            "tooltip": null
          }
        },
        "ce9d79677cd04dbe8c9ec20bd5778314": {
          "model_module": "@jupyter-widgets/controls",
          "model_name": "HTMLModel",
          "model_module_version": "2.0.0",
          "state": {
            "_dom_classes": [],
            "_model_module": "@jupyter-widgets/controls",
            "_model_module_version": "2.0.0",
            "_model_name": "HTMLModel",
            "_view_count": null,
            "_view_module": "@jupyter-widgets/controls",
            "_view_module_version": "2.0.0",
            "_view_name": "HTMLView",
            "description": "",
            "description_allow_html": false,
            "layout": "IPY_MODEL_22a8e062ee95439db71e240f88e85b38",
            "placeholder": "​",
            "style": "IPY_MODEL_49898b186f7446b0b0d3a4d7e5f085b4",
            "tabbable": null,
            "tooltip": null,
            "value": "100%"
          }
        },
        "22a9713c6f3f435b84396d2ae398df79": {
          "model_module": "@jupyter-widgets/controls",
          "model_name": "FloatProgressModel",
          "model_module_version": "2.0.0",
          "state": {
            "_dom_classes": [],
            "_model_module": "@jupyter-widgets/controls",
            "_model_module_version": "2.0.0",
            "_model_name": "FloatProgressModel",
            "_view_count": null,
            "_view_module": "@jupyter-widgets/controls",
            "_view_module_version": "2.0.0",
            "_view_name": "ProgressView",
            "bar_style": "success",
            "description": "",
            "description_allow_html": false,
            "layout": "IPY_MODEL_979491b025fa46b38492adbbf957c5b2",
            "max": 49,
            "min": 0,
            "orientation": "horizontal",
            "style": "IPY_MODEL_6a6606dd68b741979c24253f1aa3d323",
            "tabbable": null,
            "tooltip": null,
            "value": 49
          }
        },
        "0341ac40bf3043aea1d65212638f0f83": {
          "model_module": "@jupyter-widgets/controls",
          "model_name": "HTMLModel",
          "model_module_version": "2.0.0",
          "state": {
            "_dom_classes": [],
            "_model_module": "@jupyter-widgets/controls",
            "_model_module_version": "2.0.0",
            "_model_name": "HTMLModel",
            "_view_count": null,
            "_view_module": "@jupyter-widgets/controls",
            "_view_module_version": "2.0.0",
            "_view_name": "HTMLView",
            "description": "",
            "description_allow_html": false,
            "layout": "IPY_MODEL_7278b7f5a33642b1881a026036821842",
            "placeholder": "​",
            "style": "IPY_MODEL_a29bfbec87974e018169632765b59796",
            "tabbable": null,
            "tooltip": null,
            "value": " 49/49 [08:39&lt;00:00, 10.26s/it]"
          }
        },
        "4febfee5be3e4508824a6853088d19a7": {
          "model_module": "@jupyter-widgets/base",
          "model_name": "LayoutModel",
          "model_module_version": "2.0.0",
          "state": {
            "_model_module": "@jupyter-widgets/base",
            "_model_module_version": "2.0.0",
            "_model_name": "LayoutModel",
            "_view_count": null,
            "_view_module": "@jupyter-widgets/base",
            "_view_module_version": "2.0.0",
            "_view_name": "LayoutView",
            "align_content": null,
            "align_items": null,
            "align_self": null,
            "border_bottom": null,
            "border_left": null,
            "border_right": null,
            "border_top": null,
            "bottom": null,
            "display": null,
            "flex": null,
            "flex_flow": null,
            "grid_area": null,
            "grid_auto_columns": null,
            "grid_auto_flow": null,
            "grid_auto_rows": null,
            "grid_column": null,
            "grid_gap": null,
            "grid_row": null,
            "grid_template_areas": null,
            "grid_template_columns": null,
            "grid_template_rows": null,
            "height": null,
            "justify_content": null,
            "justify_items": null,
            "left": null,
            "margin": null,
            "max_height": null,
            "max_width": null,
            "min_height": null,
            "min_width": null,
            "object_fit": null,
            "object_position": null,
            "order": null,
            "overflow": null,
            "padding": null,
            "right": null,
            "top": null,
            "visibility": null,
            "width": null
          }
        },
        "22a8e062ee95439db71e240f88e85b38": {
          "model_module": "@jupyter-widgets/base",
          "model_name": "LayoutModel",
          "model_module_version": "2.0.0",
          "state": {
            "_model_module": "@jupyter-widgets/base",
            "_model_module_version": "2.0.0",
            "_model_name": "LayoutModel",
            "_view_count": null,
            "_view_module": "@jupyter-widgets/base",
            "_view_module_version": "2.0.0",
            "_view_name": "LayoutView",
            "align_content": null,
            "align_items": null,
            "align_self": null,
            "border_bottom": null,
            "border_left": null,
            "border_right": null,
            "border_top": null,
            "bottom": null,
            "display": null,
            "flex": null,
            "flex_flow": null,
            "grid_area": null,
            "grid_auto_columns": null,
            "grid_auto_flow": null,
            "grid_auto_rows": null,
            "grid_column": null,
            "grid_gap": null,
            "grid_row": null,
            "grid_template_areas": null,
            "grid_template_columns": null,
            "grid_template_rows": null,
            "height": null,
            "justify_content": null,
            "justify_items": null,
            "left": null,
            "margin": null,
            "max_height": null,
            "max_width": null,
            "min_height": null,
            "min_width": null,
            "object_fit": null,
            "object_position": null,
            "order": null,
            "overflow": null,
            "padding": null,
            "right": null,
            "top": null,
            "visibility": null,
            "width": null
          }
        },
        "49898b186f7446b0b0d3a4d7e5f085b4": {
          "model_module": "@jupyter-widgets/controls",
          "model_name": "HTMLStyleModel",
          "model_module_version": "2.0.0",
          "state": {
            "_model_module": "@jupyter-widgets/controls",
            "_model_module_version": "2.0.0",
            "_model_name": "HTMLStyleModel",
            "_view_count": null,
            "_view_module": "@jupyter-widgets/base",
            "_view_module_version": "2.0.0",
            "_view_name": "StyleView",
            "background": null,
            "description_width": "",
            "font_size": null,
            "text_color": null
          }
        },
        "979491b025fa46b38492adbbf957c5b2": {
          "model_module": "@jupyter-widgets/base",
          "model_name": "LayoutModel",
          "model_module_version": "2.0.0",
          "state": {
            "_model_module": "@jupyter-widgets/base",
            "_model_module_version": "2.0.0",
            "_model_name": "LayoutModel",
            "_view_count": null,
            "_view_module": "@jupyter-widgets/base",
            "_view_module_version": "2.0.0",
            "_view_name": "LayoutView",
            "align_content": null,
            "align_items": null,
            "align_self": null,
            "border_bottom": null,
            "border_left": null,
            "border_right": null,
            "border_top": null,
            "bottom": null,
            "display": null,
            "flex": null,
            "flex_flow": null,
            "grid_area": null,
            "grid_auto_columns": null,
            "grid_auto_flow": null,
            "grid_auto_rows": null,
            "grid_column": null,
            "grid_gap": null,
            "grid_row": null,
            "grid_template_areas": null,
            "grid_template_columns": null,
            "grid_template_rows": null,
            "height": null,
            "justify_content": null,
            "justify_items": null,
            "left": null,
            "margin": null,
            "max_height": null,
            "max_width": null,
            "min_height": null,
            "min_width": null,
            "object_fit": null,
            "object_position": null,
            "order": null,
            "overflow": null,
            "padding": null,
            "right": null,
            "top": null,
            "visibility": null,
            "width": null
          }
        },
        "6a6606dd68b741979c24253f1aa3d323": {
          "model_module": "@jupyter-widgets/controls",
          "model_name": "ProgressStyleModel",
          "model_module_version": "2.0.0",
          "state": {
            "_model_module": "@jupyter-widgets/controls",
            "_model_module_version": "2.0.0",
            "_model_name": "ProgressStyleModel",
            "_view_count": null,
            "_view_module": "@jupyter-widgets/base",
            "_view_module_version": "2.0.0",
            "_view_name": "StyleView",
            "bar_color": null,
            "description_width": ""
          }
        },
        "7278b7f5a33642b1881a026036821842": {
          "model_module": "@jupyter-widgets/base",
          "model_name": "LayoutModel",
          "model_module_version": "2.0.0",
          "state": {
            "_model_module": "@jupyter-widgets/base",
            "_model_module_version": "2.0.0",
            "_model_name": "LayoutModel",
            "_view_count": null,
            "_view_module": "@jupyter-widgets/base",
            "_view_module_version": "2.0.0",
            "_view_name": "LayoutView",
            "align_content": null,
            "align_items": null,
            "align_self": null,
            "border_bottom": null,
            "border_left": null,
            "border_right": null,
            "border_top": null,
            "bottom": null,
            "display": null,
            "flex": null,
            "flex_flow": null,
            "grid_area": null,
            "grid_auto_columns": null,
            "grid_auto_flow": null,
            "grid_auto_rows": null,
            "grid_column": null,
            "grid_gap": null,
            "grid_row": null,
            "grid_template_areas": null,
            "grid_template_columns": null,
            "grid_template_rows": null,
            "height": null,
            "justify_content": null,
            "justify_items": null,
            "left": null,
            "margin": null,
            "max_height": null,
            "max_width": null,
            "min_height": null,
            "min_width": null,
            "object_fit": null,
            "object_position": null,
            "order": null,
            "overflow": null,
            "padding": null,
            "right": null,
            "top": null,
            "visibility": null,
            "width": null
          }
        },
        "a29bfbec87974e018169632765b59796": {
          "model_module": "@jupyter-widgets/controls",
          "model_name": "HTMLStyleModel",
          "model_module_version": "2.0.0",
          "state": {
            "_model_module": "@jupyter-widgets/controls",
            "_model_module_version": "2.0.0",
            "_model_name": "HTMLStyleModel",
            "_view_count": null,
            "_view_module": "@jupyter-widgets/base",
            "_view_module_version": "2.0.0",
            "_view_name": "StyleView",
            "background": null,
            "description_width": "",
            "font_size": null,
            "text_color": null
          }
        },
        "9ba3e25c919e401f8ef0ed4818822a2f": {
          "model_module": "@jupyter-widgets/controls",
          "model_name": "HBoxModel",
          "model_module_version": "2.0.0",
          "state": {
            "_dom_classes": [],
            "_model_module": "@jupyter-widgets/controls",
            "_model_module_version": "2.0.0",
            "_model_name": "HBoxModel",
            "_view_count": null,
            "_view_module": "@jupyter-widgets/controls",
            "_view_module_version": "2.0.0",
            "_view_name": "HBoxView",
            "box_style": "",
            "children": [
              "IPY_MODEL_73fc3a1d5a934841a803d9551755776e",
              "IPY_MODEL_dbcedb1c312a46d7bcc53b3a29fed022",
              "IPY_MODEL_12455d8138914695897d7d9446fb3432"
            ],
            "layout": "IPY_MODEL_936738c37d2543589d02d0369f132f1a",
            "tabbable": null,
            "tooltip": null
          }
        },
        "73fc3a1d5a934841a803d9551755776e": {
          "model_module": "@jupyter-widgets/controls",
          "model_name": "HTMLModel",
          "model_module_version": "2.0.0",
          "state": {
            "_dom_classes": [],
            "_model_module": "@jupyter-widgets/controls",
            "_model_module_version": "2.0.0",
            "_model_name": "HTMLModel",
            "_view_count": null,
            "_view_module": "@jupyter-widgets/controls",
            "_view_module_version": "2.0.0",
            "_view_name": "HTMLView",
            "description": "",
            "description_allow_html": false,
            "layout": "IPY_MODEL_0569787132a74bf09b5f3506dbd4bc60",
            "placeholder": "​",
            "style": "IPY_MODEL_a61c6a82391d4601a044454514fa4d89",
            "tabbable": null,
            "tooltip": null,
            "value": "100%"
          }
        },
        "dbcedb1c312a46d7bcc53b3a29fed022": {
          "model_module": "@jupyter-widgets/controls",
          "model_name": "FloatProgressModel",
          "model_module_version": "2.0.0",
          "state": {
            "_dom_classes": [],
            "_model_module": "@jupyter-widgets/controls",
            "_model_module_version": "2.0.0",
            "_model_name": "FloatProgressModel",
            "_view_count": null,
            "_view_module": "@jupyter-widgets/controls",
            "_view_module_version": "2.0.0",
            "_view_name": "ProgressView",
            "bar_style": "success",
            "description": "",
            "description_allow_html": false,
            "layout": "IPY_MODEL_6040fb50edee40b0ad1f0e78a681601c",
            "max": 1811,
            "min": 0,
            "orientation": "horizontal",
            "style": "IPY_MODEL_0752097c258c442685ec97a8a74409a3",
            "tabbable": null,
            "tooltip": null,
            "value": 1811
          }
        },
        "12455d8138914695897d7d9446fb3432": {
          "model_module": "@jupyter-widgets/controls",
          "model_name": "HTMLModel",
          "model_module_version": "2.0.0",
          "state": {
            "_dom_classes": [],
            "_model_module": "@jupyter-widgets/controls",
            "_model_module_version": "2.0.0",
            "_model_name": "HTMLModel",
            "_view_count": null,
            "_view_module": "@jupyter-widgets/controls",
            "_view_module_version": "2.0.0",
            "_view_name": "HTMLView",
            "description": "",
            "description_allow_html": false,
            "layout": "IPY_MODEL_b51957be47a94e09b5e00d0020b54fc0",
            "placeholder": "​",
            "style": "IPY_MODEL_859eb63880f04195a0e96d2cfad49abd",
            "tabbable": null,
            "tooltip": null,
            "value": " 1811/1811 [2:24:06&lt;00:00,  4.73s/it]"
          }
        },
        "936738c37d2543589d02d0369f132f1a": {
          "model_module": "@jupyter-widgets/base",
          "model_name": "LayoutModel",
          "model_module_version": "2.0.0",
          "state": {
            "_model_module": "@jupyter-widgets/base",
            "_model_module_version": "2.0.0",
            "_model_name": "LayoutModel",
            "_view_count": null,
            "_view_module": "@jupyter-widgets/base",
            "_view_module_version": "2.0.0",
            "_view_name": "LayoutView",
            "align_content": null,
            "align_items": null,
            "align_self": null,
            "border_bottom": null,
            "border_left": null,
            "border_right": null,
            "border_top": null,
            "bottom": null,
            "display": null,
            "flex": null,
            "flex_flow": null,
            "grid_area": null,
            "grid_auto_columns": null,
            "grid_auto_flow": null,
            "grid_auto_rows": null,
            "grid_column": null,
            "grid_gap": null,
            "grid_row": null,
            "grid_template_areas": null,
            "grid_template_columns": null,
            "grid_template_rows": null,
            "height": null,
            "justify_content": null,
            "justify_items": null,
            "left": null,
            "margin": null,
            "max_height": null,
            "max_width": null,
            "min_height": null,
            "min_width": null,
            "object_fit": null,
            "object_position": null,
            "order": null,
            "overflow": null,
            "padding": null,
            "right": null,
            "top": null,
            "visibility": null,
            "width": null
          }
        },
        "0569787132a74bf09b5f3506dbd4bc60": {
          "model_module": "@jupyter-widgets/base",
          "model_name": "LayoutModel",
          "model_module_version": "2.0.0",
          "state": {
            "_model_module": "@jupyter-widgets/base",
            "_model_module_version": "2.0.0",
            "_model_name": "LayoutModel",
            "_view_count": null,
            "_view_module": "@jupyter-widgets/base",
            "_view_module_version": "2.0.0",
            "_view_name": "LayoutView",
            "align_content": null,
            "align_items": null,
            "align_self": null,
            "border_bottom": null,
            "border_left": null,
            "border_right": null,
            "border_top": null,
            "bottom": null,
            "display": null,
            "flex": null,
            "flex_flow": null,
            "grid_area": null,
            "grid_auto_columns": null,
            "grid_auto_flow": null,
            "grid_auto_rows": null,
            "grid_column": null,
            "grid_gap": null,
            "grid_row": null,
            "grid_template_areas": null,
            "grid_template_columns": null,
            "grid_template_rows": null,
            "height": null,
            "justify_content": null,
            "justify_items": null,
            "left": null,
            "margin": null,
            "max_height": null,
            "max_width": null,
            "min_height": null,
            "min_width": null,
            "object_fit": null,
            "object_position": null,
            "order": null,
            "overflow": null,
            "padding": null,
            "right": null,
            "top": null,
            "visibility": null,
            "width": null
          }
        },
        "a61c6a82391d4601a044454514fa4d89": {
          "model_module": "@jupyter-widgets/controls",
          "model_name": "HTMLStyleModel",
          "model_module_version": "2.0.0",
          "state": {
            "_model_module": "@jupyter-widgets/controls",
            "_model_module_version": "2.0.0",
            "_model_name": "HTMLStyleModel",
            "_view_count": null,
            "_view_module": "@jupyter-widgets/base",
            "_view_module_version": "2.0.0",
            "_view_name": "StyleView",
            "background": null,
            "description_width": "",
            "font_size": null,
            "text_color": null
          }
        },
        "6040fb50edee40b0ad1f0e78a681601c": {
          "model_module": "@jupyter-widgets/base",
          "model_name": "LayoutModel",
          "model_module_version": "2.0.0",
          "state": {
            "_model_module": "@jupyter-widgets/base",
            "_model_module_version": "2.0.0",
            "_model_name": "LayoutModel",
            "_view_count": null,
            "_view_module": "@jupyter-widgets/base",
            "_view_module_version": "2.0.0",
            "_view_name": "LayoutView",
            "align_content": null,
            "align_items": null,
            "align_self": null,
            "border_bottom": null,
            "border_left": null,
            "border_right": null,
            "border_top": null,
            "bottom": null,
            "display": null,
            "flex": null,
            "flex_flow": null,
            "grid_area": null,
            "grid_auto_columns": null,
            "grid_auto_flow": null,
            "grid_auto_rows": null,
            "grid_column": null,
            "grid_gap": null,
            "grid_row": null,
            "grid_template_areas": null,
            "grid_template_columns": null,
            "grid_template_rows": null,
            "height": null,
            "justify_content": null,
            "justify_items": null,
            "left": null,
            "margin": null,
            "max_height": null,
            "max_width": null,
            "min_height": null,
            "min_width": null,
            "object_fit": null,
            "object_position": null,
            "order": null,
            "overflow": null,
            "padding": null,
            "right": null,
            "top": null,
            "visibility": null,
            "width": null
          }
        },
        "0752097c258c442685ec97a8a74409a3": {
          "model_module": "@jupyter-widgets/controls",
          "model_name": "ProgressStyleModel",
          "model_module_version": "2.0.0",
          "state": {
            "_model_module": "@jupyter-widgets/controls",
            "_model_module_version": "2.0.0",
            "_model_name": "ProgressStyleModel",
            "_view_count": null,
            "_view_module": "@jupyter-widgets/base",
            "_view_module_version": "2.0.0",
            "_view_name": "StyleView",
            "bar_color": null,
            "description_width": ""
          }
        },
        "b51957be47a94e09b5e00d0020b54fc0": {
          "model_module": "@jupyter-widgets/base",
          "model_name": "LayoutModel",
          "model_module_version": "2.0.0",
          "state": {
            "_model_module": "@jupyter-widgets/base",
            "_model_module_version": "2.0.0",
            "_model_name": "LayoutModel",
            "_view_count": null,
            "_view_module": "@jupyter-widgets/base",
            "_view_module_version": "2.0.0",
            "_view_name": "LayoutView",
            "align_content": null,
            "align_items": null,
            "align_self": null,
            "border_bottom": null,
            "border_left": null,
            "border_right": null,
            "border_top": null,
            "bottom": null,
            "display": null,
            "flex": null,
            "flex_flow": null,
            "grid_area": null,
            "grid_auto_columns": null,
            "grid_auto_flow": null,
            "grid_auto_rows": null,
            "grid_column": null,
            "grid_gap": null,
            "grid_row": null,
            "grid_template_areas": null,
            "grid_template_columns": null,
            "grid_template_rows": null,
            "height": null,
            "justify_content": null,
            "justify_items": null,
            "left": null,
            "margin": null,
            "max_height": null,
            "max_width": null,
            "min_height": null,
            "min_width": null,
            "object_fit": null,
            "object_position": null,
            "order": null,
            "overflow": null,
            "padding": null,
            "right": null,
            "top": null,
            "visibility": null,
            "width": null
          }
        },
        "859eb63880f04195a0e96d2cfad49abd": {
          "model_module": "@jupyter-widgets/controls",
          "model_name": "HTMLStyleModel",
          "model_module_version": "2.0.0",
          "state": {
            "_model_module": "@jupyter-widgets/controls",
            "_model_module_version": "2.0.0",
            "_model_name": "HTMLStyleModel",
            "_view_count": null,
            "_view_module": "@jupyter-widgets/base",
            "_view_module_version": "2.0.0",
            "_view_name": "StyleView",
            "background": null,
            "description_width": "",
            "font_size": null,
            "text_color": null
          }
        }
      }
    }
  },
  "cells": [
    {
      "cell_type": "code",
      "metadata": {
        "id": "6E11q1711nmO",
        "colab": {
          "base_uri": "https://localhost:8080/"
        },
        "outputId": "054d2ee7-9815-4231-8e43-80695b73f477"
      },
      "source": [
        "!pip install selenium\n",
        "!apt-get update\n",
        "!apt install chromium-chromedriver\n",
        "!cp /usr/lib/chromium-browser/chromedriver /usr/bin"
      ],
      "execution_count": null,
      "outputs": [
        {
          "output_type": "stream",
          "name": "stdout",
          "text": [
            "Looking in indexes: https://pypi.org/simple, https://us-python.pkg.dev/colab-wheels/public/simple/\n",
            "Requirement already satisfied: selenium in /usr/local/lib/python3.7/dist-packages (4.4.3)\n",
            "Requirement already satisfied: trio~=0.17 in /usr/local/lib/python3.7/dist-packages (from selenium) (0.21.0)\n",
            "Requirement already satisfied: urllib3[socks]~=1.26 in /usr/local/lib/python3.7/dist-packages (from selenium) (1.26.11)\n",
            "Requirement already satisfied: certifi>=2021.10.8 in /usr/local/lib/python3.7/dist-packages (from selenium) (2022.6.15)\n",
            "Requirement already satisfied: trio-websocket~=0.9 in /usr/local/lib/python3.7/dist-packages (from selenium) (0.9.2)\n",
            "Requirement already satisfied: attrs>=19.2.0 in /usr/local/lib/python3.7/dist-packages (from trio~=0.17->selenium) (22.1.0)\n",
            "Requirement already satisfied: sortedcontainers in /usr/local/lib/python3.7/dist-packages (from trio~=0.17->selenium) (2.4.0)\n",
            "Requirement already satisfied: idna in /usr/local/lib/python3.7/dist-packages (from trio~=0.17->selenium) (2.10)\n",
            "Requirement already satisfied: sniffio in /usr/local/lib/python3.7/dist-packages (from trio~=0.17->selenium) (1.2.0)\n",
            "Requirement already satisfied: outcome in /usr/local/lib/python3.7/dist-packages (from trio~=0.17->selenium) (1.2.0)\n",
            "Requirement already satisfied: async-generator>=1.9 in /usr/local/lib/python3.7/dist-packages (from trio~=0.17->selenium) (1.10)\n",
            "Requirement already satisfied: wsproto>=0.14 in /usr/local/lib/python3.7/dist-packages (from trio-websocket~=0.9->selenium) (1.1.0)\n",
            "Requirement already satisfied: PySocks!=1.5.7,<2.0,>=1.5.6 in /usr/local/lib/python3.7/dist-packages (from urllib3[socks]~=1.26->selenium) (1.7.1)\n",
            "Requirement already satisfied: h11<1,>=0.9.0 in /usr/local/lib/python3.7/dist-packages (from wsproto>=0.14->trio-websocket~=0.9->selenium) (0.13.0)\n",
            "Requirement already satisfied: typing-extensions in /usr/local/lib/python3.7/dist-packages (from h11<1,>=0.9.0->wsproto>=0.14->trio-websocket~=0.9->selenium) (4.1.1)\n",
            "Ign:1 https://developer.download.nvidia.com/compute/machine-learning/repos/ubuntu1804/x86_64  InRelease\n",
            "Hit:2 https://developer.download.nvidia.com/compute/cuda/repos/ubuntu1804/x86_64  InRelease\n",
            "Hit:3 https://developer.download.nvidia.com/compute/machine-learning/repos/ubuntu1804/x86_64  Release\n",
            "Hit:4 https://cloud.r-project.org/bin/linux/ubuntu bionic-cran40/ InRelease\n",
            "Get:5 http://security.ubuntu.com/ubuntu bionic-security InRelease [88.7 kB]\n",
            "Hit:6 http://archive.ubuntu.com/ubuntu bionic InRelease\n",
            "Hit:7 http://ppa.launchpad.net/c2d4u.team/c2d4u4.0+/ubuntu bionic InRelease\n",
            "Get:9 http://archive.ubuntu.com/ubuntu bionic-updates InRelease [88.7 kB]\n",
            "Hit:10 http://ppa.launchpad.net/cran/libgit2/ubuntu bionic InRelease\n",
            "Hit:11 http://ppa.launchpad.net/deadsnakes/ppa/ubuntu bionic InRelease\n",
            "Get:12 http://archive.ubuntu.com/ubuntu bionic-backports InRelease [74.6 kB]\n",
            "Hit:13 http://ppa.launchpad.net/graphics-drivers/ppa/ubuntu bionic InRelease\n",
            "Fetched 252 kB in 2s (109 kB/s)\n",
            "Reading package lists... Done\n",
            "Reading package lists... Done\n",
            "Building dependency tree       \n",
            "Reading state information... Done\n",
            "chromium-chromedriver is already the newest version (103.0.5060.134-0ubuntu0.18.04.1).\n",
            "The following package was automatically installed and is no longer required:\n",
            "  libnvidia-common-460\n",
            "Use 'apt autoremove' to remove it.\n",
            "0 upgraded, 0 newly installed, 0 to remove and 25 not upgraded.\n",
            "cp: '/usr/lib/chromium-browser/chromedriver' and '/usr/bin/chromedriver' are the same file\n"
          ]
        }
      ]
    },
    {
      "cell_type": "code",
      "metadata": {
        "id": "YRt5yEXxA-jW"
      },
      "source": [
        "import sys\n",
        "import logging\n",
        "from selenium.webdriver.remote.remote_connection import LOGGER\n",
        "LOGGER.setLevel(logging.WARNING)\n",
        "sys.path.insert(0,'/usr/lib/chromium-browser/chromedriver')\n",
        "from selenium import webdriver\n",
        "from selenium.webdriver.common.by import By\n",
        "from tqdm import tqdm_notebook as tqdm\n",
        "import pandas\n",
        "import json\n",
        "import pprint"
      ],
      "execution_count": null,
      "outputs": []
    },
    {
      "cell_type": "code",
      "metadata": {
        "id": "DTfvdy_gBCBU"
      },
      "source": [
        "chrome_options = webdriver.ChromeOptions()\n",
        "chrome_options.add_argument('--headless')\n",
        "chrome_options.add_argument('--no-sandbox')\n",
        "chrome_options.add_argument('--disable-dev-shm-usage')\n",
        "chrome_options.add_argument(\"user-agent=Mozilla/5.0 (Macintosh; Intel Mac OS X 10_15_7) AppleWebKit/537.36 (KHTML, like Gecko) Chrome/90.0.4430.212 Safari/537.36\")"
      ],
      "execution_count": null,
      "outputs": []
    },
    {
      "cell_type": "markdown",
      "metadata": {
        "id": "YUp_U6IY2Rgu"
      },
      "source": [
        "## First connection"
      ]
    },
    {
      "cell_type": "code",
      "metadata": {
        "colab": {
          "base_uri": "https://localhost:8080/"
        },
        "id": "ON4OHPZm1yTf",
        "outputId": "9b4798d6-0d1f-4f9e-88a4-415c82f01357"
      },
      "source": [
        "wd = webdriver.Chrome('chromedriver',chrome_options=chrome_options)\n",
        "import time"
      ],
      "execution_count": null,
      "outputs": [
        {
          "output_type": "stream",
          "name": "stderr",
          "text": [
            "/usr/local/lib/python3.7/dist-packages/ipykernel_launcher.py:1: DeprecationWarning: use options instead of chrome_options\n",
            "  \"\"\"Entry point for launching an IPython kernel.\n"
          ]
        }
      ]
    },
    {
      "cell_type": "code",
      "metadata": {
        "id": "Y9Gviq-mn5Sg",
        "colab": {
          "base_uri": "https://localhost:8080/",
          "height": 287
        },
        "outputId": "2b372345-03ae-4fc2-d84b-a986c10313ed"
      },
      "source": [
        " wd.get(\"https://www.tripadvisor.it/Restaurants-g187849-Milan_Lombardy.html\")\n",
        "wd.save_screenshot('screenshot.png')\n",
        "\n",
        "%pylab inline\n",
        "import matplotlib.pyplot as plt\n",
        "import matplotlib.image as mpimg\n",
        "img=mpimg.imread('/content/screenshot.png')\n",
        "imgplot = plt.imshow(img)\n",
        "plt.show()\n"
      ],
      "execution_count": null,
      "outputs": [
        {
          "output_type": "stream",
          "name": "stdout",
          "text": [
            "Populating the interactive namespace from numpy and matplotlib\n"
          ]
        },
        {
          "output_type": "display_data",
          "data": {
            "text/plain": [
              "<Figure size 432x288 with 1 Axes>"
            ],
            "image/png": "[encoded data removed]"
          },
          "metadata": {
            "needs_background": "light"
          }
        }
      ]
    },
    {
      "cell_type": "code",
      "metadata": {
        "id": "X033nUzra6uq",
        "colab": {
          "base_uri": "https://localhost:8080/"
        },
        "outputId": "43f1a0e8-e36b-4ca7-ff8c-fe5853092440"
      },
      "source": [
        "print(wd.title)"
      ],
      "execution_count": null,
      "outputs": [
        {
          "output_type": "stream",
          "name": "stdout",
          "text": [
            "I MIGLIORI 10 ristoranti a Milano - Aggiornamento di agosto 2022 - Tripadvisor\n"
          ]
        }
      ]
    },
    {
      "cell_type": "markdown",
      "metadata": {
        "id": "zK7Cf_mradiL"
      },
      "source": [
        "### How do we extract the values inside a page with CSS Selector?\n",
        "\n",
        "Selenium has a method called `find_elements(by=By.CSS_SELECTOR, value='..')`.\n",
        "\n",
        "We will pass our CSS Selector into this method and get a list of selenium elements. Once we have the element, we can extract the text inside it using the `text` function."
      ]
    },
    {
      "cell_type": "code",
      "metadata": {
        "id": "WFuRVKIdbWN3",
        "colab": {
          "base_uri": "https://localhost:8080/"
        },
        "outputId": "385e619c-20f5-4801-8eba-b5c3884d0969"
      },
      "source": [
        "wd.get(\"https://www.tripadvisor.it/Restaurants-g187849-Milan_Lombardy.html\")\n",
        "time.sleep(10)\n",
        "list_titles = wd.find_elements(by=By.CSS_SELECTOR, value=\"div.zdCeB.Vt.o\")\n",
        "print(len(list_titles))"
      ],
      "execution_count": null,
      "outputs": [
        {
          "output_type": "stream",
          "name": "stdout",
          "text": [
            "37\n"
          ]
        }
      ]
    },
    {
      "cell_type": "markdown",
      "metadata": {
        "id": "A1ETBqlPcQhl"
      },
      "source": [
        "# Restaurant List\n",
        "\n",
        "\n",
        "\n"
      ]
    },
    {
      "cell_type": "code",
      "metadata": {
        "id": "_V1hNO9ZcJy6",
        "colab": {
          "base_uri": "https://localhost:8080/"
        },
        "outputId": "4847c970-1a76-4c42-b384-f6e72b32c790"
      },
      "source": [
        "list_projects = wd.find_elements(by=By.CSS_SELECTOR, value=\"div.zdCeB.Vt.o\")\n",
        "print(len(list_projects))"
      ],
      "execution_count": null,
      "outputs": [
        {
          "output_type": "stream",
          "name": "stdout",
          "text": [
            "37\n"
          ]
        }
      ]
    },
    {
      "cell_type": "code",
      "metadata": {
        "id": "1J2xAL6qcj9-",
        "colab": {
          "base_uri": "https://localhost:8080/"
        },
        "outputId": "ee4a48f1-9201-4806-b197-5d39d37f5318"
      },
      "source": [
        "import pprint\n",
        "detail_projects = []\n",
        "for project in list_projects:\n",
        "    url = project.find_elements(by=By.CSS_SELECTOR, value=\"a\")[0].get_attribute(\"href\")\n",
        "    recensione = \"\"\n",
        "  \n",
        "    if(len(project.find_elements(by=By.CSS_SELECTOR, value=\".Lwqic.Cj.b\")) > 0):\n",
        "      title = project.find_elements(by=By.CSS_SELECTOR, value=\".Lwqic.Cj.b\")[0].text\n",
        "    if(len(project.find_elements(by=By.CSS_SELECTOR, value=\".IiChw\")) > 0):\n",
        "      recensione = project.find_elements(by=By.CSS_SELECTOR, value=\".IiChw\")[0].text\n",
        "    restaurant_id = url\n",
        "\n",
        "    detail_projects.append({'url': url,\n",
        "                            'title': title,\n",
        "                            'recensione': recensione,\n",
        "                            'restaurant_id': restaurant_id})\n",
        "\n",
        "len(detail_projects)\n",
        "pprint.pprint(detail_projects[0:5])"
      ],
      "execution_count": null,
      "outputs": [
        {
          "output_type": "stream",
          "name": "stdout",
          "text": [
            "[{'recensione': '27 recensioni',\n",
            "  'restaurant_id': 'https://www.tripadvisor.it/Restaurant_Review-g187849-d23934354-Reviews-I_Barolisti-Milan_Lombardy.html',\n",
            "  'title': 'I Barolisti',\n",
            "  'url': 'https://www.tripadvisor.it/Restaurant_Review-g187849-d23934354-Reviews-I_Barolisti-Milan_Lombardy.html'},\n",
            " {'recensione': '72 recensioni',\n",
            "  'restaurant_id': 'https://www.tripadvisor.it/Restaurant_Review-g187849-d24167962-Reviews-Parea_Bistrot-Milan_Lombardy.html',\n",
            "  'title': '1. Parea Bistrot',\n",
            "  'url': 'https://www.tripadvisor.it/Restaurant_Review-g187849-d24167962-Reviews-Parea_Bistrot-Milan_Lombardy.html'},\n",
            " {'recensione': '758 recensioni',\n",
            "  'restaurant_id': 'https://www.tripadvisor.it/Restaurant_Review-g187849-d17805000-Reviews-Mabuhay_Restaurant-Milan_Lombardy.html',\n",
            "  'title': '2. Mabuhay Restaurant',\n",
            "  'url': 'https://www.tripadvisor.it/Restaurant_Review-g187849-d17805000-Reviews-Mabuhay_Restaurant-Milan_Lombardy.html'},\n",
            " {'recensione': '214 recensioni',\n",
            "  'restaurant_id': 'https://www.tripadvisor.it/Restaurant_Review-g187849-d23650099-Reviews-Marea_Seafood_Beverage-Milan_Lombardy.html',\n",
            "  'title': '3. Marea Seafood & Beverage',\n",
            "  'url': 'https://www.tripadvisor.it/Restaurant_Review-g187849-d23650099-Reviews-Marea_Seafood_Beverage-Milan_Lombardy.html'},\n",
            " {'recensione': '109 recensioni',\n",
            "  'restaurant_id': 'https://www.tripadvisor.it/Restaurant_Review-g187849-d15831930-Reviews-BLUE_M_Milano_Bottega_Marchigiana-Milan_Lombardy.html',\n",
            "  'title': '4. BLUE M Milano - Bottega Marchigiana',\n",
            "  'url': 'https://www.tripadvisor.it/Restaurant_Review-g187849-d15831930-Reviews-BLUE_M_Milano_Bottega_Marchigiana-Milan_Lombardy.html'}]\n"
          ]
        }
      ]
    },
    {
      "cell_type": "code",
      "metadata": {
        "id": "tD3KLUrIfTJd"
      },
      "source": [
        "def parse_project(project):\n",
        "  url = project.find_elements(by=By.CSS_SELECTOR, value=\"a\")[0].get_attribute(\"href\")\n",
        "  recensione = \"\"\n",
        "  try:\n",
        "    if(len(project.find_elements(by=By.CSS_SELECTOR, value=\".Lwqic.Cj.b\")) > 0):\n",
        "      title = project.find_elements(by=By.CSS_SELECTOR, value=\".Lwqic.Cj.b\")[0].text\n",
        "    if(len(project.find_elements(by=By.CSS_SELECTOR, value=\".IiChw\")) > 0):\n",
        "      recensione = project.find_elements(by=By.CSS_SELECTOR, value=\".IiChw\")[0].text\n",
        "    restaurant_id = url\n",
        "  except:\n",
        "    pass\n",
        "  return {'url': url,\n",
        "          'title': title,\n",
        "          'recensione': recensione,\n",
        "          'restaurant_id': restaurant_id}"
      ],
      "execution_count": null,
      "outputs": []
    },
    {
      "cell_type": "code",
      "metadata": {
        "id": "TfWSS_33fbZg",
        "colab": {
          "base_uri": "https://localhost:8080/",
          "height": 109,
          "referenced_widgets": [
            "cf875a0b276b4857a26864f76e8660cf",
            "0ab1cf53b0184d7db8bd2e6901ac56ed",
            "ff597f4d79d9411c902b7ec49f2df8f9",
            "af566bc2f49a47809fea9acfaef71c20",
            "e6bdf7fceaab4772bd98c0b9dc2a8cdc",
            "82a8e18fb4644210a3b692c9f778a8ad",
            "2951a3f21d554135b92f0b62792539a9",
            "12f5f33b8dbc426babecd51c5c591c89",
            "ad01c9fa49ee4d9db1ab2a582909023c",
            "195d39bf9c964bdab189f74949a0ecd9",
            "f99969928ae04f63ab0776079143fd38"
          ]
        },
        "outputId": "d44a582e-7ab9-4b07-9a6a-07cc6e68404d"
      },
      "source": [
        "detail_projects = []\n",
        "wd.get(\"https://www.tripadvisor.it/Restaurants-g187849-Milan_Lombardy.html\")\n",
        "wd.save_screenshot(f'screenshot.png')\n",
        "list_projects = wd.find_elements(by=By.CSS_SELECTOR, value=\"div.zdCeB.Vt.o\")\n",
        "for project in tqdm(list_projects):\n",
        "  detail_projects.append(parse_project(project))\n",
        "\n",
        "print(len(detail_projects))"
      ],
      "execution_count": null,
      "outputs": [
        {
          "output_type": "stream",
          "name": "stderr",
          "text": [
            "/usr/local/lib/python3.7/dist-packages/ipykernel_launcher.py:5: TqdmDeprecationWarning: This function will be removed in tqdm==5.0.0\n",
            "Please use `tqdm.notebook.tqdm` instead of `tqdm.tqdm_notebook`\n",
            "  \"\"\"\n"
          ]
        },
        {
          "output_type": "display_data",
          "data": {
            "text/plain": [
              "  0%|          | 0/35 [00:00<?, ?it/s]"
            ],
            "application/vnd.jupyter.widget-view+json": {
              "version_major": 2,
              "version_minor": 0,
              "model_id": "cf875a0b276b4857a26864f76e8660cf"
            },
            "application/json": {
              "n": 0,
              "total": 35,
              "elapsed": 0.0705115795135498,
              "ncols": null,
              "nrows": null,
              "prefix": "",
              "ascii": false,
              "unit": "it",
              "unit_scale": false,
              "rate": null,
              "bar_format": null,
              "postfix": null,
              "unit_divisor": 1000,
              "initial": 0,
              "colour": null
            }
          },
          "metadata": {}
        },
        {
          "output_type": "stream",
          "name": "stdout",
          "text": [
            "35\n"
          ]
        }
      ]
    },
    {
      "cell_type": "markdown",
      "metadata": {
        "id": "S9MsWLutg4Oi"
      },
      "source": [
        "### How to end scraping?\n",
        "Problem: When do we stop?\n",
        "\n",
        "There are several ways. Some simpler and some more advanced:\n",
        "- We can search inside the page for the ad number and divide it by 12\n",
        "- We can check the status of the request (if (status_code == 200):... for a list of possible http status codes please check https://en.wikipedia.org/wiki/List_of_HTTP_status_codes)\n",
        "- We can check the number of ads found (if > 0...)\n",
        "- Other more advanced techniques...\n",
        "\n",
        "For example, in our case, let's go to verify the presence, or not, of the *Snow more* button inside the page. If present, we continue scraping, otherwise we stop.\n",
        "\n",
        "Actually, we can also combine more than one of these techniques.\n",
        "\n"
      ]
    },
    {
      "cell_type": "code",
      "source": [
        "for project in list_projects:\n",
        "    url = project.find_elements(by=By.CSS_SELECTOR, value=\"a\")[0].get_attribute(\"href\")\n",
        "    recensione = \"\"\n",
        "  \n",
        "    if(len(project.find_elements(by=By.CSS_SELECTOR, value=\".Lwqic.Cj.b\")) > 0):\n",
        "      title = project.find_elements(by=By.CSS_SELECTOR, value=\".Lwqic.Cj.b\")[0].text\n",
        "    if(len(project.find_elements(by=By.CSS_SELECTOR, value=\".IiChw\")) > 0):\n",
        "      recensione = project.find_elements(by=By.CSS_SELECTOR, value=\".IiChw\")[0].text\n",
        "    restaurant_id = url\n",
        "\n",
        "    detail_projects.append({'url': url,\n",
        "                            'title': title,\n",
        "                            'recensione': recensione,\n",
        "                            'restaurant_id': restaurant_id})"
      ],
      "metadata": {
        "id": "Ho653vGXYpRV"
      },
      "execution_count": null,
      "outputs": []
    },
    {
      "cell_type": "code",
      "source": [
        "#Estrazione dei ristoranti fino a 50 pagine\n",
        "import time\n",
        "detail_projects = []\n",
        "wd.get(\"https://www.tripadvisor.it/Restaurants-g187849-Milan_Lombardy.html\")\n",
        "time.sleep(5)\n",
        "wd.save_screenshot(\"check_browser.png\")\n",
        "for num in tqdm(range(1,50)): #50 pagine\n",
        "  list_projects = wd.find_elements(by=By.CSS_SELECTOR, value=f\"div.zdCeB.Vt.o\")\n",
        "  for project in list_projects:\n",
        "    detail_projects.append(parse_project(project))   \n",
        "  if (len(wd.find_elements(by=By.CSS_SELECTOR, value=\".nav.next.rndBtn.ui_button.primary.taLnk\")) > 0):\n",
        "    link = wd.find_elements(by=By.CSS_SELECTOR, value=\".nav.next.rndBtn.ui_button.primary.taLnk\")[0].get_attribute(\"href\")\n",
        "    wd.get(link)\n",
        "    time.sleep(2) \n",
        "  else: \n",
        "    break"
      ],
      "metadata": {
        "colab": {
          "base_uri": "https://localhost:8080/",
          "height": 91,
          "referenced_widgets": [
            "7177e2e5b98e46bdabbb4b745a740379",
            "ce9d79677cd04dbe8c9ec20bd5778314",
            "22a9713c6f3f435b84396d2ae398df79",
            "0341ac40bf3043aea1d65212638f0f83",
            "4febfee5be3e4508824a6853088d19a7",
            "22a8e062ee95439db71e240f88e85b38",
            "49898b186f7446b0b0d3a4d7e5f085b4",
            "979491b025fa46b38492adbbf957c5b2",
            "6a6606dd68b741979c24253f1aa3d323",
            "7278b7f5a33642b1881a026036821842",
            "a29bfbec87974e018169632765b59796"
          ]
        },
        "id": "TJS-icPjJbvb",
        "outputId": "e31b9bf9-493f-4881-ed4a-49466efbec5e"
      },
      "execution_count": null,
      "outputs": [
        {
          "output_type": "stream",
          "name": "stderr",
          "text": [
            "/usr/local/lib/python3.7/dist-packages/ipykernel_launcher.py:7: TqdmDeprecationWarning: This function will be removed in tqdm==5.0.0\n",
            "Please use `tqdm.notebook.tqdm` instead of `tqdm.tqdm_notebook`\n",
            "  import sys\n"
          ]
        },
        {
          "output_type": "display_data",
          "data": {
            "text/plain": [
              "  0%|          | 0/49 [00:00<?, ?it/s]"
            ],
            "application/vnd.jupyter.widget-view+json": {
              "version_major": 2,
              "version_minor": 0,
              "model_id": "7177e2e5b98e46bdabbb4b745a740379"
            },
            "application/json": {
              "n": 0,
              "total": 49,
              "elapsed": 0.04804277420043945,
              "ncols": null,
              "nrows": null,
              "prefix": "",
              "ascii": false,
              "unit": "it",
              "unit_scale": false,
              "rate": null,
              "bar_format": null,
              "postfix": null,
              "unit_divisor": 1000,
              "initial": 0,
              "colour": null
            }
          },
          "metadata": {}
        }
      ]
    },
    {
      "cell_type": "code",
      "metadata": {
        "id": "Gmq5qNHoAUk7",
        "colab": {
          "base_uri": "https://localhost:8080/"
        },
        "outputId": "41985ec0-22a4-42ca-e584-a4bef65f8a23"
      },
      "source": [
        "print(len(detail_projects))\n"
      ],
      "execution_count": null,
      "outputs": [
        {
          "output_type": "stream",
          "name": "stdout",
          "text": [
            "1811\n"
          ]
        }
      ]
    },
    {
      "cell_type": "markdown",
      "metadata": {
        "id": "TqxsicNNovfy"
      },
      "source": [
        "# Pandas and data processing\n",
        "\n",
        "**Well!**\n",
        "We're starting to see another amazing library for working with data!\n",
        "\n",
        "It's **pandas**: *Python library for data analysis*.\n",
        "\n",
        "Basically, with pandas we can manipulate a data set or a historical series in Python.\n",
        "\n",
        "For now, we start to give a couple of concepts.\n",
        "\n",
        "Pandas is based on two types of data: **Series** and **DataFrame**:\n",
        "- `Series` represents a list of data\n",
        "- `DataFrame` represent a data set in tabular format\n",
        "\n",
        "Each column of a `DataFrame` is a `Series`.\n",
        "\n",
        "We can create a `DataFrame` using the `pd.DataFrame` method by passing our dictionary as an input parameter.\n",
        "\n",
        "A `DataFrame` pandas can be easily exported in *CSV*, *Excel*, ...\n",
        "\n",
        "For more information about `Pandas` see\n",
        "\n",
        "https://pandas.pydata.org/getting_started.html\n"
      ]
    },
    {
      "cell_type": "code",
      "metadata": {
        "id": "MumFgyNypoBo",
        "colab": {
          "base_uri": "https://localhost:8080/",
          "height": 426
        },
        "outputId": "51aa1eef-7ca2-4f3f-a371-ded3fe42312a"
      },
      "source": [
        "import pandas as pd\n",
        "ds_detail_projects = pd.DataFrame(detail_projects)\n",
        "ds_detail_projects.set_index(\"restaurant_id\")\n",
        "ds_detail_projects.head()"
      ],
      "execution_count": null,
      "outputs": [
        {
          "output_type": "execute_result",
          "data": {
            "text/plain": [
              "                                                 url  \\\n",
              "0  https://www.tripadvisor.it/Restaurant_Review-g...   \n",
              "1  https://www.tripadvisor.it/Restaurant_Review-g...   \n",
              "2  https://www.tripadvisor.it/Restaurant_Review-g...   \n",
              "3  https://www.tripadvisor.it/Restaurant_Review-g...   \n",
              "4  https://www.tripadvisor.it/Restaurant_Review-g...   \n",
              "\n",
              "                                    title      recensione  \\\n",
              "0                    South Garage Bistrot    9 recensioni   \n",
              "1                        1. Parea Bistrot   72 recensioni   \n",
              "2                   2. Mabuhay Restaurant  758 recensioni   \n",
              "3             3. Marea Seafood & Beverage  214 recensioni   \n",
              "4  4. BLUE M Milano - Bottega Marchigiana  109 recensioni   \n",
              "\n",
              "                                       restaurant_id  \n",
              "0  https://www.tripadvisor.it/Restaurant_Review-g...  \n",
              "1  https://www.tripadvisor.it/Restaurant_Review-g...  \n",
              "2  https://www.tripadvisor.it/Restaurant_Review-g...  \n",
              "3  https://www.tripadvisor.it/Restaurant_Review-g...  \n",
              "4  https://www.tripadvisor.it/Restaurant_Review-g...  "
            ],
            "text/html": [
              "\n",
              "  <div id=\"df-877c4aad-6654-4d6c-9f7b-79849e536e4d\">\n",
              "    <div class=\"colab-df-container\">\n",
              "      <div>\n",
              "<style scoped>\n",
              "    .dataframe tbody tr th:only-of-type {\n",
              "        vertical-align: middle;\n",
              "    }\n",
              "\n",
              "    .dataframe tbody tr th {\n",
              "        vertical-align: top;\n",
              "    }\n",
              "\n",
              "    .dataframe thead th {\n",
              "        text-align: right;\n",
              "    }\n",
              "</style>\n",
              "<table border=\"1\" class=\"dataframe\">\n",
              "  <thead>\n",
              "    <tr style=\"text-align: right;\">\n",
              "      <th></th>\n",
              "      <th>url</th>\n",
              "      <th>title</th>\n",
              "      <th>recensione</th>\n",
              "      <th>restaurant_id</th>\n",
              "    </tr>\n",
              "  </thead>\n",
              "  <tbody>\n",
              "    <tr>\n",
              "      <th>0</th>\n",
              "      <td>https://www.tripadvisor.it/Restaurant_Review-g...</td>\n",
              "      <td>South Garage Bistrot</td>\n",
              "      <td>9 recensioni</td>\n",
              "      <td>https://www.tripadvisor.it/Restaurant_Review-g...</td>\n",
              "    </tr>\n",
              "    <tr>\n",
              "      <th>1</th>\n",
              "      <td>https://www.tripadvisor.it/Restaurant_Review-g...</td>\n",
              "      <td>1. Parea Bistrot</td>\n",
              "      <td>72 recensioni</td>\n",
              "      <td>https://www.tripadvisor.it/Restaurant_Review-g...</td>\n",
              "    </tr>\n",
              "    <tr>\n",
              "      <th>2</th>\n",
              "      <td>https://www.tripadvisor.it/Restaurant_Review-g...</td>\n",
              "      <td>2. Mabuhay Restaurant</td>\n",
              "      <td>758 recensioni</td>\n",
              "      <td>https://www.tripadvisor.it/Restaurant_Review-g...</td>\n",
              "    </tr>\n",
              "    <tr>\n",
              "      <th>3</th>\n",
              "      <td>https://www.tripadvisor.it/Restaurant_Review-g...</td>\n",
              "      <td>3. Marea Seafood &amp; Beverage</td>\n",
              "      <td>214 recensioni</td>\n",
              "      <td>https://www.tripadvisor.it/Restaurant_Review-g...</td>\n",
              "    </tr>\n",
              "    <tr>\n",
              "      <th>4</th>\n",
              "      <td>https://www.tripadvisor.it/Restaurant_Review-g...</td>\n",
              "      <td>4. BLUE M Milano - Bottega Marchigiana</td>\n",
              "      <td>109 recensioni</td>\n",
              "      <td>https://www.tripadvisor.it/Restaurant_Review-g...</td>\n",
              "    </tr>\n",
              "  </tbody>\n",
              "</table>\n",
              "</div>\n",
              "      <button class=\"colab-df-convert\" onclick=\"convertToInteractive('df-877c4aad-6654-4d6c-9f7b-79849e536e4d')\"\n",
              "              title=\"Convert this dataframe to an interactive table.\"\n",
              "              style=\"display:none;\">\n",
              "        \n",
              "  <svg xmlns=\"http://www.w3.org/2000/svg\" height=\"24px\"viewBox=\"0 0 24 24\"\n",
              "       width=\"24px\">\n",
              "    <path d=\"M0 0h24v24H0V0z\" fill=\"none\"/>\n",
              "    <path d=\"M18.56 5.44l.94 2.06.94-2.06 2.06-.94-2.06-.94-.94-2.06-.94 2.06-2.06.94zm-11 1L8.5 8.5l.94-2.06 2.06-.94-2.06-.94L8.5 2.5l-.94 2.06-2.06.94zm10 10l.94 2.06.94-2.06 2.06-.94-2.06-.94-.94-2.06-.94 2.06-2.06.94z\"/><path d=\"M17.41 7.96l-1.37-1.37c-.4-.4-.92-.59-1.43-.59-.52 0-1.04.2-1.43.59L10.3 9.45l-7.72 7.72c-.78.78-.78 2.05 0 2.83L4 21.41c.39.39.9.59 1.41.59.51 0 1.02-.2 1.41-.59l7.78-7.78 2.81-2.81c.8-.78.8-2.07 0-2.86zM5.41 20L4 18.59l7.72-7.72 1.47 1.35L5.41 20z\"/>\n",
              "  </svg>\n",
              "      </button>\n",
              "      \n",
              "  <style>\n",
              "    .colab-df-container {\n",
              "      display:flex;\n",
              "      flex-wrap:wrap;\n",
              "      gap: 12px;\n",
              "    }\n",
              "\n",
              "    .colab-df-convert {\n",
              "      background-color: #E8F0FE;\n",
              "      border: none;\n",
              "      border-radius: 50%;\n",
              "      cursor: pointer;\n",
              "      display: none;\n",
              "      fill: #1967D2;\n",
              "      height: 32px;\n",
              "      padding: 0 0 0 0;\n",
              "      width: 32px;\n",
              "    }\n",
              "\n",
              "    .colab-df-convert:hover {\n",
              "      background-color: #E2EBFA;\n",
              "      box-shadow: 0px 1px 2px rgba(60, 64, 67, 0.3), 0px 1px 3px 1px rgba(60, 64, 67, 0.15);\n",
              "      fill: #174EA6;\n",
              "    }\n",
              "\n",
              "    [theme=dark] .colab-df-convert {\n",
              "      background-color: #3B4455;\n",
              "      fill: #D2E3FC;\n",
              "    }\n",
              "\n",
              "    [theme=dark] .colab-df-convert:hover {\n",
              "      background-color: #434B5C;\n",
              "      box-shadow: 0px 1px 3px 1px rgba(0, 0, 0, 0.15);\n",
              "      filter: drop-shadow(0px 1px 2px rgba(0, 0, 0, 0.3));\n",
              "      fill: #FFFFFF;\n",
              "    }\n",
              "  </style>\n",
              "\n",
              "      <script>\n",
              "        const buttonEl =\n",
              "          document.querySelector('#df-877c4aad-6654-4d6c-9f7b-79849e536e4d button.colab-df-convert');\n",
              "        buttonEl.style.display =\n",
              "          google.colab.kernel.accessAllowed ? 'block' : 'none';\n",
              "\n",
              "        async function convertToInteractive(key) {\n",
              "          const element = document.querySelector('#df-877c4aad-6654-4d6c-9f7b-79849e536e4d');\n",
              "          const dataTable =\n",
              "            await google.colab.kernel.invokeFunction('convertToInteractive',\n",
              "                                                     [key], {});\n",
              "          if (!dataTable) return;\n",
              "\n",
              "          const docLinkHtml = 'Like what you see? Visit the ' +\n",
              "            '<a target=\"_blank\" href=https://colab.research.google.com/notebooks/data_table.ipynb>data table notebook</a>'\n",
              "            + ' to learn more about interactive tables.';\n",
              "          element.innerHTML = '';\n",
              "          dataTable['output_type'] = 'display_data';\n",
              "          await google.colab.output.renderOutput(dataTable, element);\n",
              "          const docLink = document.createElement('div');\n",
              "          docLink.innerHTML = docLinkHtml;\n",
              "          element.appendChild(docLink);\n",
              "        }\n",
              "      </script>\n",
              "    </div>\n",
              "  </div>\n",
              "  "
            ]
          },
          "metadata": {},
          "execution_count": 15
        }
      ]
    },
    {
      "cell_type": "markdown",
      "metadata": {
        "id": "GwW7Sj7irFDT"
      },
      "source": [
        "The `.info()` method provides an indication of the structure and data of the `DataFrame`."
      ]
    },
    {
      "cell_type": "code",
      "metadata": {
        "id": "_tFbyPwcrNY4",
        "colab": {
          "base_uri": "https://localhost:8080/"
        },
        "outputId": "94941ab2-a54d-4e8d-e261-43ce37c56378"
      },
      "source": [
        "ds_detail_projects.info()"
      ],
      "execution_count": null,
      "outputs": [
        {
          "output_type": "stream",
          "name": "stdout",
          "text": [
            "<class 'pandas.core.frame.DataFrame'>\n",
            "RangeIndex: 147 entries, 0 to 146\n",
            "Data columns (total 4 columns):\n",
            " #   Column         Non-Null Count  Dtype \n",
            "---  ------         --------------  ----- \n",
            " 0   url            147 non-null    object\n",
            " 1   title          147 non-null    object\n",
            " 2   recensione     147 non-null    object\n",
            " 3   restaurant_id  147 non-null    object\n",
            "dtypes: object(4)\n",
            "memory usage: 4.7+ KB\n"
          ]
        }
      ]
    },
    {
      "cell_type": "code",
      "metadata": {
        "id": "3lUw4-_BrQDh"
      },
      "source": [
        "ds_detail_projects.to_csv('ds_projectstriptestfinal.csv')"
      ],
      "execution_count": null,
      "outputs": []
    },
    {
      "cell_type": "markdown",
      "metadata": {
        "id": "AXdgP8t3q_A-"
      },
      "source": [
        "# Tripadvisor Restaurant pages ###\n",
        "\n",
        "Now, the goal is to navigate and download the details of each restaurant.\n",
        "\n",
        "**Pandas** provides the *.read_csv* method that allows you to upload in CSV format files within a DataFrame."
      ]
    },
    {
      "cell_type": "code",
      "metadata": {
        "id": "yVnUyfGsvcac",
        "colab": {
          "base_uri": "https://localhost:8080/",
          "height": 527
        },
        "outputId": "0dfa4041-d091-4bc7-a2d8-d8ff55699ef5"
      },
      "source": [
        "# open csv file\n",
        "import pandas as pd\n",
        "ds_detail_projects = pd.read_csv(\"ds_projectstriptestfinal.csv\", index_col=\"restaurant_id\")\n",
        "ds_detail_projects.head()"
      ],
      "execution_count": null,
      "outputs": [
        {
          "output_type": "execute_result",
          "data": {
            "text/plain": [
              "                                                    Unnamed: 0  \\\n",
              "restaurant_id                                                    \n",
              "https://www.tripadvisor.it/Restaurant_Review-g1...           0   \n",
              "https://www.tripadvisor.it/Restaurant_Review-g1...           1   \n",
              "https://www.tripadvisor.it/Restaurant_Review-g1...           2   \n",
              "https://www.tripadvisor.it/Restaurant_Review-g1...           3   \n",
              "https://www.tripadvisor.it/Restaurant_Review-g1...           4   \n",
              "\n",
              "                                                                                                  url  \\\n",
              "restaurant_id                                                                                           \n",
              "https://www.tripadvisor.it/Restaurant_Review-g1...  https://www.tripadvisor.it/Restaurant_Review-g...   \n",
              "https://www.tripadvisor.it/Restaurant_Review-g1...  https://www.tripadvisor.it/Restaurant_Review-g...   \n",
              "https://www.tripadvisor.it/Restaurant_Review-g1...  https://www.tripadvisor.it/Restaurant_Review-g...   \n",
              "https://www.tripadvisor.it/Restaurant_Review-g1...  https://www.tripadvisor.it/Restaurant_Review-g...   \n",
              "https://www.tripadvisor.it/Restaurant_Review-g1...  https://www.tripadvisor.it/Restaurant_Review-g...   \n",
              "\n",
              "                                                                                     title  \\\n",
              "restaurant_id                                                                                \n",
              "https://www.tripadvisor.it/Restaurant_Review-g1...                    South Garage Bistrot   \n",
              "https://www.tripadvisor.it/Restaurant_Review-g1...                        1. Parea Bistrot   \n",
              "https://www.tripadvisor.it/Restaurant_Review-g1...                   2. Mabuhay Restaurant   \n",
              "https://www.tripadvisor.it/Restaurant_Review-g1...             3. Marea Seafood & Beverage   \n",
              "https://www.tripadvisor.it/Restaurant_Review-g1...  4. BLUE M Milano - Bottega Marchigiana   \n",
              "\n",
              "                                                        recensione  \n",
              "restaurant_id                                                       \n",
              "https://www.tripadvisor.it/Restaurant_Review-g1...    9 recensioni  \n",
              "https://www.tripadvisor.it/Restaurant_Review-g1...   72 recensioni  \n",
              "https://www.tripadvisor.it/Restaurant_Review-g1...  758 recensioni  \n",
              "https://www.tripadvisor.it/Restaurant_Review-g1...  214 recensioni  \n",
              "https://www.tripadvisor.it/Restaurant_Review-g1...  109 recensioni  "
            ],
            "text/html": [
              "\n",
              "  <div id=\"df-e73f008a-cc19-4ee5-abcf-5d8c816ab0c9\">\n",
              "    <div class=\"colab-df-container\">\n",
              "      <div>\n",
              "<style scoped>\n",
              "    .dataframe tbody tr th:only-of-type {\n",
              "        vertical-align: middle;\n",
              "    }\n",
              "\n",
              "    .dataframe tbody tr th {\n",
              "        vertical-align: top;\n",
              "    }\n",
              "\n",
              "    .dataframe thead th {\n",
              "        text-align: right;\n",
              "    }\n",
              "</style>\n",
              "<table border=\"1\" class=\"dataframe\">\n",
              "  <thead>\n",
              "    <tr style=\"text-align: right;\">\n",
              "      <th></th>\n",
              "      <th>Unnamed: 0</th>\n",
              "      <th>url</th>\n",
              "      <th>title</th>\n",
              "      <th>recensione</th>\n",
              "    </tr>\n",
              "    <tr>\n",
              "      <th>restaurant_id</th>\n",
              "      <th></th>\n",
              "      <th></th>\n",
              "      <th></th>\n",
              "      <th></th>\n",
              "    </tr>\n",
              "  </thead>\n",
              "  <tbody>\n",
              "    <tr>\n",
              "      <th>https://www.tripadvisor.it/Restaurant_Review-g187849-d23699716-Reviews-South_Garage_Bistrot-Milan_Lombardy.html</th>\n",
              "      <td>0</td>\n",
              "      <td>https://www.tripadvisor.it/Restaurant_Review-g...</td>\n",
              "      <td>South Garage Bistrot</td>\n",
              "      <td>9 recensioni</td>\n",
              "    </tr>\n",
              "    <tr>\n",
              "      <th>https://www.tripadvisor.it/Restaurant_Review-g187849-d24167962-Reviews-Parea_Bistrot-Milan_Lombardy.html</th>\n",
              "      <td>1</td>\n",
              "      <td>https://www.tripadvisor.it/Restaurant_Review-g...</td>\n",
              "      <td>1. Parea Bistrot</td>\n",
              "      <td>72 recensioni</td>\n",
              "    </tr>\n",
              "    <tr>\n",
              "      <th>https://www.tripadvisor.it/Restaurant_Review-g187849-d17805000-Reviews-Mabuhay_Restaurant-Milan_Lombardy.html</th>\n",
              "      <td>2</td>\n",
              "      <td>https://www.tripadvisor.it/Restaurant_Review-g...</td>\n",
              "      <td>2. Mabuhay Restaurant</td>\n",
              "      <td>758 recensioni</td>\n",
              "    </tr>\n",
              "    <tr>\n",
              "      <th>https://www.tripadvisor.it/Restaurant_Review-g187849-d23650099-Reviews-Marea_Seafood_Beverage-Milan_Lombardy.html</th>\n",
              "      <td>3</td>\n",
              "      <td>https://www.tripadvisor.it/Restaurant_Review-g...</td>\n",
              "      <td>3. Marea Seafood &amp; Beverage</td>\n",
              "      <td>214 recensioni</td>\n",
              "    </tr>\n",
              "    <tr>\n",
              "      <th>https://www.tripadvisor.it/Restaurant_Review-g187849-d15831930-Reviews-BLUE_M_Milano_Bottega_Marchigiana-Milan_Lombardy.html</th>\n",
              "      <td>4</td>\n",
              "      <td>https://www.tripadvisor.it/Restaurant_Review-g...</td>\n",
              "      <td>4. BLUE M Milano - Bottega Marchigiana</td>\n",
              "      <td>109 recensioni</td>\n",
              "    </tr>\n",
              "  </tbody>\n",
              "</table>\n",
              "</div>\n",
              "      <button class=\"colab-df-convert\" onclick=\"convertToInteractive('df-e73f008a-cc19-4ee5-abcf-5d8c816ab0c9')\"\n",
              "              title=\"Convert this dataframe to an interactive table.\"\n",
              "              style=\"display:none;\">\n",
              "        \n",
              "  <svg xmlns=\"http://www.w3.org/2000/svg\" height=\"24px\"viewBox=\"0 0 24 24\"\n",
              "       width=\"24px\">\n",
              "    <path d=\"M0 0h24v24H0V0z\" fill=\"none\"/>\n",
              "    <path d=\"M18.56 5.44l.94 2.06.94-2.06 2.06-.94-2.06-.94-.94-2.06-.94 2.06-2.06.94zm-11 1L8.5 8.5l.94-2.06 2.06-.94-2.06-.94L8.5 2.5l-.94 2.06-2.06.94zm10 10l.94 2.06.94-2.06 2.06-.94-2.06-.94-.94-2.06-.94 2.06-2.06.94z\"/><path d=\"M17.41 7.96l-1.37-1.37c-.4-.4-.92-.59-1.43-.59-.52 0-1.04.2-1.43.59L10.3 9.45l-7.72 7.72c-.78.78-.78 2.05 0 2.83L4 21.41c.39.39.9.59 1.41.59.51 0 1.02-.2 1.41-.59l7.78-7.78 2.81-2.81c.8-.78.8-2.07 0-2.86zM5.41 20L4 18.59l7.72-7.72 1.47 1.35L5.41 20z\"/>\n",
              "  </svg>\n",
              "      </button>\n",
              "      \n",
              "  <style>\n",
              "    .colab-df-container {\n",
              "      display:flex;\n",
              "      flex-wrap:wrap;\n",
              "      gap: 12px;\n",
              "    }\n",
              "\n",
              "    .colab-df-convert {\n",
              "      background-color: #E8F0FE;\n",
              "      border: none;\n",
              "      border-radius: 50%;\n",
              "      cursor: pointer;\n",
              "      display: none;\n",
              "      fill: #1967D2;\n",
              "      height: 32px;\n",
              "      padding: 0 0 0 0;\n",
              "      width: 32px;\n",
              "    }\n",
              "\n",
              "    .colab-df-convert:hover {\n",
              "      background-color: #E2EBFA;\n",
              "      box-shadow: 0px 1px 2px rgba(60, 64, 67, 0.3), 0px 1px 3px 1px rgba(60, 64, 67, 0.15);\n",
              "      fill: #174EA6;\n",
              "    }\n",
              "\n",
              "    [theme=dark] .colab-df-convert {\n",
              "      background-color: #3B4455;\n",
              "      fill: #D2E3FC;\n",
              "    }\n",
              "\n",
              "    [theme=dark] .colab-df-convert:hover {\n",
              "      background-color: #434B5C;\n",
              "      box-shadow: 0px 1px 3px 1px rgba(0, 0, 0, 0.15);\n",
              "      filter: drop-shadow(0px 1px 2px rgba(0, 0, 0, 0.3));\n",
              "      fill: #FFFFFF;\n",
              "    }\n",
              "  </style>\n",
              "\n",
              "      <script>\n",
              "        const buttonEl =\n",
              "          document.querySelector('#df-e73f008a-cc19-4ee5-abcf-5d8c816ab0c9 button.colab-df-convert');\n",
              "        buttonEl.style.display =\n",
              "          google.colab.kernel.accessAllowed ? 'block' : 'none';\n",
              "\n",
              "        async function convertToInteractive(key) {\n",
              "          const element = document.querySelector('#df-e73f008a-cc19-4ee5-abcf-5d8c816ab0c9');\n",
              "          const dataTable =\n",
              "            await google.colab.kernel.invokeFunction('convertToInteractive',\n",
              "                                                     [key], {});\n",
              "          if (!dataTable) return;\n",
              "\n",
              "          const docLinkHtml = 'Like what you see? Visit the ' +\n",
              "            '<a target=\"_blank\" href=https://colab.research.google.com/notebooks/data_table.ipynb>data table notebook</a>'\n",
              "            + ' to learn more about interactive tables.';\n",
              "          element.innerHTML = '';\n",
              "          dataTable['output_type'] = 'display_data';\n",
              "          await google.colab.output.renderOutput(dataTable, element);\n",
              "          const docLink = document.createElement('div');\n",
              "          docLink.innerHTML = docLinkHtml;\n",
              "          element.appendChild(docLink);\n",
              "        }\n",
              "      </script>\n",
              "    </div>\n",
              "  </div>\n",
              "  "
            ]
          },
          "metadata": {},
          "execution_count": 17
        }
      ]
    },
    {
      "cell_type": "markdown",
      "metadata": {
        "id": "8VaXQ52Kv2am"
      },
      "source": [
        "***For each project we go to the link... how do you think we do it?***\n",
        "\n",
        "Let's try the first 5 projects.\n",
        "\n",
        "\n",
        "\n",
        "These days most of the web apps are using AJAX techniques. When a page is loaded by the browser, the elements within that page may load at different time intervals. Using waits, we can stop our scraping and wait the loading of a element.\n",
        "\n",
        "Selenium Webdriver provides two types of waits - implicit & explicit. An explicit wait makes WebDriver wait for a certain condition to occur before proceeding further with execution. An implicit wait makes WebDriver poll the DOM for a certain amount of time when trying to locate an element.\n"
      ]
    },
    {
      "cell_type": "code",
      "metadata": {
        "id": "xf7bDTWTxLlf",
        "colab": {
          "base_uri": "https://localhost:8080/",
          "height": 381,
          "referenced_widgets": [
            "9ba3e25c919e401f8ef0ed4818822a2f",
            "73fc3a1d5a934841a803d9551755776e",
            "dbcedb1c312a46d7bcc53b3a29fed022",
            "12455d8138914695897d7d9446fb3432",
            "936738c37d2543589d02d0369f132f1a",
            "0569787132a74bf09b5f3506dbd4bc60",
            "a61c6a82391d4601a044454514fa4d89",
            "6040fb50edee40b0ad1f0e78a681601c",
            "0752097c258c442685ec97a8a74409a3",
            "b51957be47a94e09b5e00d0020b54fc0",
            "859eb63880f04195a0e96d2cfad49abd"
          ]
        },
        "outputId": "555ffcb2-1cb9-451f-b1e8-53b190b19038"
      },
      "source": [
        "#Informazioni pagina di dettaglio\n",
        "from selenium.webdriver.common.by import By\n",
        "from selenium.webdriver.support.ui import WebDriverWait\n",
        "from selenium.webdriver.support import expected_conditions as EC\n",
        "import time\n",
        "details = []\n",
        "ds_detail_projects = ds_detail_projects.head(n = 1811)\n",
        "for restaurant_id, project in tqdm(ds_detail_projects.iterrows(), total=ds_detail_projects.shape[0]):\n",
        "    time.sleep(1)\n",
        "    link = project[\"url\"]\n",
        "    indirizzo = \"\"\n",
        "    valutazione = \"\"\n",
        "    fascia_prezzo = \"\"\n",
        "    #print(link)\n",
        "    try:\n",
        "      wd.set_window_size(1920, 1080)\n",
        "      wd.get(link)\n",
        "      indirizzo = wd.find_elements(by=By.CSS_SELECTOR, value=\"span.yEWoV\")[0].text\n",
        "      valutazione = wd.find_elements(by=By.CSS_SELECTOR, value=\"span.ZDEqb\")[0].text\n",
        "      fascia_prezzo = wd.find_elements(by=By.CSS_SELECTOR, value=\"div.SrqKb\")[0].text\n",
        "      \n",
        "    except Exception as e:\n",
        "      print(e)\n",
        "    details.append({'restaurant_id': restaurant_id,\n",
        "                    'indirizzo': indirizzo,\n",
        "                    'valutazione': valutazione,\n",
        "                    'fascia_prezzo': fascia_prezzo})\n",
        "  \n",
        "\n"
      ],
      "execution_count": null,
      "outputs": [
        {
          "output_type": "stream",
          "name": "stderr",
          "text": [
            "/usr/local/lib/python3.7/dist-packages/ipykernel_launcher.py:7: TqdmDeprecationWarning: This function will be removed in tqdm==5.0.0\n",
            "Please use `tqdm.notebook.tqdm` instead of `tqdm.tqdm_notebook`\n",
            "  import sys\n"
          ]
        },
        {
          "output_type": "display_data",
          "data": {
            "text/plain": [
              "  0%|          | 0/1811 [00:00<?, ?it/s]"
            ],
            "application/vnd.jupyter.widget-view+json": {
              "version_major": 2,
              "version_minor": 0,
              "model_id": "9ba3e25c919e401f8ef0ed4818822a2f"
            },
            "application/json": {
              "n": 0,
              "total": 1811,
              "elapsed": 0.05120730400085449,
              "ncols": null,
              "nrows": null,
              "prefix": "",
              "ascii": false,
              "unit": "it",
              "unit_scale": false,
              "rate": null,
              "bar_format": null,
              "postfix": null,
              "unit_divisor": 1000,
              "initial": 0,
              "colour": null
            }
          },
          "metadata": {}
        },
        {
          "output_type": "stream",
          "name": "stdout",
          "text": [
            "list index out of range\n",
            "list index out of range\n",
            "list index out of range\n",
            "list index out of range\n",
            "list index out of range\n",
            "list index out of range\n",
            "list index out of range\n",
            "list index out of range\n",
            "list index out of range\n",
            "list index out of range\n",
            "list index out of range\n",
            "list index out of range\n",
            "list index out of range\n",
            "list index out of range\n",
            "list index out of range\n",
            "list index out of range\n"
          ]
        }
      ]
    },
    {
      "cell_type": "code",
      "metadata": {
        "id": "nmOdNznWXKtj",
        "colab": {
          "base_uri": "https://localhost:8080/"
        },
        "outputId": "5677e7e5-2d84-4977-a803-a5fa41ca3da3"
      },
      "source": [
        "print(len(details))\n",
        "pprint.pprint(details[0:4])"
      ],
      "execution_count": null,
      "outputs": [
        {
          "output_type": "stream",
          "name": "stdout",
          "text": [
            "1811\n",
            "[{'fascia_prezzo': '20 USD - 70 USD',\n",
            "  'indirizzo': 'Via Eugenio Brizi 4, 20139 Milano Italia',\n",
            "  'restaurant_id': 'https://www.tripadvisor.it/Restaurant_Review-g187849-d23699716-Reviews-South_Garage_Bistrot-Milan_Lombardy.html',\n",
            "  'valutazione': '4,5 '},\n",
            " {'fascia_prezzo': 'Colazione, Pranzo, Cena',\n",
            "  'indirizzo': 'Via Vigna 6, 20123 Milano Italia',\n",
            "  'restaurant_id': 'https://www.tripadvisor.it/Restaurant_Review-g187849-d24167962-Reviews-Parea_Bistrot-Milan_Lombardy.html',\n",
            "  'valutazione': '5,0 '},\n",
            " {'fascia_prezzo': '2 USD - 13 USD',\n",
            "  'indirizzo': 'Bastioni di Porta Volta 9, 20121 Milano Italia',\n",
            "  'restaurant_id': 'https://www.tripadvisor.it/Restaurant_Review-g187849-d17805000-Reviews-Mabuhay_Restaurant-Milan_Lombardy.html',\n",
            "  'valutazione': '5,0 '},\n",
            " {'fascia_prezzo': 'Italiana, Pesce, Contemporanea, Mediterranea, Salutistica, '\n",
            "                   'Ristoranti con bar',\n",
            "  'indirizzo': 'Via Papa Gregorio XIV, 16, 20123 Milano Italia',\n",
            "  'restaurant_id': 'https://www.tripadvisor.it/Restaurant_Review-g187849-d23650099-Reviews-Marea_Seafood_Beverage-Milan_Lombardy.html',\n",
            "  'valutazione': '5,0 '}]\n"
          ]
        }
      ]
    },
    {
      "cell_type": "markdown",
      "metadata": {
        "id": "fcfGcK4O4R2-"
      },
      "source": [
        "Store the data with *pandas*"
      ]
    },
    {
      "cell_type": "code",
      "metadata": {
        "id": "4xik7JIr4J-n",
        "colab": {
          "base_uri": "https://localhost:8080/",
          "height": 372
        },
        "outputId": "b0753e50-81c2-408c-cb83-f7f94e945f7e"
      },
      "source": [
        "import pandas as pd\n",
        "ds_details = pd.DataFrame(details)\n",
        "ds_details.set_index(\"restaurant_id\")\n",
        "ds_details.head()"
      ],
      "execution_count": null,
      "outputs": [
        {
          "output_type": "execute_result",
          "data": {
            "text/plain": [
              "                                       restaurant_id  \\\n",
              "0  https://www.tripadvisor.it/Restaurant_Review-g...   \n",
              "1  https://www.tripadvisor.it/Restaurant_Review-g...   \n",
              "2  https://www.tripadvisor.it/Restaurant_Review-g...   \n",
              "3  https://www.tripadvisor.it/Restaurant_Review-g...   \n",
              "4  https://www.tripadvisor.it/Restaurant_Review-g...   \n",
              "\n",
              "                                           indirizzo valutazione  \\\n",
              "0           Via Eugenio Brizi 4, 20139 Milano Italia        4,5    \n",
              "1                   Via Vigna 6, 20123 Milano Italia        5,0    \n",
              "2     Bastioni di Porta Volta 9, 20121 Milano Italia        5,0    \n",
              "3     Via Papa Gregorio XIV, 16, 20123 Milano Italia        5,0    \n",
              "4  Via Lanzone 27 Sant'Ambrogio - Università Catt...        5,0    \n",
              "\n",
              "                                       fascia_prezzo  \n",
              "0                                    20 USD - 70 USD  \n",
              "1                            Colazione, Pranzo, Cena  \n",
              "2                                     2 USD - 13 USD  \n",
              "3  Italiana, Pesce, Contemporanea, Mediterranea, ...  \n",
              "4                                    10 USD - 40 USD  "
            ],
            "text/html": [
              "\n",
              "  <div id=\"df-61b3b09d-2b87-4e6e-a9c9-266514c4b45a\">\n",
              "    <div class=\"colab-df-container\">\n",
              "      <div>\n",
              "<style scoped>\n",
              "    .dataframe tbody tr th:only-of-type {\n",
              "        vertical-align: middle;\n",
              "    }\n",
              "\n",
              "    .dataframe tbody tr th {\n",
              "        vertical-align: top;\n",
              "    }\n",
              "\n",
              "    .dataframe thead th {\n",
              "        text-align: right;\n",
              "    }\n",
              "</style>\n",
              "<table border=\"1\" class=\"dataframe\">\n",
              "  <thead>\n",
              "    <tr style=\"text-align: right;\">\n",
              "      <th></th>\n",
              "      <th>restaurant_id</th>\n",
              "      <th>indirizzo</th>\n",
              "      <th>valutazione</th>\n",
              "      <th>fascia_prezzo</th>\n",
              "    </tr>\n",
              "  </thead>\n",
              "  <tbody>\n",
              "    <tr>\n",
              "      <th>0</th>\n",
              "      <td>https://www.tripadvisor.it/Restaurant_Review-g...</td>\n",
              "      <td>Via Eugenio Brizi 4, 20139 Milano Italia</td>\n",
              "      <td>4,5</td>\n",
              "      <td>20 USD - 70 USD</td>\n",
              "    </tr>\n",
              "    <tr>\n",
              "      <th>1</th>\n",
              "      <td>https://www.tripadvisor.it/Restaurant_Review-g...</td>\n",
              "      <td>Via Vigna 6, 20123 Milano Italia</td>\n",
              "      <td>5,0</td>\n",
              "      <td>Colazione, Pranzo, Cena</td>\n",
              "    </tr>\n",
              "    <tr>\n",
              "      <th>2</th>\n",
              "      <td>https://www.tripadvisor.it/Restaurant_Review-g...</td>\n",
              "      <td>Bastioni di Porta Volta 9, 20121 Milano Italia</td>\n",
              "      <td>5,0</td>\n",
              "      <td>2 USD - 13 USD</td>\n",
              "    </tr>\n",
              "    <tr>\n",
              "      <th>3</th>\n",
              "      <td>https://www.tripadvisor.it/Restaurant_Review-g...</td>\n",
              "      <td>Via Papa Gregorio XIV, 16, 20123 Milano Italia</td>\n",
              "      <td>5,0</td>\n",
              "      <td>Italiana, Pesce, Contemporanea, Mediterranea, ...</td>\n",
              "    </tr>\n",
              "    <tr>\n",
              "      <th>4</th>\n",
              "      <td>https://www.tripadvisor.it/Restaurant_Review-g...</td>\n",
              "      <td>Via Lanzone 27 Sant'Ambrogio - Università Catt...</td>\n",
              "      <td>5,0</td>\n",
              "      <td>10 USD - 40 USD</td>\n",
              "    </tr>\n",
              "  </tbody>\n",
              "</table>\n",
              "</div>\n",
              "      <button class=\"colab-df-convert\" onclick=\"convertToInteractive('df-61b3b09d-2b87-4e6e-a9c9-266514c4b45a')\"\n",
              "              title=\"Convert this dataframe to an interactive table.\"\n",
              "              style=\"display:none;\">\n",
              "        \n",
              "  <svg xmlns=\"http://www.w3.org/2000/svg\" height=\"24px\"viewBox=\"0 0 24 24\"\n",
              "       width=\"24px\">\n",
              "    <path d=\"M0 0h24v24H0V0z\" fill=\"none\"/>\n",
              "    <path d=\"M18.56 5.44l.94 2.06.94-2.06 2.06-.94-2.06-.94-.94-2.06-.94 2.06-2.06.94zm-11 1L8.5 8.5l.94-2.06 2.06-.94-2.06-.94L8.5 2.5l-.94 2.06-2.06.94zm10 10l.94 2.06.94-2.06 2.06-.94-2.06-.94-.94-2.06-.94 2.06-2.06.94z\"/><path d=\"M17.41 7.96l-1.37-1.37c-.4-.4-.92-.59-1.43-.59-.52 0-1.04.2-1.43.59L10.3 9.45l-7.72 7.72c-.78.78-.78 2.05 0 2.83L4 21.41c.39.39.9.59 1.41.59.51 0 1.02-.2 1.41-.59l7.78-7.78 2.81-2.81c.8-.78.8-2.07 0-2.86zM5.41 20L4 18.59l7.72-7.72 1.47 1.35L5.41 20z\"/>\n",
              "  </svg>\n",
              "      </button>\n",
              "      \n",
              "  <style>\n",
              "    .colab-df-container {\n",
              "      display:flex;\n",
              "      flex-wrap:wrap;\n",
              "      gap: 12px;\n",
              "    }\n",
              "\n",
              "    .colab-df-convert {\n",
              "      background-color: #E8F0FE;\n",
              "      border: none;\n",
              "      border-radius: 50%;\n",
              "      cursor: pointer;\n",
              "      display: none;\n",
              "      fill: #1967D2;\n",
              "      height: 32px;\n",
              "      padding: 0 0 0 0;\n",
              "      width: 32px;\n",
              "    }\n",
              "\n",
              "    .colab-df-convert:hover {\n",
              "      background-color: #E2EBFA;\n",
              "      box-shadow: 0px 1px 2px rgba(60, 64, 67, 0.3), 0px 1px 3px 1px rgba(60, 64, 67, 0.15);\n",
              "      fill: #174EA6;\n",
              "    }\n",
              "\n",
              "    [theme=dark] .colab-df-convert {\n",
              "      background-color: #3B4455;\n",
              "      fill: #D2E3FC;\n",
              "    }\n",
              "\n",
              "    [theme=dark] .colab-df-convert:hover {\n",
              "      background-color: #434B5C;\n",
              "      box-shadow: 0px 1px 3px 1px rgba(0, 0, 0, 0.15);\n",
              "      filter: drop-shadow(0px 1px 2px rgba(0, 0, 0, 0.3));\n",
              "      fill: #FFFFFF;\n",
              "    }\n",
              "  </style>\n",
              "\n",
              "      <script>\n",
              "        const buttonEl =\n",
              "          document.querySelector('#df-61b3b09d-2b87-4e6e-a9c9-266514c4b45a button.colab-df-convert');\n",
              "        buttonEl.style.display =\n",
              "          google.colab.kernel.accessAllowed ? 'block' : 'none';\n",
              "\n",
              "        async function convertToInteractive(key) {\n",
              "          const element = document.querySelector('#df-61b3b09d-2b87-4e6e-a9c9-266514c4b45a');\n",
              "          const dataTable =\n",
              "            await google.colab.kernel.invokeFunction('convertToInteractive',\n",
              "                                                     [key], {});\n",
              "          if (!dataTable) return;\n",
              "\n",
              "          const docLinkHtml = 'Like what you see? Visit the ' +\n",
              "            '<a target=\"_blank\" href=https://colab.research.google.com/notebooks/data_table.ipynb>data table notebook</a>'\n",
              "            + ' to learn more about interactive tables.';\n",
              "          element.innerHTML = '';\n",
              "          dataTable['output_type'] = 'display_data';\n",
              "          await google.colab.output.renderOutput(dataTable, element);\n",
              "          const docLink = document.createElement('div');\n",
              "          docLink.innerHTML = docLinkHtml;\n",
              "          element.appendChild(docLink);\n",
              "        }\n",
              "      </script>\n",
              "    </div>\n",
              "  </div>\n",
              "  "
            ]
          },
          "metadata": {},
          "execution_count": 21
        }
      ]
    },
    {
      "cell_type": "code",
      "metadata": {
        "id": "pBkNRigl4b9G",
        "colab": {
          "base_uri": "https://localhost:8080/"
        },
        "outputId": "dda8051a-bd1a-4d43-a268-22ff07975948"
      },
      "source": [
        "ds_details.info()"
      ],
      "execution_count": null,
      "outputs": [
        {
          "output_type": "stream",
          "name": "stdout",
          "text": [
            "<class 'pandas.core.frame.DataFrame'>\n",
            "RangeIndex: 10 entries, 0 to 9\n",
            "Data columns (total 3 columns):\n",
            " #   Column         Non-Null Count  Dtype \n",
            "---  ------         --------------  ----- \n",
            " 0   restaurant_id  10 non-null     object\n",
            " 1   indirizzo      10 non-null     object\n",
            " 2   valutazione    10 non-null     object\n",
            "dtypes: object(3)\n",
            "memory usage: 368.0+ bytes\n"
          ]
        }
      ]
    },
    {
      "cell_type": "code",
      "metadata": {
        "id": "YSlNICg94fKj"
      },
      "source": [
        "ds_details.to_csv(\"ds_project_detailstriptestdetailsfinal.csv\")"
      ],
      "execution_count": null,
      "outputs": []
    }
  ]
}